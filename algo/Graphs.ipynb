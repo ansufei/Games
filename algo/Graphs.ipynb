{
 "cells": [
  {
   "cell_type": "code",
   "execution_count": 1,
   "metadata": {},
   "outputs": [],
   "source": [
    "lst = [[1,2],[2,6],[2,7],[2,3],[3,4],[3,5],[4,5],[8,9],[5,10]]\n",
    "pyramid = [[1,2],[1,3],[1,4],[2,5],[2,6],[4,7],[4,8], [6,7], [9,10]]\n",
    "cherries = [[1,2],[1,6],[2,3],[2,5],[3,4],[4,5],[6,9],[6,7],[8,9],[7,8]]"
   ]
  },
  {
   "cell_type": "code",
   "execution_count": 2,
   "metadata": {},
   "outputs": [
    {
     "data": {
      "text/plain": [
       "{1: [2, 3, 4],\n",
       " 2: [1, 5, 6],\n",
       " 3: [1],\n",
       " 4: [1, 7, 8],\n",
       " 5: [2],\n",
       " 6: [2, 7],\n",
       " 7: [4, 6],\n",
       " 8: [4],\n",
       " 9: [10],\n",
       " 10: [9]}"
      ]
     },
     "execution_count": 2,
     "metadata": {},
     "output_type": "execute_result"
    }
   ],
   "source": [
    "#T1.0 Create the graph dictionary\n",
    "def graph(lst):\n",
    "    graph = {}\n",
    "    for sublist in lst:\n",
    "        if not sublist[0] in graph.keys():\n",
    "            graph[sublist[0]] = [sublist[1]]\n",
    "        else:\n",
    "            graph[sublist[0]].append(sublist[1])\n",
    "        if not sublist[1] in graph.keys():\n",
    "            graph[sublist[1]] = [sublist[0]]\n",
    "        else:\n",
    "            graph[sublist[1]].append(sublist[0])    \n",
    "    return graph\n",
    "graph(pyramid)"
   ]
  },
  {
   "cell_type": "code",
   "execution_count": 19,
   "metadata": {},
   "outputs": [
    {
     "data": {
      "text/plain": [
       "{1: [2, 3, 4],\n",
       " 2: [1, 5, 6],\n",
       " 3: [1],\n",
       " 4: [8, 1, 7],\n",
       " 5: [2],\n",
       " 6: [2, 7],\n",
       " 7: [4, 6],\n",
       " 8: [4],\n",
       " 9: [10],\n",
       " 10: [9]}"
      ]
     },
     "execution_count": 19,
     "metadata": {},
     "output_type": "execute_result"
    }
   ],
   "source": [
    "#T1.0 Alternative (do not use when debugging, complicated when the dict is not ordered)\n",
    "def make_graph(lst):\n",
    "    graph_keys = list(set([x for sublist in lst for x in sublist]))\n",
    "    graph = {}\n",
    "    for key in graph_keys:\n",
    "        graph[key] = list(set([value for sublist in lst for value in sublist if value != key if key in sublist]))\n",
    "    return graph\n",
    "make_graph(pyramid)"
   ]
  },
  {
   "cell_type": "code",
   "execution_count": 4,
   "metadata": {},
   "outputs": [
    {
     "data": {
      "text/plain": [
       "True"
      ]
     },
     "execution_count": 4,
     "metadata": {},
     "output_type": "execute_result"
    }
   ],
   "source": [
    "#T1.1 find if two vertices are connected (recursion runs a dfs)\n",
    "def connected(graph, start, end):\n",
    "    if end == start:\n",
    "        return True\n",
    "    eliminate.append(start)\n",
    "    for start in graph[start]:\n",
    "        if not start in eliminate:\n",
    "            if connected(graph, start, end):\n",
    "                return True\n",
    "    return False\n",
    "eliminate = []\n",
    "connected(graph(pyramid), 2, 5)"
   ]
  },
  {
   "cell_type": "code",
   "execution_count": 72,
   "metadata": {},
   "outputs": [
    {
     "data": {
      "text/plain": [
       "[2, 6, 7, 4, 8]"
      ]
     },
     "execution_count": 72,
     "metadata": {},
     "output_type": "execute_result"
    }
   ],
   "source": [
    "#T1.2 Find the connection path (first path found) using recursion\n",
    "def recursion_dfs_path(graph, start, end):\n",
    "    if start == end:\n",
    "        return 'start = end'\n",
    "    visited.append(start)\n",
    "    for child in graph[start]:\n",
    "        if not child in visited:\n",
    "            if recursion_dfs_path(graph, child, end):\n",
    "                path.insert(0, child)\n",
    "                return path\n",
    "    return path\n",
    "visited = []\n",
    "path = []\n",
    "recursion_dfs_path(graph(pyramid), 1, 8)"
   ]
  },
  {
   "cell_type": "markdown",
   "metadata": {},
   "source": [
    "<p>BFS (breadth first traversal) = LIFO = stack => returns the first path found</p>\n",
    "<p>vs. </p>\n",
    "<p>DFS (depth first) = FIFO = queue => returns the optimal path by exploring each sub-level superficially instead of all the way down</p>\n",
    "<p>Recursions can only run DFS, and while loop can return both. Note that while loop dfs will read the children nodes in reverse order compared with recursion</p>"
   ]
  },
  {
   "cell_type": "code",
   "execution_count": 3,
   "metadata": {},
   "outputs": [],
   "source": [
    "#find_path to build the path dictoinary from end to start after the route is found\n",
    "def find_path(parent, end):\n",
    "    node = end\n",
    "    path = []\n",
    "    while node in parent.keys():\n",
    "        if not end in path:\n",
    "            path.append(end)\n",
    "        path.append(parent[node])\n",
    "        node = parent[node]    \n",
    "    return list(reversed(path))"
   ]
  },
  {
   "cell_type": "code",
   "execution_count": 21,
   "metadata": {},
   "outputs": [
    {
     "data": {
      "text/plain": [
       "[1, 4, 8]"
      ]
     },
     "execution_count": 21,
     "metadata": {},
     "output_type": "execute_result"
    }
   ],
   "source": [
    "#T1.2 Alternative Find the connection path (first path found) using a while loop\n",
    "def while_dfs_path(graph, start, end):\n",
    "    stack = [start]\n",
    "    visited = [start]\n",
    "    parent = {}\n",
    "    while stack:\n",
    "        current = stack.pop()\n",
    "        if current == end:\n",
    "            break\n",
    "        for child in graph[current]:\n",
    "            if child not in visited:\n",
    "                stack.append(child)\n",
    "                visited.append(child)\n",
    "                parent[child] = current\n",
    "    return find_path(parent, end)\n",
    "start=1\n",
    "end = 8\n",
    "eliminate = []\n",
    "while_dfs_path(graph(pyramid), start, end)"
   ]
  },
  {
   "cell_type": "code",
   "execution_count": 20,
   "metadata": {},
   "outputs": [
    {
     "data": {
      "text/plain": [
       "[1, 4, 8]"
      ]
     },
     "execution_count": 20,
     "metadata": {},
     "output_type": "execute_result"
    }
   ],
   "source": [
    "#T1.3 Find the connection path (fastest path)\n",
    "def while_bfs_path(graph, start, end):\n",
    "    queue = [start]\n",
    "    visited = [start]\n",
    "    parent = {}\n",
    "    while queue:\n",
    "        current = queue.pop(0) \n",
    "        if current == end:\n",
    "            break\n",
    "        for child in graph[current]:\n",
    "            if child not in visited:\n",
    "                queue.append(child)\n",
    "                visited.append(child)\n",
    "                parent[child] = current\n",
    "    return find_path(parent, end)\n",
    "start=1\n",
    "end = 8\n",
    "while_bfs_path(graph(pyramid), start, end)"
   ]
  },
  {
   "cell_type": "code",
   "execution_count": 128,
   "metadata": {},
   "outputs": [],
   "source": [
    "#Example using bfs & dfs with a maze (example from vbipin)\n",
    "class SearchGrid :\n",
    "    def __init__(self, rows=5, columns=5, walls=[] ) : #walls -> [ list of index ]\n",
    "        self.rows = rows\n",
    "        self.columns = columns\n",
    "        self.N = rows * columns #total cells\n",
    "        self.walls = walls\n",
    "        \n",
    "    def edges(self) : \n",
    "        \"\"\"return edges of the graph in a list of tuples (u,v)\"\"\"\n",
    "        edges = []\n",
    "\n",
    "        #Just a convenient funtion\n",
    "        def _add_edge(u, v) :\n",
    "            #we add the edge if source and destinations are not walls\n",
    "            #and within the grid\n",
    "            if u not in self.walls and v not in self.walls and u < self.N and v < self.N :\n",
    "                edges.append( (u,v) )\n",
    "        \n",
    "        #forward links and downward links\n",
    "        for i in range(self.N) :\n",
    "            if (i+1) % self.columns != 0 :#checking if it is an edge cell\n",
    "                _add_edge(i, i+1)         #connect to next cell\n",
    "            _add_edge(i,i+self.columns)  #connect to the cell below; it is i+width\n",
    "        \n",
    "        return edges\n",
    "    \n",
    "    #pretty print the grid and path if given. path -> [ list of nodes ]\n",
    "    def print(self, path=[]) :\n",
    "        for i in range(self.N) :\n",
    "            if i in self.walls :\n",
    "                print('# ', end='')\n",
    "            elif i in path :\n",
    "                print('^ ', end='')\n",
    "            else :\n",
    "                print('. ', end='')\n",
    "            if (i+1) % self.columns == 0 :\n",
    "                print(\"\")"
   ]
  },
  {
   "cell_type": "code",
   "execution_count": 129,
   "metadata": {},
   "outputs": [],
   "source": [
    "import random\n",
    "def create_walls(nwalls):\n",
    "    return [random.randint(0,grid.N-1) for _ in range(nwalls)]"
   ]
  },
  {
   "cell_type": "code",
   "execution_count": 130,
   "metadata": {},
   "outputs": [],
   "source": [
    "grid = SearchGrid(4,4,walls=[6,13])\n",
    "# g = undirected_graph(Graph(), grid.edges() )"
   ]
  },
  {
   "cell_type": "code",
   "execution_count": 131,
   "metadata": {},
   "outputs": [
    {
     "name": "stdout",
     "output_type": "stream",
     "text": [
      ". . . . \n",
      ". . # . \n",
      ". . . . \n",
      ". # . . \n"
     ]
    }
   ],
   "source": [
    "grid.print()"
   ]
  },
  {
   "cell_type": "code",
   "execution_count": 132,
   "metadata": {},
   "outputs": [
    {
     "data": {
      "text/plain": [
       "[(0, 1),\n",
       " (0, 4),\n",
       " (1, 2),\n",
       " (1, 5),\n",
       " (2, 3),\n",
       " (3, 7),\n",
       " (4, 5),\n",
       " (4, 8),\n",
       " (5, 9),\n",
       " (7, 11),\n",
       " (8, 9),\n",
       " (8, 12),\n",
       " (9, 10),\n",
       " (10, 11),\n",
       " (10, 14),\n",
       " (11, 15),\n",
       " (14, 15)]"
      ]
     },
     "execution_count": 132,
     "metadata": {},
     "output_type": "execute_result"
    }
   ],
   "source": [
    "grid.edges()"
   ]
  },
  {
   "cell_type": "code",
   "execution_count": 138,
   "metadata": {},
   "outputs": [],
   "source": [
    "grid = SearchGrid(100,30,walls=create_walls(500))"
   ]
  },
  {
   "cell_type": "code",
   "execution_count": 139,
   "metadata": {},
   "outputs": [
    {
     "data": {
      "text/plain": [
       "129"
      ]
     },
     "execution_count": 139,
     "metadata": {},
     "output_type": "execute_result"
    }
   ],
   "source": [
    "path_labyrinth = while_bfs_path(graph(grid.edges()),0,grid.N-1)\n",
    "# grid.print(path_labyrinth)\n",
    "len(path_labyrinth)"
   ]
  },
  {
   "cell_type": "code",
   "execution_count": 140,
   "metadata": {},
   "outputs": [
    {
     "data": {
      "text/plain": [
       "143"
      ]
     },
     "execution_count": 140,
     "metadata": {},
     "output_type": "execute_result"
    }
   ],
   "source": [
    "path_labyrinth1 = while_dfs_path(graph(grid.edges()),0,grid.N-1)\n",
    "len(path_labyrinth1)"
   ]
  },
  {
   "cell_type": "code",
   "execution_count": 192,
   "metadata": {},
   "outputs": [
    {
     "name": "stdout",
     "output_type": "stream",
     "text": [
      "^ ^ ^ ^ ^ ^ ^ ^ ^ ^ ^ ^ ^ ^ ^ ^ ^ ^ ^ ^ ^ ^ ^ ^ ^ ^ . . . . \n",
      ". # . . . . . . . . . . . . . . . . . . . . . . . ^ . . . . \n",
      ". . . . # . . . . . . . . . . . . . . . . . . . . ^ . . . . \n",
      ". . . . . . . . . . . . . . . . . . . . . . . . . ^ . . . . \n",
      ". . . . . . . . . . . . . . . . . . . . . . # . . ^ . . . . \n",
      ". . . . . . . . . . . . . . . . . . . . . . . . . ^ . . . . \n",
      ". . . . . . . . . . . . . . . . . . # . . . . . . ^ . . . # \n",
      ". . . . . . . . . . . . . . . . . # . . . . . . . ^ # . # . \n",
      ". . . . . . . . . . # . . . . . . . . . # . . . . ^ . . . . \n",
      "# . . . . . . . . . . . . . . . . . . . . . . . . ^ . # . . \n",
      ". . . . . . . . . . . . . . . . . . . . . . . . # ^ . . . . \n",
      ". . . . . . . . . . . . . . . . . . . . . . . . . ^ . . . . \n",
      ". . . . . . . . . . . . . . . . . . . . . . . . . ^ . . . . \n",
      "# . . . . . . . . . . . . . . . . . . . . . . . . ^ . . . . \n",
      ". . . . . . . # . . . . . . . . . . . . . . . . . ^ . . . . \n",
      ". . # . . . . . . . . . . . . # . . . . . . . . . ^ . . . . \n",
      ". . . . . . . . . . . . . . . . # . . . . . . . . ^ . . . . \n",
      ". . . . . # . . . . . . . . . . . . . . . . . . . ^ . . . . \n",
      ". . . . . . . . . . . . . # . . . . . . . . . . . ^ . . . . \n",
      ". . . . . . . . . . . . . . . . . . . . . . . . . ^ . . . . \n",
      ". . . . . . . . . . . . . . . . . # . . . . . . . ^ . . . . \n",
      ". # . . . . . . . . . . . . . . . . . . . . . . . ^ . . . . \n",
      ". . . . . . . . . . . . . . . . . . . . . . . . # ^ . . . . \n",
      ". . . . # . . . . . . . . # . . . . . . . . . . . ^ . . . . \n",
      ". # . . . . . # . . . . . # . . . . . . . . . . . ^ . . . . \n",
      ". . . . . . . . . . . . . . # . # . . . . . . . . ^ . . . . \n",
      ". . . . . . . . . . . . . . # . . . . . . . # . . ^ . . . . \n",
      ". . . . . . . . . . . . . . . . . . . . . . . . . ^ . . . . \n",
      ". . . . . . . . . . . . . . . . . . . . . . . . . ^ . . . . \n",
      ". . . . . . . . . . . . . . . . . . # . . . . . . ^ . . . # \n",
      ". . . . . . . . . . . . . . . . . . . # . . . . . ^ . . . . \n",
      ". . . . . . . . . . . . . . . . # . . . . # . . . ^ . . . # \n",
      ". . . . . . # . . . . # . . . . . . . . . . . . . ^ . . . . \n",
      ". . . . . . . . . . . . . . . . . . . . . . . . . ^ . . . . \n",
      ". . . . . . . . . . . . . . . . . . . . . . . . . ^ . . . . \n",
      ". . . . . . . . . . . . . . . . . # . . . . . # . ^ . . . . \n",
      "# . . . . . . . . . . . . . # . . . . . . . . . . ^ . . . . \n",
      ". . . . . . . . . . . . # . . . . . . . . . . . . ^ . . . . \n",
      ". . . . . . . . . . . . . . . . . . . . . . . . # ^ . . . . \n",
      ". . . . . . . . . . . . . . . . . . . . . # . . . ^ . . . . \n",
      ". . . . . # . . . . . . . . . # . . . . . . . . . ^ # . . . \n",
      "# . . # . . . . . . . . # . . . . . . . . . . . . ^ ^ . . . \n",
      ". . . . . . . # . . . # . . . . . . . . . . . . . . ^ . . . \n",
      ". . . . . . . . . . . . . . . . . . . . . . . . . . ^ . . . \n",
      ". . . . # . . . . . . . . . . . . . . . . . . . . . ^ . . . \n",
      ". . . . . . . # . . . # . . . . # . # . . . . . . . ^ . . . \n",
      "# . . . . . . . . . . . . . . . . # . . . . . . . . ^ . . . \n",
      ". . . . . . . # . . . . . # . . . . # . . . . . . . ^ . . . \n",
      ". # . . . . . . # . . . . . . . . . . . . . . . . . ^ . . . \n",
      ". . . . . . . . . . . . . . . . . . . . . . . . . . ^ . . . \n",
      ". . . . . . # . . . . . . . . . . . . . . . . . . . ^ . . . \n",
      ". . . . . . # . . . . . . . . . . . . . . . . . . . ^ . . . \n",
      ". . . . . . . . . . . . . . . . . . . . . . . . . . ^ . . . \n",
      ". # . . . . . . . . . . . . . . . . . . . # . . . . ^ . . . \n",
      ". . . . . . . . . . . . . . . . . . . . . . . . . . ^ . . . \n",
      ". . . . . . . . . . . . . . . # . . . . . . . . . . ^ . . . \n",
      ". . . . . . . . . . . . . . # . . . . . . # . . . . ^ . . # \n",
      ". . . # . # . . . . . . . # . . . . . . . . . . . . ^ . . . \n",
      ". . . . . . . . . . . . . . . . . . . # . . . . . . ^ # . . \n",
      ". . . . . . . . . . . . . . . . . . . . . . . . . # ^ ^ . . \n",
      ". . . . . . . . . . . . . . # . . . . . . . . . . . . ^ . . \n",
      ". . . . . . . . . # . . . . . . . . . . # . . . . . . ^ . . \n",
      ". . . . . . . . . . . . . . . . . . . . . . . . . . . ^ . . \n",
      "# . . # . . . . . . . . . . . . . . . . . . . . # . . ^ . . \n",
      ". . . . . . . . . . . . . . . . . . . . . . . . . . . ^ . . \n",
      "# # . . . . . . . . . . . . . . . . . . . . . . . . . ^ # . \n",
      ". . . . . # . . . # . . . . . . # . . . . . . . . . . ^ # . \n",
      ". . . . . . . . . . . . . . . . . . . . # . . . . . . ^ ^ . \n",
      ". . . . . . . . . . . . . . # . . . . . . . . . . . . . ^ . \n",
      ". . . . . . . . . . . . . . . . . . . . . . . . . . . . ^ . \n",
      ". . . . # . . . . . . . . . . . . # . . # . . . . . . . ^ . \n",
      ". . . . # . . . . . . . . . . . . . # . . . . . . . . . ^ . \n",
      ". . . . . . . . . . . . . . . . # . . . . . . . . . . . ^ # \n",
      ". . . . . . . . . . . . . . . . . . # . . . . . . . . . ^ ^ \n",
      ". . . . . . . . # . . . . . . . . . . . . . . . . . . . . ^ \n",
      ". . . . . . . . . . . . . # . . . . . . . . . . . . . . . ^ \n",
      ". . . . . . . . . . . . . . . . . . . . . . . . . . . . . ^ \n",
      ". . . . . . . . . . . . . # . . . . . . . . . . . . # . . ^ \n",
      ". . . . . . . . . . . . . . . . . . . . . . . . . . . . . ^ \n",
      ". . . . . . . . . . . . . . . . . . . . . . # . . . . . # ^ \n",
      ". . . # . . . . . . . . . . . . . . . # . . . . . . . . . ^ \n",
      "# . . . . . . . . . . . . . # . . . . . . . . . . . . . . ^ \n",
      ". . . . . . . . . . . . . . . . . . # . . . . . . . . . . ^ \n",
      ". . . . . . . . . . . . . . . . . . . . # . . . . . . . . ^ \n",
      ". . # . . . . . . . . . . . . . . . . . . . . . . . . . . ^ \n",
      ". . . . . . . . . . . . . . . . . . . . . . . . . . . . # ^ \n",
      ". . # . . . . . . . . . . . . . . . . . . . . . . . . . . ^ \n",
      ". . . . . . . . . . . . . . . # . . . . # . . . . . . . . ^ \n",
      ". . . . . . . . . . . . . . . . . . . . . . . . . . . . . ^ \n",
      ". . . . . . . . . . . . . . . . . # . . . . . . . . . . . ^ \n",
      ". . # . . . . . . . . . # . . . . . . . . . . . . . . . . ^ \n",
      ". . . . . . . . . . . # . . . . . # . . . . . . . . . . . ^ \n",
      "# . # . . . . . # . . . . . . . . . . . . . . . . . . . # ^ \n",
      ". . . . . . . . . . . . . . . . # . . . . . . . . . . . . ^ \n",
      ". . . . . . . # . . . . . . . . . . . . . . . . . . . . . ^ \n",
      ". . # . . . . # . . . . . . . . . . . . . . . . . . . . . ^ \n",
      ". . # . . . . . . . # . . . . . . . . . . # . . . . . . . ^ \n",
      ". . . . . . . . . . . . . . . . . . . . . . . . . . . . . ^ \n",
      ". . . . . . . . . . . . . . . . . . . . . . . . . # . . . ^ \n",
      ". . . . . . . . . . # . # . . . . . . . . . . . . . # . . ^ \n",
      "\n",
      "\n",
      "^ . . . . . . . . . . . . . . . . . . . . . . . . . . . . . \n",
      "^ # . . . . . . . . . . . . . . . . . . . . . . . . . . . . \n",
      "^ . . . # . . . . . . . . . . . . . . . . . . . . . . . . . \n",
      "^ . . . . . . . . . . . . . . . . . . . . . . . . . . . . . \n",
      "^ . . . . . . . . . . . . . . . . . . . . . # . . . . . . . \n",
      "^ . . . . . . . . . . . . . . . . . . . . . . . . . . . . . \n",
      "^ . . . . . . . . . . . . . . . . . # . . . . . . . . . . # \n",
      "^ . . . . . . . . . . . . . . . . # . . . . . . . . # . # . \n",
      "^ ^ . . . . . . . . # . . . . . . . . . # . . . . . . . . . \n",
      "# ^ . . . . . . . . . . . . . . . . . . . . . . . . . # . . \n",
      ". ^ . . . . . . . . . . . . . . . . . . . . . . # . . . . . \n",
      ". ^ . . . . . . . . . . . . . . . . . . . . . . . . . . . . \n",
      ". ^ . . . . . . . . . . . . . . . . . . . . . . . . . . . . \n",
      "# ^ . . . . . . . . . . . . . . . . . . . . . . . . . . . . \n",
      ". ^ . . . . . # . . . . . . . . . . . . . . . . . . . . . . \n",
      ". ^ # . . . . . . . . . . . . # . . . . . . . . . . . . . . \n",
      ". ^ . . . . . . . . . . . . . . # . . . . . . . . . . . . . \n",
      ". ^ . . . # . . . . . . . . . . . . . . . . . . . . . . . . \n",
      ". ^ . . . . . . . . . . . # . . . . . . . . . . . . . . . . \n",
      ". ^ . . . . . . . . . . . . . . . . . . . . . . . . . . . . \n",
      ". ^ ^ . . . . . . . . . . . . . . # . . . . . . . . . . . . \n",
      ". # ^ . . . . . . . . . . . . . . . . . . . . . . . . . . . \n",
      ". . ^ . . . . . . . . . . . . . . . . . . . . . # . . . . . \n",
      ". . ^ . # . . . . . . . . # . . . . . . . . . . . . . . . . \n",
      ". # ^ . . . . # . . . . . # . . . . . . . . . . . . . . . . \n",
      ". . ^ . . . . . . . . . . . # . # . . . . . . . . . . . . . \n",
      ". . ^ . . . . . . . . . . . # . . . . . . . # . . . . . . . \n",
      ". . ^ . . . . . . . . . . . . . . . . . . . . . . . . . . . \n",
      ". . ^ . . . . . . . . . . . . . . . . . . . . . . . . . . . \n",
      ". . ^ . . . . . . . . . . . . . . . # . . . . . . . . . . # \n",
      ". . ^ . . . . . . . . . . . . . . . . # . . . . . . . . . . \n",
      ". . ^ . . . . . . . . . . . . . # . . . . # . . . . . . . # \n",
      ". . ^ . . . # . . . . # . . . . . . . . . . . . . . . . . . \n",
      ". . ^ . . . . . . . . . . . . . . . . . . . . . . . . . . . \n",
      ". . ^ . . . . . . . . . . . . . . . . . . . . . . . . . . . \n",
      ". . ^ . . . . . . . . . . . . . . # . . . . . # . . . . . . \n",
      "# . ^ . . . . . . . . . . . # . . . . . . . . . . . . . . . \n",
      ". . ^ . . . . . . . . . # . . . . . . . . . . . . . . . . . \n",
      ". . ^ . . . . . . . . . . . . . . . . . . . . . # . . . . . \n",
      ". . ^ . . . . . . . . . . . . . . . . . . # . . . . . . . . \n",
      ". . ^ . . # . . . . . . . . . # . . . . . . . . . . # . . . \n",
      "# . ^ # . . . . . . . . # . . . . . . . . . . . . . . . . . \n",
      ". . ^ . . . . # . . . # . . . . . . . . . . . . . . . . . . \n",
      ". . ^ . . . . . . . . . . . . . . . . . . . . . . . . . . . \n",
      ". . ^ . # . . . . . . . . . . . . . . . . . . . . . . . . . \n",
      ". . ^ . . . . # . . . # . . . . # . # . . . . . . . . . . . \n",
      "# . ^ . . . . . . . . . . . . . . # . . . . . . . . . . . . \n",
      ". . ^ . . . . # . . . . . # . . . . # . . . . . . . . . . . \n",
      ". # ^ . . . . . # . . . . . . . . . . . . . . . . . . . . . \n",
      ". . ^ . . . . . . . . . . . . . . . . . . . . . . . . . . . \n",
      ". . ^ . . . # . . . . . . . . . . . . . . . . . . . . . . . \n"
     ]
    },
    {
     "name": "stdout",
     "output_type": "stream",
     "text": [
      ". . ^ . . . # . . . . . . . . . . . . . . . . . . . . . . . \n",
      ". . ^ . . . . . . . . . . . . . . . . . . . . . . . . . . . \n",
      ". # ^ . . . . . . . . . . . . . . . . . . # . . . . . . . . \n",
      ". . ^ . . . . . . . . . . . . . . . . . . . . . . . . . . . \n",
      ". . ^ . . . . . . . . . . . . # . . . . . . . . . . . . . . \n",
      ". . ^ . . . . . . . . . . . # . . . . . . # . . . . . . . # \n",
      ". . ^ # . # . . . . . . . # . . . . . . . . . . . . . . . . \n",
      ". . ^ . . . . . . . . . . . . . . . . # . . . . . . . # . . \n",
      ". . ^ . . . . . . . . . . . . . . . . . . . . . . # . . . . \n",
      ". . ^ . . . . . . . . . . . # . . . . . . . . . . . . . . . \n",
      ". . ^ . . . . . . # . . . . . . . . . . # . . . . . . . . . \n",
      ". . ^ . . . . . . . . . . . . . . . . . . . . . . . . . . . \n",
      "# . ^ # . . . . . . . . . . . . . . . . . . . . # . . . . . \n",
      ". . ^ . . . . . . . . . . . . . . . . . . . . . . . . . . . \n",
      "# # ^ . . . . . . . . . . . . . . . . . . . . . . . . . # . \n",
      ". . ^ . . # . . . # . . . . . . # . . . . . . . . . . . # . \n",
      ". . ^ . . . . . . . . . . . . . . . . . # . . . . . . . . . \n",
      ". . ^ . . . . . . . . . . . # . . . . . . . . . . . . . . . \n",
      ". . ^ . . . . . . . . . . . . . . . . . . . . . . . . . . . \n",
      ". . ^ . # . . . . . . . . . . . . # . . # . . . . . . . . . \n",
      ". . ^ . # . . . . . . . . . . . . . # . . . . . . . . . . . \n",
      ". . ^ . . . . . . . . . . . . . # . . . . . . . . . . . . # \n",
      ". . ^ . . . . . . . . . . . . . . . # . . . . . . . . . . . \n",
      ". . ^ . . . . . # . . . . . . . . . . . . . . . . . . . . . \n",
      ". . ^ . . . . . . . . . . # . . . . . . . . . . . . . . . . \n",
      ". . ^ . . . . . . . . . . . . . . . . . . . . . . . . . . . \n",
      ". . ^ . . . . . . . . . . # . . . . . . . . . . . . # . . . \n",
      ". . ^ . . . . . . . . . . . . . . . . . . . . . . . . . . . \n",
      ". . ^ . . . . . . . . . . . . . . . . . . . # . . . . . # . \n",
      ". . ^ # . . . . . . . . . . . . . . . # . . . . . . . . . . \n",
      "# . ^ . . . . . . . . . . . # . . . . . . . . . . . . . . . \n",
      ". . ^ . . . . . . . . . . . . . . . # . . . . . . . . . . . \n",
      ". . ^ ^ . . . . . . . . . . . . . . . . # . . . . . . . . . \n",
      ". . # ^ . . . . . . . . . . . . . . . . . . . . . . . . . . \n",
      ". . . ^ . . . . . . . . . . . . . . . . . . . . . . . . # . \n",
      ". . # ^ . . . . . . . . . . . . . . . . . . . . . . . . . . \n",
      ". . . ^ . . . . . . . . . . . # . . . . # . . . . . . . . . \n",
      ". . . ^ . . . . . . . . . . . . . . . . . . . . . . . . . . \n",
      ". . . ^ . . . . . . . . . . . . . # . . . . . . . . . . . . \n",
      ". . # ^ . . . . . . . . # . . . . . . . . . . . . . . . . . \n",
      ". . . ^ . . . . . . . # . . . . . # . . . . . . . . . . . . \n",
      "# . # ^ . . . . # . . . . . . . . . . . . . . . . . . . # . \n",
      ". . . ^ . . . . . . . . . . . . # . . . . . . . . . . . . . \n",
      ". . . ^ . . . # . . . . . . . . . . . . . . . . . . . . . . \n",
      ". . # ^ . . . # . . . . . . . . . . . . . . . . . . . . . . \n",
      ". . # ^ . . . . . . # . . . . . . . . . . # . . . . . . . . \n",
      ". . . ^ . . . . . . . . . . . . . . . . . . . . ^ ^ ^ . . . \n",
      ". . . ^ . . . . . ^ ^ ^ ^ ^ . . . . . . . . . . ^ # ^ ^ . . \n",
      ". . . ^ ^ ^ ^ ^ ^ ^ # . # ^ ^ ^ ^ ^ ^ ^ ^ ^ ^ ^ ^ . # ^ ^ ^ \n"
     ]
    }
   ],
   "source": [
    "grid.print(path_labyrinth)\n",
    "print()\n",
    "print()\n",
    "grid.print(path_labyrinth1)"
   ]
  },
  {
   "cell_type": "code",
   "execution_count": 6,
   "metadata": {},
   "outputs": [
    {
     "data": {
      "text/plain": [
       "{1: [(2, 1), (4, 2), (3, 5)],\n",
       " 2: [(1, 1), (6, 2), (5, 3)],\n",
       " 3: [(6, 1), (7, 2), (1, 5)],\n",
       " 4: [(1, 2), (7, 5), (8, 10)],\n",
       " 5: [(2, 3)],\n",
       " 6: [(3, 1), (2, 2), (7, 3)],\n",
       " 7: [(3, 2), (6, 3), (4, 5)],\n",
       " 8: [(4, 10)]}"
      ]
     },
     "execution_count": 6,
     "metadata": {},
     "output_type": "execute_result"
    }
   ],
   "source": [
    "#1.4 Add weights (create priority queue)\n",
    "#Create weighted graph\n",
    "\n",
    "#format for weighted: weight as last item in the list\n",
    "weighted = [[1,2,1],[1,3,8],[1,4,6],[2,5,4],[2,6,1],[4,7,2],[4,8,5], [6,7,1]]\n",
    "weighted1 = [[1,2,1], [1,3,5], [1,4,2], [2,5,3], [2,6,2], [3,6,1], [3,7,2], [4,7,5], [4,8,10], [6,7,3]]\n",
    "weighted2 = [[1,2,10],[1,3,5],[2,3,2],[2,4,5],[3,4,1]]\n",
    "\n",
    "def weighted_graph(graph_as_list): \n",
    "    graph_copy = graph_as_list.copy()\n",
    "    for sublist in graph_as_list:\n",
    "        new_sub_list = [sublist[i] for i in [1,0,2]]\n",
    "        graph_copy.append(new_sub_list)\n",
    "    \n",
    "    graph_keys = list(set([x[0] for x in graph_copy]))\n",
    "    \n",
    "    graph = {}\n",
    "    for key in graph_keys:\n",
    "        graph[key] = sorted([(x[1],x[2]) for x in graph_copy if x[0] == key], key=lambda tup: tup[1])\n",
    "        \n",
    "    return graph\n",
    "weighted_graph(weighted1)"
   ]
  },
  {
   "cell_type": "code",
   "execution_count": 7,
   "metadata": {},
   "outputs": [
    {
     "name": "stdout",
     "output_type": "stream",
     "text": [
      "[(5, 4), (2, 1), (4, 5)]\n",
      "[4]\n",
      "[4]\n",
      "(2, 1)\n",
      "(5, 4)\n",
      "(4, 5)\n"
     ]
    }
   ],
   "source": [
    "#Create priority queue (class). Alternative: use the heapq library\n",
    "class Pqueue():\n",
    "    \"\"\"stores nodes with their weights\n",
    "    updates the weights as the path function goes down the path\n",
    "    retrieves nodes in the order of their weights\"\"\"\n",
    "    def __init__(self, lst):\n",
    "        self.pqueue = lst\n",
    "        \n",
    "    def pop(self):\n",
    "        minimum = self.pqueue.index(min(self.pqueue, key = lambda t: t[1]))\n",
    "        return self.pqueue.pop(minimum)\n",
    "    \n",
    "    def append(self, node, weight):\n",
    "        self.pqueue.append((node, weight))\n",
    "        \n",
    "    def query(self, node):\n",
    "        query = [y for x, y in self.pqueue if x == node]\n",
    "        #query for puzzle:\n",
    "        if not isinstance(node, int):\n",
    "            for x, y in self.pqueue:\n",
    "                print('x.data, y')\n",
    "                print(x.data, y)\n",
    "            query = [y for x, y in self.pqueue if x.data == node.data]\n",
    "        print(query)\n",
    "        return query\n",
    "        \n",
    "    \n",
    "    def __len__(self):\n",
    "        return len(self.pqueue)\n",
    "        \n",
    "test = Pqueue([])\n",
    "test.append(5,4)\n",
    "test.append(2,1)\n",
    "test.append(4,5)\n",
    "print(test.pqueue)\n",
    "print(test.query(5))\n",
    "print(test.pop())\n",
    "print(test.pop())\n",
    "print(test.pop())"
   ]
  },
  {
   "cell_type": "code",
   "execution_count": 8,
   "metadata": {},
   "outputs": [
    {
     "name": "stdout",
     "output_type": "stream",
     "text": [
      "[]\n",
      "[]\n",
      "[]\n",
      "[7]\n",
      "[7]\n",
      "[]\n"
     ]
    },
    {
     "data": {
      "text/plain": [
       "[2, 6, 7, 4]"
      ]
     },
     "execution_count": 8,
     "metadata": {},
     "output_type": "execute_result"
    }
   ],
   "source": [
    "def uniform_cost_search(graph, start, end):\n",
    "    queue = Pqueue([(start,0)])\n",
    "    visited = [start]\n",
    "    parent = {}\n",
    "    while queue:\n",
    "        current, pcost = queue.pop()\n",
    "        if current == end:\n",
    "            break\n",
    "        for child, weight in graph[current]:\n",
    "            path_cost = weight + pcost\n",
    "            if child in visited and queue.query(child) and queue.query(child)[0] > path_cost:\n",
    "                queue.append(child, path_cost)\n",
    "                parent[child] = current\n",
    "            if child not in visited:\n",
    "                queue.append(child, path_cost)\n",
    "                visited.append(child)\n",
    "                parent[child] = current\n",
    "    return find_path(parent, end)\n",
    "start = 2\n",
    "end = 4\n",
    "\n",
    "uniform_cost_search(weighted_graph(weighted), start, end)"
   ]
  },
  {
   "cell_type": "code",
   "execution_count": null,
   "metadata": {},
   "outputs": [],
   "source": [
    "#pqueue class to be improved for efficiency: dictionary + sorted (tree?) + check headq module"
   ]
  },
  {
   "cell_type": "code",
   "execution_count": null,
   "metadata": {},
   "outputs": [],
   "source": [
    "#2.0 Add slip and fall situations (10% chance to end up on a child node)\n",
    "#MDP: also similar concept than queues for slip and fall (Markov Decision Process)"
   ]
  },
  {
   "cell_type": "code",
   "execution_count": 9,
   "metadata": {},
   "outputs": [
    {
     "name": "stdout",
     "output_type": "stream",
     "text": [
      "137\n",
      "256\n",
      "804\n",
      "--------\n",
      "137\n",
      "206\n",
      "854\n",
      "--------\n"
     ]
    }
   ],
   "source": [
    "#we create a simple 2darray.\n",
    "#this is just to avoid loading numpy :)\n",
    "\n",
    "#Actions #just some alias\n",
    "North = 0\n",
    "East  = 1\n",
    "South = 2\n",
    "West  = 3\n",
    "    \n",
    "#8puzzle\n",
    "class PuzzleN :\n",
    "    def __init__(self, start_config, rows=3,columns=3) : #start_config is a list with all numbers and 0\n",
    "        self.rows, self.columns = rows, columns\n",
    "        self.data  = tuple(start_config) #never modified\n",
    "        self.blank = self.data.index(0)\n",
    "        self.all_actions = [North, East, South, West]\n",
    "        self.terminal = (1,2,3,4,5,6,7,8,0)\n",
    "        \n",
    "    def actions(self) :\n",
    "        \"\"\"find the actions possible\"\"\"\n",
    "        #we assume we are moving the blank to North, South, East, West if possible\n",
    "        return [ a for a in self.all_actions if self.can_move(a) ]\n",
    "    \n",
    "    def move(self, action) :\n",
    "        \"\"\"make the move and return new class. The current class is not modified\"\"\"\n",
    "        assert self.can_move(action) #Illegal Move: Cannot make this move.\n",
    "        row, col = self.row_col(self.blank)\n",
    "        if action == North :\n",
    "            row -= 1\n",
    "        elif action == South :\n",
    "            row += 1\n",
    "        elif action == East :\n",
    "            col += 1\n",
    "        elif action == West :\n",
    "            col -= 1\n",
    "        new_blank = self.position(row,col)\n",
    "        #print (row,col)\n",
    "        #print(new_blank)\n",
    "        #we need to put zero at this new location and put the old value tot he current blank\n",
    "        new_data = list(self.data)\n",
    "        new_data[ self.blank ] = new_data[ new_blank ]\n",
    "        new_data[ new_blank ]  = 0\n",
    "        return PuzzleN(new_data, self.rows, self.columns)\n",
    "    \n",
    "    def is_terminal(self) :\n",
    "        if self.data == self.terminal :\n",
    "            return True\n",
    "        return False\n",
    "    \n",
    "    def distance(self) :\n",
    "        score = 0\n",
    "        for i, x in enumerate(self.data):\n",
    "            if x != self.terminal[i]:\n",
    "                score += 1\n",
    "        return score\n",
    "    \n",
    "    def children(self) : #reurns new states of all legal actions\n",
    "        act = self.actions()\n",
    "        if not act :\n",
    "            return None, None, None\n",
    "        return [ (self.move(a), a, 1) for a in act ]\n",
    "    \n",
    "    def can_move(self, action) :\n",
    "        \"\"\"return true if the 0 can take the action\"\"\"\n",
    "        row, col = self.row_col(self.blank)\n",
    "        #print(row,col)\n",
    "        if action is North and row == 0 :           #first row, cannot move north\n",
    "            return False\n",
    "        if action is South and row == self.rows-1 : #last row, cannot move south\n",
    "            return False        \n",
    "        if action is East and col == self.columns-1:#last column, cannot move East\n",
    "            return False\n",
    "        if action is West and col == 0 :            #first column, cannot move West\n",
    "            return False\n",
    "        return True\n",
    "        \n",
    "    #some utility funtions. We dont need them if using numpy\n",
    "    def row_col(self, i) :\n",
    "        row = i // self.columns # integer divisor\n",
    "        col = i % self.columns #int reminder\n",
    "        return row, col\n",
    "    \n",
    "    def position(self, row, col) :\n",
    "        return row * self.columns + col\n",
    "    \n",
    "    def print(self) :\n",
    "        for i in range(self.rows * self.columns) :\n",
    "            print(self.data[i], end='')\n",
    "            if (i+1) % self.columns == 0 :\n",
    "                print(\"\")\n",
    "        print('--------')\n",
    "        \n",
    "    def __hash__(self):\n",
    "        return hash(self.data)\n",
    "    \n",
    "    def __eq__(self, other):\n",
    "        return self.data == other.data\n",
    "        \n",
    "#     def __repr__(self):\n",
    "#         return str(self.data)\n",
    "    \n",
    "#     def __eq__(self, other):\n",
    "#         return self.data == other.data\n",
    "        \n",
    "###################################################################################\n",
    "\n",
    "\n",
    "#some test\n",
    "def str_to_list(s) :\n",
    "    #takes a string of ints and returns the list\n",
    "    return [ int(i) for i in s.split() ]\n",
    "s = \"\"\"\n",
    "    1 3 7\n",
    "    2 5 6\n",
    "    8 0 4\n",
    "    \"\"\"\n",
    "p = PuzzleN(str_to_list(s))\n",
    "p.print()\n",
    "q = p.move(North)\n",
    "q.print()"
   ]
  },
  {
   "cell_type": "code",
   "execution_count": 10,
   "metadata": {},
   "outputs": [
    {
     "data": {
      "text/plain": [
       "2"
      ]
     },
     "execution_count": 10,
     "metadata": {},
     "output_type": "execute_result"
    }
   ],
   "source": [
    "def while_bfs_puzzle(start):\n",
    "    queue = [start]\n",
    "    visited = [start]\n",
    "    parent = {}\n",
    "    while queue:\n",
    "        current = queue.pop(0) \n",
    "        if current.is_terminal():\n",
    "            break\n",
    "        for child, action in current.children():\n",
    "            if child not in visited:\n",
    "                queue.append(child)\n",
    "                visited.append(child)\n",
    "                print(len(visited))\n",
    "                parent[child.data] = current.data\n",
    "    print(parent)\n",
    "    return find_path(parent, current.data)\n",
    "impossible = [0,2,1,3,4,5,6,7,8]\n",
    "start = PuzzleN([1,2,3,4,5,6,7,0,8])\n",
    "# while_bfs_puzzle(start) \n",
    "start.distance()"
   ]
  },
  {
   "cell_type": "code",
   "execution_count": 11,
   "metadata": {},
   "outputs": [],
   "source": [
    "#A hacky way to create a random initial 8puzzle\n",
    "import random\n",
    "def shuffle_puzzle8(N=10) :\n",
    "    a = PuzzleN([1,2,3,4,5,6,7,8,0])\n",
    "    a.move(West).move(North)\n",
    "    for _ in range(N) :\n",
    "        act = a.actions()\n",
    "        #print(act)\n",
    "        if act:\n",
    "            a = a.move(act[random.randint(0,len(act)-1)])\n",
    "    return a"
   ]
  },
  {
   "cell_type": "code",
   "execution_count": 14,
   "metadata": {},
   "outputs": [
    {
     "name": "stdout",
     "output_type": "stream",
     "text": [
      "123\n",
      "456\n",
      "708\n",
      "--------\n",
      "current\n",
      "123\n",
      "456\n",
      "708\n",
      "--------\n",
      "child\n",
      "123\n",
      "406\n",
      "758\n",
      "--------\n",
      "case 2\n",
      "child\n",
      "123\n",
      "456\n",
      "780\n",
      "--------\n",
      "case 2\n",
      "child\n",
      "123\n",
      "456\n",
      "078\n",
      "--------\n",
      "case 2\n",
      "current\n",
      "123\n",
      "456\n",
      "780\n",
      "--------\n",
      "{(1, 2, 3, 4, 0, 6, 7, 5, 8): (1, 2, 3, 4, 5, 6, 7, 0, 8), (1, 2, 3, 4, 5, 6, 7, 8, 0): (1, 2, 3, 4, 5, 6, 7, 0, 8), (1, 2, 3, 4, 5, 6, 0, 7, 8): (1, 2, 3, 4, 5, 6, 7, 0, 8)}\n"
     ]
    },
    {
     "data": {
      "text/plain": [
       "[(1, 2, 3, 4, 5, 6, 7, 0, 8), (1, 2, 3, 4, 5, 6, 7, 8, 0)]"
      ]
     },
     "execution_count": 14,
     "metadata": {},
     "output_type": "execute_result"
    }
   ],
   "source": [
    "def a_star_search(start):\n",
    "    queue = Pqueue([(start,0)])\n",
    "    visited = [start]\n",
    "    parent = {}\n",
    "    counter = 0\n",
    "    while queue:\n",
    "        current, pcost = queue.pop()\n",
    "        print('current')\n",
    "        current.print()\n",
    "        if current.is_terminal():\n",
    "            break\n",
    "        for child, action, weight in current.children():\n",
    "            print('child')\n",
    "            child.print()\n",
    "            path_cost = child.distance() + pcost + weight\n",
    "            if child in visited and queue.query(child) and queue.query(child)[0] > path_cost:\n",
    "                print('case 1')\n",
    "                queue.append(child, path_cost)\n",
    "                parent[child.data] = current.data\n",
    "            elif child not in visited and child.data != start.data:\n",
    "                print('case 2')\n",
    "                queue.append(child, path_cost)\n",
    "                visited.append(child)\n",
    "                if child.data in parent.keys():\n",
    "                    print('check if child already a parent dict key')\n",
    "                    print(child.data)\n",
    "                parent[child.data] = current.data\n",
    "    print(parent)\n",
    "    return find_path(parent, current.data)\n",
    "        \n",
    "a = shuffle_puzzle8(5)\n",
    "a.print()\n",
    "a_star_search(a)"
   ]
  },
  {
   "cell_type": "code",
   "execution_count": 34,
   "metadata": {},
   "outputs": [
    {
     "name": "stdout",
     "output_type": "stream",
     "text": [
      "123\n",
      "056\n",
      "478\n",
      "--------\n",
      "current\n",
      "123\n",
      "056\n",
      "478\n",
      "--------\n",
      "child\n",
      "023\n",
      "156\n",
      "478\n",
      "--------\n",
      "case 2\n",
      "child\n",
      "123\n",
      "506\n",
      "478\n",
      "--------\n",
      "case 2\n",
      "child\n",
      "123\n",
      "456\n",
      "078\n",
      "--------\n",
      "case 2\n",
      "current\n",
      "123\n",
      "456\n",
      "078\n",
      "--------\n",
      "child\n",
      "123\n",
      "056\n",
      "478\n",
      "--------\n",
      "child\n",
      "123\n",
      "456\n",
      "708\n",
      "--------\n",
      "case 2\n",
      "current\n",
      "023\n",
      "156\n",
      "478\n",
      "--------\n",
      "child\n",
      "203\n",
      "156\n",
      "478\n",
      "--------\n",
      "case 2\n",
      "child\n",
      "123\n",
      "056\n",
      "478\n",
      "--------\n",
      "current\n",
      "123\n",
      "506\n",
      "478\n",
      "--------\n",
      "child\n",
      "103\n",
      "526\n",
      "478\n",
      "--------\n",
      "case 2\n",
      "child\n",
      "123\n",
      "560\n",
      "478\n",
      "--------\n",
      "case 2\n",
      "child\n",
      "123\n",
      "576\n",
      "408\n",
      "--------\n",
      "case 2\n",
      "child\n",
      "123\n",
      "056\n",
      "478\n",
      "--------\n",
      "current\n",
      "123\n",
      "456\n",
      "708\n",
      "--------\n",
      "child\n",
      "123\n",
      "406\n",
      "758\n",
      "--------\n",
      "case 2\n",
      "child\n",
      "123\n",
      "456\n",
      "780\n",
      "--------\n",
      "case 2\n",
      "child\n",
      "123\n",
      "456\n",
      "078\n",
      "--------\n",
      "current\n",
      "123\n",
      "456\n",
      "780\n",
      "--------\n",
      "{(0, 2, 3, 1, 5, 6, 4, 7, 8): (1, 2, 3, 0, 5, 6, 4, 7, 8), (1, 2, 3, 5, 0, 6, 4, 7, 8): (1, 2, 3, 0, 5, 6, 4, 7, 8), (1, 2, 3, 4, 5, 6, 0, 7, 8): (1, 2, 3, 0, 5, 6, 4, 7, 8), (1, 2, 3, 4, 5, 6, 7, 0, 8): (1, 2, 3, 4, 5, 6, 0, 7, 8), (2, 0, 3, 1, 5, 6, 4, 7, 8): (0, 2, 3, 1, 5, 6, 4, 7, 8), (1, 0, 3, 5, 2, 6, 4, 7, 8): (1, 2, 3, 5, 0, 6, 4, 7, 8), (1, 2, 3, 5, 6, 0, 4, 7, 8): (1, 2, 3, 5, 0, 6, 4, 7, 8), (1, 2, 3, 5, 7, 6, 4, 0, 8): (1, 2, 3, 5, 0, 6, 4, 7, 8), (1, 2, 3, 4, 0, 6, 7, 5, 8): (1, 2, 3, 4, 5, 6, 7, 0, 8), (1, 2, 3, 4, 5, 6, 7, 8, 0): (1, 2, 3, 4, 5, 6, 7, 0, 8)}\n"
     ]
    },
    {
     "data": {
      "text/plain": [
       "[(1, 2, 3, 0, 5, 6, 4, 7, 8),\n",
       " (1, 2, 3, 4, 5, 6, 0, 7, 8),\n",
       " (1, 2, 3, 4, 5, 6, 7, 0, 8),\n",
       " (1, 2, 3, 4, 5, 6, 7, 8, 0)]"
      ]
     },
     "execution_count": 34,
     "metadata": {},
     "output_type": "execute_result"
    }
   ],
   "source": [
    "def a_star_search(start):\n",
    "    queue = Pqueue([(start,0)])\n",
    "    visited = [start.data]\n",
    "    parent = {}\n",
    "    counter = 0\n",
    "    while queue:\n",
    "        current, pcost = queue.pop()\n",
    "        print('current')\n",
    "        current.print()\n",
    "        if current.is_terminal():\n",
    "            break\n",
    "        for child, action, weight in current.children():\n",
    "            print('child')\n",
    "            child.print()\n",
    "            path_cost = child.distance() + pcost + weight\n",
    "            if child.data in visited and queue.query(child) and queue.query(child)[0] > path_cost:\n",
    "                print('case 1')\n",
    "                queue.append(child, path_cost)\n",
    "                parent[child.data] = current.data\n",
    "            elif child.data not in visited and child.data != start.data:\n",
    "                print('case 2')\n",
    "                queue.append(child, path_cost)\n",
    "                visited.append(child.data)\n",
    "                if child.data in parent.keys():\n",
    "                    print('check if child already a parent dict key')\n",
    "                    print(child.data)\n",
    "                parent[child.data] = current.data\n",
    "    print(parent)\n",
    "    return find_path(parent, current.data)\n",
    "        \n",
    "# a = shuffle_puzzle8(5)\n",
    "a.print()\n",
    "a_star_search(a)"
   ]
  },
  {
   "cell_type": "code",
   "execution_count": 17,
   "metadata": {},
   "outputs": [
    {
     "name": "stdout",
     "output_type": "stream",
     "text": [
      "current\n",
      "120\n",
      "453\n",
      "786\n",
      "--------\n",
      "child\n",
      "123\n",
      "450\n",
      "786\n",
      "--------\n",
      "case 2\n",
      "child\n",
      "102\n",
      "453\n",
      "786\n",
      "--------\n",
      "case 2\n",
      "current\n",
      "123\n",
      "450\n",
      "786\n",
      "--------\n",
      "child\n",
      "120\n",
      "453\n",
      "786\n",
      "--------\n",
      "x.data, y\n",
      "(1, 0, 2, 4, 5, 3, 7, 8, 6) 5\n",
      "[]\n",
      "child\n",
      "123\n",
      "456\n",
      "780\n",
      "--------\n",
      "case 2\n",
      "child\n",
      "123\n",
      "405\n",
      "786\n",
      "--------\n",
      "case 2\n",
      "current\n",
      "123\n",
      "456\n",
      "780\n",
      "--------\n",
      "{(1, 2, 3, 4, 5, 0, 7, 8, 6): (1, 2, 0, 4, 5, 3, 7, 8, 6), (1, 0, 2, 4, 5, 3, 7, 8, 6): (1, 2, 0, 4, 5, 3, 7, 8, 6), (1, 2, 3, 4, 5, 6, 7, 8, 0): (1, 2, 3, 4, 5, 0, 7, 8, 6), (1, 2, 3, 4, 0, 5, 7, 8, 6): (1, 2, 3, 4, 5, 0, 7, 8, 6)}\n"
     ]
    },
    {
     "data": {
      "text/plain": [
       "[(1, 2, 0, 4, 5, 3, 7, 8, 6),\n",
       " (1, 2, 3, 4, 5, 0, 7, 8, 6),\n",
       " (1, 2, 3, 4, 5, 6, 7, 8, 0)]"
      ]
     },
     "execution_count": 17,
     "metadata": {},
     "output_type": "execute_result"
    }
   ],
   "source": [
    "a_star_search(shuffle_puzzle8(6))"
   ]
  },
  {
   "cell_type": "code",
   "execution_count": null,
   "metadata": {},
   "outputs": [],
   "source": []
  }
 ],
 "metadata": {
  "kernelspec": {
   "display_name": "Python (games)",
   "language": "python",
   "name": "games"
  },
  "language_info": {
   "codemirror_mode": {
    "name": "ipython",
    "version": 3
   },
   "file_extension": ".py",
   "mimetype": "text/x-python",
   "name": "python",
   "nbconvert_exporter": "python",
   "pygments_lexer": "ipython3",
   "version": "3.6.8"
  }
 },
 "nbformat": 4,
 "nbformat_minor": 2
}
