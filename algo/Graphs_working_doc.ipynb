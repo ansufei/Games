{
 "cells": [
  {
   "cell_type": "code",
   "execution_count": 4,
   "metadata": {},
   "outputs": [],
   "source": [
    "lst = [[1,2],[2,6],[2,7],[2,3],[3,4],[3,5],[4,5],[8,9],[5,10]]\n",
    "pyramid = [[1,2],[1,3],[1,4],[2,5],[2,6],[4,7],[4,8], [6,7], [9,10]]\n",
    "cherries = [[1,2],[1,6],[2,3],[2,5],[3,4],[4,5],[6,9],[6,7],[8,9],[7,8]]"
   ]
  },
  {
   "cell_type": "code",
   "execution_count": 5,
   "metadata": {},
   "outputs": [
    {
     "data": {
      "text/plain": [
       "{1: [2, 3, 4],\n",
       " 2: [1, 5, 6],\n",
       " 3: [1],\n",
       " 4: [1, 7, 8],\n",
       " 5: [2],\n",
       " 6: [2, 7],\n",
       " 7: [4, 6],\n",
       " 8: [4],\n",
       " 9: [10],\n",
       " 10: [9]}"
      ]
     },
     "execution_count": 5,
     "metadata": {},
     "output_type": "execute_result"
    }
   ],
   "source": [
    "#T1.0 Create the graph dictionary\n",
    "def graph(lst):\n",
    "    graph = {}\n",
    "    for sublist in lst:\n",
    "        if not sublist[0] in graph.keys():\n",
    "            graph[sublist[0]] = [sublist[1]]\n",
    "        else:\n",
    "            graph[sublist[0]].append(sublist[1])\n",
    "        if not sublist[1] in graph.keys():\n",
    "            graph[sublist[1]] = [sublist[0]]\n",
    "        else:\n",
    "            graph[sublist[1]].append(sublist[0])    \n",
    "    return graph\n",
    "graph(pyramid)"
   ]
  },
  {
   "cell_type": "code",
   "execution_count": 2,
   "metadata": {},
   "outputs": [
    {
     "data": {
      "text/plain": [
       "{1: [2, 3, 4],\n",
       " 2: [1, 5, 6],\n",
       " 3: [1],\n",
       " 4: [8, 1, 7],\n",
       " 5: [2],\n",
       " 6: [2, 7],\n",
       " 7: [4, 6],\n",
       " 8: [4],\n",
       " 9: [10],\n",
       " 10: [9]}"
      ]
     },
     "execution_count": 2,
     "metadata": {},
     "output_type": "execute_result"
    }
   ],
   "source": [
    "#T1.0 Alternative (do not use when debugging, complicated when the dict is not ordered)\n",
    "def make_graph(lst):\n",
    "    graph_keys = list(set([x for sublist in lst for x in sublist]))\n",
    "    graph = {}\n",
    "    for key in graph_keys:\n",
    "        graph[key] = list(set([value for sublist in lst for value in sublist if value != key if key in sublist]))\n",
    "    return graph\n",
    "make_graph(pyramid)"
   ]
  },
  {
   "cell_type": "code",
   "execution_count": 14,
   "metadata": {},
   "outputs": [
    {
     "data": {
      "text/plain": [
       "True"
      ]
     },
     "execution_count": 14,
     "metadata": {},
     "output_type": "execute_result"
    }
   ],
   "source": [
    "#T1.1 find if two vertices are connected (recursion runs a dfs)\n",
    "def connected(graph, start, end):\n",
    "    if end == start:\n",
    "        return True\n",
    "    eliminate.append(start)\n",
    "    for start in graph[start]:\n",
    "        if not start in eliminate:\n",
    "            if connected(graph, start, end):\n",
    "                return True\n",
    "    return False\n",
    "eliminate = []\n",
    "connected(graph(pyramid), 2, 5)"
   ]
  },
  {
   "cell_type": "code",
   "execution_count": 15,
   "metadata": {},
   "outputs": [
    {
     "data": {
      "text/plain": [
       "[2, 6, 7, 4, 8]"
      ]
     },
     "execution_count": 15,
     "metadata": {},
     "output_type": "execute_result"
    }
   ],
   "source": [
    "#T1.2 Find the connection path (first path found) using recursion\n",
    "def recursion_dfs_path(graph, start, end):\n",
    "    if start == end:\n",
    "        return 'start = end'\n",
    "    visited.append(start)\n",
    "    for child in graph[start]:\n",
    "        if not child in visited:\n",
    "            if recursion_dfs_path(graph, child, end):\n",
    "                path.insert(0, child)\n",
    "                return path\n",
    "    return path\n",
    "visited = []\n",
    "path = []\n",
    "recursion_dfs_path(graph(pyramid), 1, 8)"
   ]
  },
  {
   "cell_type": "markdown",
   "metadata": {},
   "source": [
    "<p>BFS (breadth first traversal) = LIFO = stack => returns the first path found</p>\n",
    "<p>vs. </p>\n",
    "<p>DFS (depth first) = FIFO = queue => returns the optimal path by exploring each sub-level superficially instead of all the way down</p>\n",
    "<p>Recursions can only run DFS, and while loop can return both. Note that while loop dfs will read the children nodes in reverse order compared with recursion</p>"
   ]
  },
  {
   "cell_type": "code",
   "execution_count": 8,
   "metadata": {},
   "outputs": [],
   "source": [
    "#find_path to build the path dictionary from end to start after the route is found\n",
    "def find_path(parent, end):\n",
    "    node = end\n",
    "    path = []\n",
    "    while node in parent.keys():\n",
    "        if not end in path:\n",
    "            path.append(end)\n",
    "        path.append(parent[node])\n",
    "        node = parent[node]    \n",
    "    return list(reversed(path))"
   ]
  },
  {
   "cell_type": "code",
   "execution_count": 9,
   "metadata": {},
   "outputs": [
    {
     "data": {
      "text/plain": [
       "[1, 4, 8]"
      ]
     },
     "execution_count": 9,
     "metadata": {},
     "output_type": "execute_result"
    }
   ],
   "source": [
    "#T1.2 Alternative Find the connection path (first path found) using a while loop\n",
    "def while_dfs_path(graph, start, end):\n",
    "    stack = [start]\n",
    "    visited = [start]\n",
    "    parent = {}\n",
    "    while stack:\n",
    "        current = stack.pop()\n",
    "        if current == end:\n",
    "            break\n",
    "        for child in graph[current]:\n",
    "            if child not in visited:\n",
    "                stack.append(child)\n",
    "                visited.append(child)\n",
    "                parent[child] = current\n",
    "    return find_path(parent, end)\n",
    "start=1\n",
    "end = 8\n",
    "while_dfs_path(graph(pyramid), start, end)"
   ]
  },
  {
   "cell_type": "code",
   "execution_count": 10,
   "metadata": {},
   "outputs": [
    {
     "data": {
      "text/plain": [
       "[1, 4, 8]"
      ]
     },
     "execution_count": 10,
     "metadata": {},
     "output_type": "execute_result"
    }
   ],
   "source": [
    "#T1.3 Find the connection path (fastest path)\n",
    "def while_bfs_path(graph, start, end):\n",
    "    queue = [start]\n",
    "    visited = [start]\n",
    "    parent = {}\n",
    "    while queue:\n",
    "        current = queue.pop(0) \n",
    "        if current == end:\n",
    "            break\n",
    "        for child in graph[current]:\n",
    "            if child not in visited:\n",
    "                queue.append(child)\n",
    "                visited.append(child)\n",
    "                parent[child] = current\n",
    "    return find_path(parent, end)\n",
    "start=1\n",
    "end = 8\n",
    "while_bfs_path(graph(pyramid), start, end)"
   ]
  },
  {
   "cell_type": "code",
   "execution_count": 11,
   "metadata": {},
   "outputs": [
    {
     "data": {
      "text/plain": [
       "{1: [(2, 1), (4, 2), (3, 5)],\n",
       " 2: [(1, 1), (6, 2), (5, 3)],\n",
       " 3: [(6, 1), (7, 2), (1, 5)],\n",
       " 4: [(1, 2), (7, 5), (8, 10)],\n",
       " 5: [(2, 3)],\n",
       " 6: [(3, 1), (2, 2), (7, 3)],\n",
       " 7: [(3, 2), (6, 3), (4, 5)],\n",
       " 8: [(4, 10)]}"
      ]
     },
     "execution_count": 11,
     "metadata": {},
     "output_type": "execute_result"
    }
   ],
   "source": [
    "#1.4 Add weights (create priority queue)\n",
    "#Create weighted graph\n",
    "\n",
    "#format for weighted: weight as last item in the list\n",
    "weighted = [[1,2,1],[1,3,8],[1,4,6],[2,5,4],[2,6,1],[4,7,2],[4,8,5], [6,7,1]]\n",
    "weighted1 = [[1,2,1], [1,3,5], [1,4,2], [2,5,3], [2,6,2], [3,6,1], [3,7,2], [4,7,5], [4,8,10], [6,7,3]]\n",
    "weighted2 = [[1,2,10],[1,3,5],[2,3,2],[2,4,5],[3,4,1]]\n",
    "\n",
    "def weighted_graph(graph_as_list): \n",
    "    graph_copy = graph_as_list.copy()\n",
    "    for sublist in graph_as_list:\n",
    "        new_sub_list = [sublist[i] for i in [1,0,2]]\n",
    "        graph_copy.append(new_sub_list)\n",
    "    \n",
    "    graph_keys = list(set([x[0] for x in graph_copy]))\n",
    "    \n",
    "    graph = {}\n",
    "    for key in graph_keys:\n",
    "        graph[key] = sorted([(x[1],x[2]) for x in graph_copy if x[0] == key], key=lambda tup: tup[1])\n",
    "        \n",
    "    return graph\n",
    "weighted_graph(weighted1)"
   ]
  },
  {
   "cell_type": "code",
   "execution_count": 12,
   "metadata": {},
   "outputs": [
    {
     "name": "stdout",
     "output_type": "stream",
     "text": [
      "[(5, 4), (2, 1), (4, 5)]\n",
      "[4]\n",
      "(2, 1)\n",
      "(5, 4)\n",
      "(4, 5)\n"
     ]
    }
   ],
   "source": [
    "#Create priority queue (class). Alternative: use the heapq library\n",
    "class Pqueue():\n",
    "    \"\"\"stores nodes with their weights\n",
    "    updates the weights as the path function goes down the path\n",
    "    retrieves nodes in the order of their weights\"\"\"\n",
    "    def __init__(self, lst):\n",
    "        self.pqueue = lst\n",
    "        \n",
    "    def pop(self):\n",
    "        minimum = self.pqueue.index(min(self.pqueue, key = lambda t: t[1]))\n",
    "        return self.pqueue.pop(minimum)\n",
    "    \n",
    "    def append(self, node, weight):\n",
    "        self.pqueue.append((node, weight))\n",
    "        \n",
    "    def query(self, node):\n",
    "        query = [y for x, y in self.pqueue if x == node]\n",
    "        return query\n",
    "        \n",
    "    def __len__(self):\n",
    "        return len(self.pqueue)\n",
    "        \n",
    "test = Pqueue([])\n",
    "test.append(5,4)\n",
    "test.append(2,1)\n",
    "test.append(4,5)\n",
    "print(test.pqueue)\n",
    "print(test.query(5))\n",
    "print(test.pop())\n",
    "print(test.pop())\n",
    "print(test.pop())"
   ]
  },
  {
   "cell_type": "code",
   "execution_count": 13,
   "metadata": {},
   "outputs": [
    {
     "data": {
      "text/plain": [
       "[2, 6, 7, 4]"
      ]
     },
     "execution_count": 13,
     "metadata": {},
     "output_type": "execute_result"
    }
   ],
   "source": [
    "def uniform_cost_search(graph, start, end):\n",
    "    queue = Pqueue([(start,0)])\n",
    "    visited = [start]\n",
    "    parent = {}\n",
    "    while queue:\n",
    "        current, pcost = queue.pop()\n",
    "        if current == end:\n",
    "            break\n",
    "        for child, weight in graph[current]:\n",
    "            path_cost = weight + pcost\n",
    "            if child in visited and queue.query(child) and queue.query(child)[0] > path_cost:\n",
    "                queue.append(child, path_cost)\n",
    "                parent[child] = current\n",
    "            if child not in visited:\n",
    "                queue.append(child, path_cost)\n",
    "                visited.append(child)\n",
    "                parent[child] = current\n",
    "    return find_path(parent, end)\n",
    "start = 2\n",
    "end = 4\n",
    "\n",
    "uniform_cost_search(weighted_graph(weighted), start, end)"
   ]
  },
  {
   "cell_type": "code",
   "execution_count": null,
   "metadata": {},
   "outputs": [],
   "source": [
    "#pqueue class to be improved for efficiency: dictionary + sorted (tree?) + check headq module"
   ]
  },
  {
   "cell_type": "code",
   "execution_count": null,
   "metadata": {},
   "outputs": [],
   "source": [
    "#T1.5 A-Star (bfs using graph weighted with heuristic function)\n",
    "def a_star_search(start):\n",
    "    queue = Pqueue([(start,0)])\n",
    "    visited = [start]\n",
    "    parent = {}\n",
    "    counter = 0\n",
    "    while queue:\n",
    "        current, pcost = queue.pop()\n",
    "        if current.is_terminal():\n",
    "            break\n",
    "        for child, action in current.children():\n",
    "            path_cost = child.distance() + pcost\n",
    "            if child in visited and queue.query(child) and queue.query(child)[0] > path_cost:\n",
    "                queue.append(child, path_cost)\n",
    "                parent[child.data] = current.data\n",
    "            elif child not in visited and child.data != start.data:\n",
    "                queue.append(child, path_cost)\n",
    "                visited.append(child)\n",
    "                parent[child.data] = current.data\n",
    "    return find_path(parent, current.data)"
   ]
  },
  {
   "cell_type": "code",
   "execution_count": null,
   "metadata": {},
   "outputs": [],
   "source": [
    "#2.0 Add slip and fall situations (10% chance to end up on a child node)\n",
    "#MDP: also similar concept than queues for slip and fall (Markov Decision Process)"
   ]
  }
 ],
 "metadata": {
  "kernelspec": {
   "display_name": "Python (games)",
   "language": "python",
   "name": "games"
  },
  "language_info": {
   "codemirror_mode": {
    "name": "ipython",
    "version": 3
   },
   "file_extension": ".py",
   "mimetype": "text/x-python",
   "name": "python",
   "nbconvert_exporter": "python",
   "pygments_lexer": "ipython3",
   "version": "3.6.8"
  }
 },
 "nbformat": 4,
 "nbformat_minor": 2
}
