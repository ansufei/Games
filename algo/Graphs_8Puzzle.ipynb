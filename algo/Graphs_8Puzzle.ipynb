{
 "cells": [
  {
   "cell_type": "code",
   "execution_count": 1,
   "metadata": {},
   "outputs": [
    {
     "name": "stdout",
     "output_type": "stream",
     "text": [
      "137\n",
      "256\n",
      "804\n",
      "--------\n",
      "137\n",
      "206\n",
      "854\n",
      "--------\n"
     ]
    }
   ],
   "source": [
    "#we create a simple 2darray.\n",
    "#this is just to avoid loading numpy :)\n",
    "\n",
    "#Actions #just some alias\n",
    "North = 0\n",
    "East  = 1\n",
    "South = 2\n",
    "West  = 3\n",
    "    \n",
    "#8puzzle\n",
    "class PuzzleN :\n",
    "    def __init__(self, start_config, rows=3,columns=3) : #start_config is a list with all numbers and 0\n",
    "        self.rows, self.columns = rows, columns\n",
    "        self.data  = tuple(start_config) #never modified\n",
    "        self.blank = self.data.index(0)\n",
    "        self.all_actions = [North, East, South, West]\n",
    "        self.terminal = (1,2,3,4,5,6,7,8,0)\n",
    "        \n",
    "    def actions(self) :\n",
    "        \"\"\"find the actions possible\"\"\"\n",
    "        #we assume we are moving the blank to North, South, East, West if possible\n",
    "        return [ a for a in self.all_actions if self.can_move(a) ]\n",
    "    \n",
    "    def move(self, action) :\n",
    "        \"\"\"make the move and return new class. The current class is not modified\"\"\"\n",
    "        assert self.can_move(action) #Illegal Move: Cannot make this move.\n",
    "        row, col = self.row_col(self.blank)\n",
    "        if action == North :\n",
    "            row -= 1\n",
    "        elif action == South :\n",
    "            row += 1\n",
    "        elif action == East :\n",
    "            col += 1\n",
    "        elif action == West :\n",
    "            col -= 1\n",
    "        new_blank = self.position(row,col)\n",
    "        #print (row,col)\n",
    "        #print(new_blank)\n",
    "        #we need to put zero at this new location and put the old value tot he current blank\n",
    "        new_data = list(self.data)\n",
    "        new_data[ self.blank ] = new_data[ new_blank ]\n",
    "        new_data[ new_blank ]  = 0\n",
    "        return PuzzleN(new_data, self.rows, self.columns)\n",
    "    \n",
    "    def is_terminal(self) :\n",
    "        if self.data == self.terminal :\n",
    "            return True\n",
    "        return False\n",
    "    \n",
    "    def distance(self) :\n",
    "        score = 0\n",
    "        for i, x in enumerate(self.data):\n",
    "            if x != self.terminal[i]:\n",
    "                score += 1\n",
    "        return score\n",
    "    \n",
    "    def children(self) : #reurns new states of all legal actions\n",
    "        act = self.actions()\n",
    "        if not act :\n",
    "#             return None, None, None\n",
    "#         return [ (self.move(a), a, 1) for a in act ]\n",
    "            return None, None\n",
    "        return [ (self.move(a), a) for a in act ]\n",
    "    \n",
    "    def can_move(self, action) :\n",
    "        \"\"\"return true if the 0 can take the action\"\"\"\n",
    "        row, col = self.row_col(self.blank)\n",
    "        #print(row,col)\n",
    "        if action is North and row == 0 :           #first row, cannot move north\n",
    "            return False\n",
    "        if action is South and row == self.rows-1 : #last row, cannot move south\n",
    "            return False        \n",
    "        if action is East and col == self.columns-1:#last column, cannot move East\n",
    "            return False\n",
    "        if action is West and col == 0 :            #first column, cannot move West\n",
    "            return False\n",
    "        return True\n",
    "        \n",
    "    #some utility funtions. We dont need them if using numpy\n",
    "    def row_col(self, i) :\n",
    "        row = i // self.columns # integer divisor\n",
    "        col = i % self.columns #int reminder\n",
    "        return row, col\n",
    "    \n",
    "    def position(self, row, col) :\n",
    "        return row * self.columns + col\n",
    "    \n",
    "    def print(self) :\n",
    "        for i in range(self.rows * self.columns) :\n",
    "            print(self.data[i], end='')\n",
    "            if (i+1) % self.columns == 0 :\n",
    "                print(\"\")\n",
    "        print('--------')\n",
    "        \n",
    "    def __hash__(self):\n",
    "        return hash(self.data)\n",
    "    \n",
    "    def __eq__(self, other):\n",
    "        return self.data == other.data\n",
    "        \n",
    "#     def __repr__(self):\n",
    "#         return str(self.data)\n",
    "        \n",
    "###################################################################################\n",
    "\n",
    "\n",
    "#some test\n",
    "def str_to_list(s) :\n",
    "    #takes a string of ints and returns the list\n",
    "    return [ int(i) for i in s.split() ]\n",
    "s = \"\"\"\n",
    "    1 3 7\n",
    "    2 5 6\n",
    "    8 0 4\n",
    "    \"\"\"\n",
    "p = PuzzleN(str_to_list(s))\n",
    "p.print()\n",
    "q = p.move(North)\n",
    "q.print()"
   ]
  },
  {
   "cell_type": "code",
   "execution_count": null,
   "metadata": {},
   "outputs": [],
   "source": [
    "from graphs import Pqueue, find_path"
   ]
  },
  {
   "cell_type": "code",
   "execution_count": 2,
   "metadata": {},
   "outputs": [
    {
     "data": {
      "text/plain": [
       "2"
      ]
     },
     "execution_count": 2,
     "metadata": {},
     "output_type": "execute_result"
    }
   ],
   "source": [
    "def while_bfs_puzzle(start):\n",
    "    queue = [start]\n",
    "    visited = [start]\n",
    "    parent = {}\n",
    "    while queue:\n",
    "        current = queue.pop(0) \n",
    "        if current.is_terminal():\n",
    "            break\n",
    "        for child, action in current.children():\n",
    "            if child not in visited:\n",
    "                queue.append(child)\n",
    "                visited.append(child)\n",
    "                print(len(visited))\n",
    "                parent[child.data] = current.data\n",
    "    print(parent)\n",
    "    return find_path(parent, current.data)\n",
    "impossible = [0,2,1,3,4,5,6,7,8]\n",
    "start = PuzzleN([1,2,3,4,5,6,7,0,8])\n",
    "# while_bfs_puzzle(start) \n",
    "start.distance()"
   ]
  },
  {
   "cell_type": "code",
   "execution_count": 3,
   "metadata": {},
   "outputs": [],
   "source": [
    "#A hacky way to create a random initial 8puzzle\n",
    "import random\n",
    "def shuffle_puzzle8(N=10) :\n",
    "    a = PuzzleN([1,2,3,4,5,6,7,8,0])\n",
    "    a.move(West).move(North)\n",
    "    for _ in range(N) :\n",
    "        act = a.actions()\n",
    "        #print(act)\n",
    "        if act:\n",
    "            a = a.move(act[random.randint(0,len(act)-1)])\n",
    "    return a"
   ]
  },
  {
   "cell_type": "code",
   "execution_count": 7,
   "metadata": {},
   "outputs": [
    {
     "name": "stdout",
     "output_type": "stream",
     "text": [
      "123\n",
      "460\n",
      "758\n",
      "--------\n"
     ]
    },
    {
     "data": {
      "text/plain": [
       "[(1, 2, 3, 4, 8, 0, 7, 6, 5),\n",
       " (1, 2, 3, 4, 8, 5, 7, 6, 0),\n",
       " (1, 2, 3, 4, 8, 5, 7, 0, 6),\n",
       " (1, 2, 3, 4, 0, 5, 7, 8, 6),\n",
       " (1, 2, 3, 4, 5, 0, 7, 8, 6),\n",
       " (1, 2, 3, 4, 5, 6, 7, 8, 0)]"
      ]
     },
     "execution_count": 7,
     "metadata": {},
     "output_type": "execute_result"
    }
   ],
   "source": [
    "def a_star_search(start):\n",
    "    queue = Pqueue([(start,0)])\n",
    "    visited = [start]\n",
    "    parent = {}\n",
    "    counter = 0\n",
    "    while queue:\n",
    "        current, pcost = queue.pop()\n",
    "        if current.is_terminal():\n",
    "            break\n",
    "        for child, action in current.children():\n",
    "            path_cost = child.distance() + pcost\n",
    "            if child in visited and queue.query(child) and queue.query(child)[0] > path_cost:\n",
    "                print('case 1')\n",
    "                queue.append(child, path_cost)\n",
    "                parent[child.data] = current.data\n",
    "            elif child not in visited and child.data != start.data:\n",
    "                queue.append(child, path_cost)\n",
    "                visited.append(child)\n",
    "                parent[child.data] = current.data\n",
    "    return find_path(parent, current.data)\n",
    "        \n",
    "a = shuffle_puzzle8(5)\n",
    "a.print()\n",
    "a_star_search(PuzzleN([1, 2, 3, 4, 8, 0, 7, 6, 5]))"
   ]
  },
  {
   "cell_type": "code",
   "execution_count": null,
   "metadata": {},
   "outputs": [],
   "source": [
    "a_star_search(shuffle_puzzle8(100))"
   ]
  },
  {
   "cell_type": "code",
   "execution_count": null,
   "metadata": {},
   "outputs": [],
   "source": [
    "#Check if the puzzle is solvable\n",
    "def getInvCount(arr): \n",
    "    inv_count = 0; \n",
    "    for i in range(3):\n",
    "        for j in range(3):\n",
    "            if (arr[j][i] > 0) & (arr[j][i] > 0) & (arr[j][i] > arr[i][j]):\n",
    "                inv_count += 1 \n",
    "    return inv_count \n",
    "def isSolvable(puzzle):\n",
    "    invCount = getInvCount(puzzle) \n",
    "    return (invCount % 2 == 0)\n",
    "puzzle = [[4,8,7],[5,6,3],[1,2,0]]\n",
    "isSolvable(puzzle)"
   ]
  },
  {
   "cell_type": "code",
   "execution_count": null,
   "metadata": {},
   "outputs": [],
   "source": []
  }
 ],
 "metadata": {
  "kernelspec": {
   "display_name": "Python (games)",
   "language": "python",
   "name": "games"
  },
  "language_info": {
   "codemirror_mode": {
    "name": "ipython",
    "version": 3
   },
   "file_extension": ".py",
   "mimetype": "text/x-python",
   "name": "python",
   "nbconvert_exporter": "python",
   "pygments_lexer": "ipython3",
   "version": "3.6.8"
  }
 },
 "nbformat": 4,
 "nbformat_minor": 2
}
