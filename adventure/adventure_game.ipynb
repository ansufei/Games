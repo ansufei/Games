{
 "cells": [
  {
   "cell_type": "code",
   "execution_count": null,
   "metadata": {},
   "outputs": [],
   "source": [
    "import random\n",
    "import time "
   ]
  },
  {
   "cell_type": "code",
   "execution_count": 5,
   "metadata": {},
   "outputs": [
    {
     "data": {
      "text/plain": [
       "'BRDMMMMDRDRRRRQQQRRQQRRRRRRBBRBRRRRRRRDRQQDQDM@XW@@DDDDRRRRRRRDDMMDDMDMMMMMMMMMM@&&&WX&@MDRRBBRBBBBBBRRRQM@MM@@@@@@&@@@MM@@@@@@@@@@@M@@@@@W@@@@@@@@MM@@M@MMM@@@M@MMMDMMMDRQRRRRRRRBQRRRRRRDRRRRRQRRRRRRRRQQRRRRR\\nBBBRRBRBBBBHHHHHHHBBBRRRBBBBRRRQRRBRRRRQRDDQM&W@DBBBRBRRBRQRMM@@@&W@&&W&XWWWWW&&XXXXXXXW@MMMMDDQDDMM@MMM@&WWXXmXWXXmmXXW&&W&&WXXWWWW&W@&&&WWW&@@@MMMMMMMMMQMMMMMDDQBQDDQRBRRQRBBBBRRRRRBBRQQRRRRRRRRRRRRBRDRRRRR\\nQDDDDDDDQQDMMMMMMMM@@@MMMMMMMMMMMMMMM@&&&@@@&MQDMM@@@@@@&&&WWW&&WXX&WXW&WXWXXXXWXXXmXXXXXWXW&@@@WWWXXXG0GmXW&&&@&@W&@@@M@MMMMMMM@@&@@@@&@@@@MM@MMDMMMMMMDMDDMDDRQDDQDQBRBRRRDRBRBBRRRRRRRRDMRQRRQRQRRRQRRRRRRRBR\\nDDMMMMMMMMMMMMMMMMMMMMM@MMM@@@@MMMMMMMMMMMMMMM@@@&&WWWXXXXXXXXXmOmmmmXXXmmXXXWXXXXXXWWXWW&WW&&@&XXXmOmmgAPGW&@@@@M@@@@MMMM@MMMMMMMDMMMDMMMDD@MM@MDMDDMMDDDDRQDDDRRRQQRRRRRRDMQBRRRRRRBBBBBRRRQRBRRQDRRQMRRQDQQMQ\\nRRRRRRRRRRQRQQQRDQQQDDMMMMMMMMMMDMMMMMMMMMM@@@@@@@&WXXXXmmmmmOOOGOOOOOGGGPOOmmOmXXXXXXXXXXXXWWXWWXXGPPPX&&&&&W@M&@M@@MMMMMMM@MMMMMMMMMMMMMMM@MDMMMMMDDMMDDQQMDRDDQBBQQMQDDRQDRRRRRDRQQRRRQRRDRRRRRQDDQQQRDDMQM@Q\\nRRQRQDDDMMDDDQDDDDDDDDDDQQQDMDMDDMMMMMMMMMDDDDMMM@&XXXXXXXXmmmmmmmmXXXmXXmmOmmmmXmmmAkAOmXWXXXXXOOGGPZGmm@@&@@M@@@@@@@MM@M@@MDMMMMMMDQMMMMMDMMMMMQMDDMMMDDDMRDDMDQRQDMDQRRRDMQRRDRRMMDMDRRRQMRDMRQQMMDDRRDBRD&@M\\nDMQQDMDDQDDQQDRDMDQRQRRRQQDDMMMMMMMMMM@@MMMM@@@@@&WWW&XXWWWWWXX&WWW&WWWWXmmmXXXmmmX@P1+}s2uCkPmXmXXmkPXW@M@@@MMM@MM@MM@@@M@@MMM@@M@MMMMMM@@MM@@MMMMQMMMMDMRDMMMQMMMMMDMMDMMDDQQQMQRDMMMRQQQDQQDRRRRRRQMMDDMMMMDQ\\nMMM@@@@@@@@@@@@@@@@MMM@M@@@@@@WWWWW&&&@@MMMMDMMMMMM@&@WWW&&&@&W@W&@&&WWWXXXXXXXmXXXMXe+}}tt?ticenTFPAXWW@@@&W@@@@&MM@X@MMM@MM@MMMM@M@MMM@MMMMMMMMMDDDDDDDDDMDDQMMMMMMDQMMDMQQMQDDMMQ@MMMMDMMMMMDDDRMMMMMMMMMDMDM\\nDM@M@M@&@@@@@@@&@@MMMM@@@@@@@@@WWXXXXXXXWW&&W&&W&WXXmXmmXWXXXXWW&&&WW&W&XXWWXXXXXXX&M%++}ttttt?j???jlI8kOXX@@@MM@@M@MW@MMMMMM@@M@MMM@@MM@M@@@@MMM@MMMMM@@@MM@M@MMMMDDDQDMMDMQMMMMMMMDDMMMM@MMDMMMMRQDMMMMMM@@MRD\\nDMDMMMM@@MMM@@@MMM@&&@&&@W&@WWXXXXXmmXXmXmXXmXXXmXmXXWWWWWWXXXXXXXXWWXXXXXmmXXmmmmXXRX5+}it?ttts??t???j71veChAOX@M@M@W&@&@MMMMMD@@@@@MM@MMMM@@@&MM@MMM@MM@@MMMMMD@MQRQQQDMMMMDM&@MM&@MMMMMDMMMMMDMD@DDDDDM@&MDDM\\nDDMMMMMMMMMMMMMM@&@@&&&W&&&WWWWWXXXXXXXXXX&&W&W&WWWWWWWWWXXWXXXmmmXXmmmmXXmmXXmXXmmXB&k++}i}ttiiiii??jss7711vvrceC0AO@M@&@@@MMMDMMMMM@MM@@@@@@@@MM@@@@W@@X@@MMMMMMMDDMMDM@MMMDDMMDMMMMMMMMMMMMMDMMDMMMMMMDM@@MMM\\n@@MMMMM@@@W&&&WW&WWWXXXW@@M@@@@@&WWWWWWW&&W&&&&&@@&&WWXXXXXXmXXXXmOmXXXXXXXmXXXXmmm@Q&Oniv7ji}}}}}??ttt?i??j771vcvvccvc2nqZPX@@@@MM@@@M@@@M@@@@MM@MMMMM@MMMDM@DMMM@MMM@@@@MMM@MM@@@MMMM@@MDM@@@M@MMMMMMDDMMMM@DM\\nM@@MM@@@@&WWWWXWXWW&@@MMMDMDDQMMMMMMMMMMMMM@M@@@@@WWW&XXXWXXXXXmXXmOmmXXWmmmOOmmmXXRB@MMhazcz3C$x?it?j?tt?tttt?j1171cccccv1s1en$FPX&@&@&@MM@@@MMM@M@@M@@@MM@MMMMM@MMMM@MM@@M&@MMDM@MMMMMDMMMM@MMM@WMMMMMM@MMMMMQ\\nMM@@@MMM@@@M@@@@@@@@@MMMMDDDMQMMMMMMDQMMM@M@M@@@@@@@@@WWWXXWWWWWWWWXXXXXXXXXmXXWWXWBHR@@C}????txXQgcittit??????jss?r1r1771vv1v111rven$gAGW&M@&@@MMMMMMDM@MMMMMM@@@@M@@@@M@XM&@MMM@MM@MDD@MM@MMM@MM@MMDDMMM@MM@MM\\nMMMMMMMMMMM@@MMMMMM@@M@MMMMMMMM@@MDDMDMMM@&@&@@@@&WWWXXXW&&&&WWWWW&WWWWWWXWWW&WW&W@HB@@@Ps+}}}?s7PHDSt?tittitii???jjsj?77js1117r1171cvvrs18&M@M@M@MM@@M@@@MMMMMM@@@MM@MM@WW@@MM@DMMD@MMM@MM@@M@MMM@MMMMM@@@@@@MM\\nMMMM@MMMMMDQQRRDRQMM@M@@MMM@WmMMMMM@MMMDM@@MMMMM@@@&@&&&&@@&WXX&WWWXWWXWW&&WWWWWPMDMBM@WXn}}+}t?t1kBH0it}i}}iittitjsj?jj??tt?11jsjs111111cc0MM&&@MM@@M&mhG@M@@@@&WX&@@&@M@@MMM@@@MMM@MM&MM@@&M@@MMMMD@@@MMM@@@D@\\n@DMDDRDDRRRDQRRQDRQW@W@MMMMMMMMMMMMMMMMMMMMM@@@@@&&@@@&@@@@@W&WWXWWXXXWWWWWWWWWPX@gmRRMXmA7+++++it}a@BZtjrjtii??i}i?sj11rs??ttj?jss1vvv1vvllhDMMM@mFX@@@@@@@M&&W&@@&@@&@&@@@@@@@@@@M@M@@MM@W@@@MMMM@@@MWM@@&W@@@\\nRBRQRRBRBRQQMDDDDDRRQQQRDMM@@MMDMM@@@XW@P&M@@@@@@@@&W&&&&&@@&&&&WXXWWWWXmWWW&WWRW000PmRBB@8+++++++++}aA%ttiijs?i}t??ttt??sj??tttt??jrl2zlvvcvwQM&MW@@@@&@M@@M@WWMM&M@&@&M@mX@@@MM@@@@@M@@@@&W&@MD@@MMMMMM@@@&&@@\\nQRRDMDMMMM@@@@@@MM@@MMMMMMM@@M&XM@@@@&&Gh0AAPgAm@@@WW@&W&&@&WWWXXWWWXXXXXmmmmmQMmP$0GPPGBQPs\"++++++++}}vCCj}}}iti}+}}iii??j?ttttttit??j?jrvzzvwQD@X@mC%W&&PX@W&@M@&@@&WWGW@&X@@M@MM@@&@M&@@&@XWM@@@@WWW@@@W@&@M@\\nMDMMM@@@@@@M@@&&&&@XpPMDM&@@@&@@@@@WMXnn]ICCC$TC0X&W&&WWW&WWXXXmXXXXXXXmOGmmmD@PXPGkPu>vGBGu+++\"\"++++++}i]Psi}ti++}t??tt?tj7117?t}}t?rjtsssvllvTRM&@&WW@@Ozch&@GWW&@@@@@X&XW&MM@WMM@@M@&&@@@@MMM@@M@W&W@@@&W@@W@\\nMM@@@@MM@@@@M@@@W&@WX0XMWP@@mnP@@&WWPazlzcst?77llkXXXP0OXWWXXXWXW&WXXXWXXOmmDHm$0XMgzx> |qAzc\"++\"++++\"\"+tcg2+}trt+++}}}t?j?s7s1vrs?tt?v1jv171zzlqM@@@AXF0WXm&XWM@X@O@&MM@&&@@@@@@MQMM@MMMM@&M@&@@@PW@@@@&&MM@X&X\\n@M@MM@DRDMMMM&XXWW@@MMM&W@@@@OmX&XmG3zlcc7rj?js1lP&XPPXWWWmmWW&W&WWX&WWWXXmXB0Ibc$G+iz_   zva}\"++++?qAPPPA2+++}iiii+++}}}tit7ttti?jjj?r1rtiisr17v$&&@@@@@@@@@@M&&W&W@@@@WXW@MMM&M@X&MM@@&&@M@M@@@m@@@@@&&@MM@X@@\\n@@@M&@MM@@@M@W@W&@MMMMM@M&&&WXXWXmmqne]ICTCnuz2ugWP00PXXXWXP@&XOXWWW&XXXOFgFeaclCXalz\\\\``  `zz~+?i+C@k+}}i}+++++++++++}}+++++}}it?tt??rjti?ttjv7sclq&@@@@W&WXX@@&&&&&@@@&@MXW@&m@@W@M&&&@@&@M@XXXW@WW&@@&WWW@@&W&\\n@@@@@@@@@@@@@W&@W&XMM@M@@XmXXPAXPkPXmXWXXX&&@WXW&WWGOXGPgAGWmXXmXAXXXXXOmSlslc_}mM]\"el^`   `}uaax8XX31tt++++++++++++++}}+++++}+}ii+}}}i?1cclvrsr1jc%@XWXXXmW@@@&&WmmXWXm&&WXW&@@@@@W&W@@&mm@@WmXW@&X@&WWXXWm&&XW\\n@@&@&@@@@@&@WWWW&&&&W@WX$l2FWmGW&@PFPOTx2lahmmW&XW&XP&Wb2AAW&WXqlilz%mP0ez2zzcnPGGA}]t:    ` |nGRRRACnezzrl1?ti+++++++++++++}i}++++}++}ttjs1s?1vcjlcqXX&mmWXWWWX&MXmXXWW&@@&&@@@@@POOP@@W&XX&W@W&&WWW@WX@&WXXmmX\\n&&W&@@@@@@WXXWXXWW@WWXG5eqAXX@@@&&ns5zv11lenPmPSCxzzz0CzcO@@WpGPgF0kFOOma3aecbAZ%%Seut         `+c1~ipPPAhwazcllzzjti+itti}+}++}++}t}+}}}iist?vjvcz1?bXmXX&@mmX&WmmmWXXGXW&&OGXXXWX&@@W@WXXW&WXmPXXW&XX&@&WmmXXW\\nWWWW&@@M@@@WW&WW@@@&XXmAmXXW&@MM@W8aICF0AAGmP$llxCSCI]uaanO@@mOFPOAGPAPmxlz2zuhTIzlaclv_         ````,s$Pm&&O%CqnCn]zzzzllvi+}}}i+}}++}+i?ii}}}}i}ts7?$XX&&M@&&XXWXGm&@mXWWmzlzq%mmWOPWmOXWmmX@&WXW&X@&XW&@WmWW&\\n&@@@@@@MM@@&@M@@MMM@&&WXW&WXXXMMMM@@@@M@MPq$08ni}?axenzIqAmAAXXgAOPFAAgFu2cr1caCl5Cn7s77,           ``\\'\\\\2gPGmOPgFAPPpC8g$xCnuzzlv+}ts?i}i?tt}}ittt?}t?}8XWX&XW&WWWXXXWWXWWW@OPGmWXXXmXWWWW&XOmW@WXWXmW&XXM&WW&XX\\n@M@W&WWWW@@@@@&@@@@WWXXXXPAW@&XWW&@@@&@@@XA@XauCCzzzzzenGXOPWOm0CFOFPAbTllvtii1ll7I57t}}+, ``  `      ```,c%gkZkC]+7a0g@BBMmmA0IInu2zzccrti}}}}i+}+it}}+]XXmXmWW&&WXX&W&@&XWX&WXW&X@WXWX&@@XPGW&WWWmXXXOXAPXmXWW\\n@@@WmXmmOOmmmOX@@XmmXmmmmmPXWWWWW&&&W@A0P&@@XAFhk00%0FAmmPmmXmFOXPmOm0CP%2cl1vzzcrzz?c\"\"|>\\\\\"?s\\\\-         ``~+zz?\\\\\\'^~+nZ&@WWA@MRRD&OAhqIqw8e2zzzr}++}i}}tt2O&&O$0W&WW&XWmX&W&mXWmOGOW&WWX&WX&&&WWWXXmXWWXW&&XXXXG\\n&WXXXmPXWXXXXXXWWWXXXXXWXWWWW&W&WWWW&@nqXWWWXXWWW&@@M@@@mPXXXXXXXmPmg7zt7zcve2zvc2le8nlli\\\\|+\"\\\\\\\\,`      ``,\\'in2>?8C>+nAXmXX&XWXWW&@@@DQM@WGAZwCnnnazzli++t?aXXmgGXWWX&XXmWWPGW&PP5i7ImWW&&XOWgFmXXXXXWWXXXXWWmXOP\\nWWW&XmmXXXW&&@WWWWW&@@@@MM@@&W&&WW&&WXXWWW@M@M@@MM@@@W&@WXWWW@&W&WWGclz111vv2nezxxlzir1t||>t>^\\\\`   ````\\\\+j+\"|\"^+szzFXWWOXmX@@WW&XW&@@WW@W@M&M@XPPg0Cw%bnx2zzpWW&W&W@@@XmX@&GXXXgv}%XXXXXWXX@mGXX&XXX&&XWOGGPOOGW\\nM@&&WXW@@MMMMMM@MMQM@M@MMM@M@M@@M@@M&@MMMMMMMM@MM@@@&@XOAWWXXPPWPqnIiccrs7llzneu88C7ctti+\"+\"\"cS+```,^^|}0ac2|\\\\^+$$0GXOmmXXXAnXGmWWX&@AXGmW@&@WWW@MXP@WGGPua08mXXW@XmWWWXX@@WXXWW&XmWXWXXXWW&&mmXXPOWWXmGOPGXmmmm\\nQDDDMDM@MMMRMQRRDDMDDQMM&@DMMMQM@MMMDQMMDM@MMM&&@&XWWXgAhPPWW&WXTv1?+it?7lzctlczzz>\">}z\"\"71i5Inp%z,|C0%Crl1\"_\\\\\"cApPXmPXGGP0PXXX&&XWW@&WW@&mXmW@W@@WX@WX&W@@XOmmmWmWXXmXmXW@@XXmW&WmmmXXmXXXmWXWXXmmmmmmXWXmWmmmm\\nDMMMMMMMMMDDMMRDDD@MQM&@@@MM@@MMMMM@@MMM@@@W@&WW@&&&WWWWXXXX&XWWOe?ceztzzzlccc+>}vsll?\"i}\"\"c\"+}lbz\"+2cuz\\\\_||\\\\_c%XPPmmPXGXPXWXXWWmXW@&WWWXmOXOGPgAPmmmmmPOXXmGmXWWXmXWXmWWXWXXXW&WXXXmXWOmXXPPWXXXOhmGmXXmOXmXmXm\\n&WMMMM@MDDDMDM@@MQDM@W&MMMM@MMMMW@M@MMMM@M@@MM&&@&&&mXWXXW&WW&WXXACGmwzlvtal7?71c8nI%OPSs\\'^\"llCGg1_\"v>\\',,````lgGAPmOGmmGOOXXWmXOmXmXmmXXXWWWXmPAPPXOOmmmmXXmXOXXmXWWXXXWpCPXXXmXWmXXWXWXXXXOPXXXXXGmOGOXOGmmXmXW\\nWWMMM@MM&@MMMM@MMMMM@MMMM@M@XMDM@M@&M@@@@@@M&W@MMWWW&&@&&A0GWWWAWGAWXWXZqAXPcj?jhPPgq%Thwlln8ngOA%2v\\\\\\'^,,,`,+I0APAOXmXmmXXXXXmXOXXOOOmWXXXXGXPGXmXmmPGmmXmmmmXXmXWmWW&XmWmXmmWmmXmXmm&POXXmGGmXmXXXmPPmGmXXmmW&X\\n@@@@@&@MMM@MMM@@MMMM@@MMM@@&&@MmA@@m@@&@@&@@@&MMM&@&WX&@WXWmWXAOmmn0WWWXXXXGZgpAOCzi+\"\"+3t+cl0Fn1+>_|~||\\\\\\'\\'t]I8kgZOOmGXGmOmXGmmOmGGOPXmGmmmGOmmGOmGPOOmmGPPmOmXOmWXXmmXGmmmGnmWmmZAXXXXWXmWOOXXWmmWXGGmmmXXmXXWW\\n@@@@@@@@MM@@@@MMM@@MMMMMM@@@@MMMMM@&@@WXm@@&W@@W@W&@XXWXXXXXXXOXWWPX&@WXXXXOXmPgb3zi\"\"+}?\"+e5APw3lc\"\\\\`,|8a+s2IqGk%0ivzbgmOmXmmXOPOGPOGk08q%APGmOOGPGmGGPFOmPOOmGXmmXXmOXOXXmAXWXmFAXmXWWXmmXmmmXGXXXmmmXOmXXmOm&\\n@@@W&@@@MMMM&X@@@@MM@@M@@@@@@@X&&M@WX&&XW@XX@@@@&&&WXXXXXmXXmg$PWWWWWXOmPOXPmmXpu+?+++?tv0POOPPx}|\\\\\\\\,``}i+\"\\\\`-70PP%lvc+\"IPGmmbAPPGmAAOXAqazzAXmP0PmmXOOPmOOmmmGXXXmmOGmmmXXXXXOmA0ZPOOXmXmmOXmmXOOXWXmXmmmXXXmXW\\n@@@@&@@&@W&M@@@MMM@M@@MM@@@Xnm@&@XmXXX@@&Wm&W&@@WWWXWXXXXmXXXWXXXXXXXXOATPmmmmmXmPkp5nln8wAPPGGPC>|_,``~z8CeIz0OmGZSc|}+zPPGOmOPOXGmmmmXmXACO0Su+rOOmGOPmGGplqmXWXmGmGOmXXmXmPOGgc?nmmPPmmmmmmXXXmWXXmXXPm&GGXXm\\nM@@@@M@&@&@MM@M@&@@@@@@@W&@&WX&&XXGW&W@&@@@@&W@@&W&WXXXWWXXmX&WXXXXXGmAPmmmOAAXWXXXXOGO0CkOmGOA0O$%$qettzGPPAPOOmPGOFbnx0kGGGmgmmmGmOmOOPmOGmPAP0FOP8GmOXmGGAmmXW&XXmmmmXWXGGXXGPOGGGGmOOOOOmmP%mmXmmmmmmWXXmmXX\\n@MMMMMMMM@@@@@@@&@&&X@@@@@@@&WW&&XWW&@@MM@MM@&@@WWW&WXXWXXXWWW&WWXXmmmmXmmmmmmmXWXXXmOG%gPPPmOGAAGOmmOmOPPmXOXXmPGOPF3uzlcIPPCgmmOGmOOmXmmOmPAmPmOXOOOmmOOOGGAGOXmmXmXWOXWXmmXXm0APGXXXXmOmPmmmmmOmGXmXXPOmPGmGG\\n&XX&&XmXW@@M@@@W@&&&W@@@@&@@&@@&WWX&@MMM@M@@@&WWW@&&&WXXXXXWWWX&&XXXmXWmOmmGmAgWWXXXmAPqAg0ll12APmOmOmXOXXOmOOOOxhOGGgt\"}\\\\+aPXmOPPPXmXOXmmOPAAmWGmGPPGmGmmOmGmPGmGOPPGmXXmXmOOmXXmX&XWWmXXXXmmmmXXXOmmGmOGOmOmOm\\nXmmmmXXXW@@&W@@@@@@&@WWWW&&@&&XXW&@MQD@@@@&@@W@&W&@&&OOmXmmXWXmXXXWXXXXmOOOOmFIGXXXmGPgqAPGPGGmGPOGOmGOPGmOPOmXmPOGOPAPPGAl0PGPGGXmmXGmmWXXXXOOPPG0PAGXmmmXGGGGPXmOmGPmOOPmWWmGOmmOXXWWXXXXXOmGmXOOGGGOGmGPAPGmm\\n@@&WXX@W&@@@&XXW&&WWWW&WXXW&W&WW&W&M@@@@&@@@&@@WXXXXXXmmXXXmmmOmmmXXXmmmmmGAXmmXXOmmOG8kPAGGPPPAGPPGOOmOOmGPGOGmOPPmmPPOGmXmOPXmmGXOmOOAWWXXXmOGOmGGGOGmmmmGOmOOGPPPOmmmm&XmXXGPmmOmXXOCkPPOPOOOOGPOOmXmOPmOOOmG\\n@@XXXG&@&@&&@&&@@@&&WXW&&XWWW&&W&&@@@@&&&@@@WXXXXXXXXXOXXmOGOmOmXXOmmmmOOmXXXXmXXOmXOkqAPPPPPPGAPPPGGGGmPPPOPmGPGGPOPmmPGmmmPPOGmPGOOXmZGXGOXGmXmXXmGOOOGmGOOmXOOmGPPOPOOGOXOO?+GXXmOmmAAOGmOGOXPPPGGOOmmPGPAOOP\\nWWW&@@&&MMMMMQMMMDMM@@@&@&&XWWXW@@&&@&W&@&@@&WWXmXXXXmXmXmmmmmmmXXXmmXmmPXmXXmmmmmmmGAqAAAAAPPPPPmmmOPPGwAPOGPPOOmmGPGGPPPGmPGmPOmmOmmXXOOGOmPmmmmmXXXmXXOmmmmPOOXGmmmOOGPOXGPPAmPGmmmOOGmPOXmm%kPPmmPPPPPPPPGGm\\nW&@M@@@MMMQDMMDMMMDMM@W&XXXXXmWWWW@&WW&WXWW&XXWXmXXXmXmOGGXmmOmXXWXmmXXWmOGmmmOmmOmOPCgPPPPOPOOGOPGPGOOG%%PPmGGGAPOOPPPPmGmXmPPGXmXXmOPmmXOmOGGPmXXmmmOmXGmOGPPGGOPPPOmOXPPPOOmP8%FPmXWmmOOGOPPGmPPPGPPOPOOGGPPO'"
      ]
     },
     "execution_count": 5,
     "metadata": {},
     "output_type": "execute_result"
    }
   ],
   "source": [
    "def display_intro():\n",
    "    cake=open('cake.txt')\n",
    "    print(\"What's that??!\")\n",
    "    time.sleep(2)\n",
    "    print(\"Fred's shout was half drown in the noise from the party, in full-swing now as the heavy drinking had started 2 hours ago... at 6pm.\")\n",
    "    time.sleep(2)\n",
    "    print(\"I made an effort to look interested. Fred was showing me a picture on his phone.\")\n",
    "    print(\"I was apparently sent to the wechat group organized for his birtday party\")\n",
    "    print(cake.read())\n",
    "    time.sleep(2)\n",
    "    print(\"\\\"Who did that to my cake?\\\", Fred wrote in the group chat\")\n",
    "    \n",
    " \n",
    "display_intro()"
   ]
  },
  {
   "cell_type": "code",
   "execution_count": null,
   "metadata": {},
   "outputs": [],
   "source": []
  }
 ],
 "metadata": {
  "kernelspec": {
   "display_name": "Python (games)",
   "language": "python",
   "name": "games"
  },
  "language_info": {
   "codemirror_mode": {
    "name": "ipython",
    "version": 3
   },
   "file_extension": ".py",
   "mimetype": "text/x-python",
   "name": "python",
   "nbconvert_exporter": "python",
   "pygments_lexer": "ipython3",
   "version": "3.6.8"
  }
 },
 "nbformat": 4,
 "nbformat_minor": 2
}
