{
 "cells": [
  {
   "cell_type": "markdown",
   "id": "848802f2",
   "metadata": {},
   "source": [
    "### Objects\n",
    "* map containing islands, boats move by 1 cell at each turn (cardinal directions only) and cannot cross their own route. Maps are in a coordinate system + divided into 9 squares. In silent mode, boats can move once by 4 cells in straight line. After a surface, the route is erased. One instance for own boat, one for enemy boat.\n",
    "* commands:\n",
    "    * sonar: the adverse team must indicate 1 correct, 1 wrong location coordinate<br>\n",
    "    * torpedo: the adverse team must indicate their location square<br>\n",
    "    * mine: dropped within one cell of the boat then activated at any time (except when on surface). At activation, any boat within 1 cell has 1 damage, 2 if it's exactly on the mine. Whether activated or not, a boat cannot \n",
    "    * drone: the adverse team must give their location square\n",
    "* first mate weapons/navigation: torpedoes 3, mines 3, drones 4, sonar 3, silent 6. Are charged incrementally at each direction command and discharged fully every time the item is used. Records damages: the team loses when its boat meets 4.\n",
    "* engineer: 4 areas for each direction, containing items corresponding to weapons/navigation. Items are marked as used at every direction command. If any category item is marked, the item cannot be used. Once an area is full, 1 damage. Some items are further grouped and can be repaired together (O orange, G grey, Y yellow, S standalone). A surface command wipes the board anew. In surface, every player must carefully draw around each area of the boat. When all 6 nuclear items are used, 1 damage.\n",
    "    * W: weapon (Y) /silent (Y) /sonar (Y) / sonar (S) / nuclear x 2(S) \n",
    "    * N: silent x 2 (O) / weapon (O) / navigation (S) / weapon (S) / nuclear (S)\n",
    "    * S: navigation (G) / silent (G) / weapon (G) / weapon (S) / silent (S) / nuclear (S)\n",
    "    * E: navigation (O) / silent (G) / weapon (Y) / navigation (S) / nuclear x 2 (S)"
   ]
  },
  {
   "cell_type": "code",
   "execution_count": null,
   "id": "8153d359",
   "metadata": {},
   "outputs": [],
   "source": [
    "%load_ext autoreload\n",
    "%autoreload 2"
   ]
  },
  {
   "cell_type": "code",
   "execution_count": null,
   "id": "0d159b9d",
   "metadata": {},
   "outputs": [],
   "source": [
    "import submarine"
   ]
  },
  {
   "cell_type": "code",
   "execution_count": null,
   "id": "8c3c1600",
   "metadata": {},
   "outputs": [],
   "source": [
    "game = submarine.Game()"
   ]
  },
  {
   "cell_type": "code",
   "execution_count": null,
   "id": "fd2663e1",
   "metadata": {},
   "outputs": [],
   "source": [
    "captain_A = submarine.Captain(game, 'A')\n",
    "grid = captain_A.map"
   ]
  },
  {
   "cell_type": "code",
   "execution_count": null,
   "id": "a97f0999",
   "metadata": {},
   "outputs": [],
   "source": [
    "captain_A.order_move()"
   ]
  },
  {
   "cell_type": "code",
   "execution_count": null,
   "id": "a4b5fd2c",
   "metadata": {},
   "outputs": [],
   "source": [
    "boat = submarine.Boat(game, 'A')\n",
    "boat.geojson_boat()"
   ]
  },
  {
   "cell_type": "code",
   "execution_count": null,
   "id": "5ff63d52",
   "metadata": {},
   "outputs": [],
   "source": [
    "radio = submarine.Radio(game, 'B')"
   ]
  },
  {
   "cell_type": "code",
   "execution_count": null,
   "id": "dd847655",
   "metadata": {},
   "outputs": [],
   "source": [
    "radio.set_enemy_move()"
   ]
  },
  {
   "cell_type": "code",
   "execution_count": null,
   "id": "517b33d7",
   "metadata": {},
   "outputs": [],
   "source": [
    "central_circuit_yellow = [['mine_torpedo',1],['silence_scenario',1],['drone_sonar',1],['mine_torpedo',6]]\n",
    "central_circuit_orange = [['silence_scenario',2],['mine_torpedo',2],['silence_scenario',3],['drone_sonar',5]]\n",
    "central_circuit_grey = [['drone_sonar',4],['silence_scenario',4],['mine_torpedo',3],['silence_scenario',6]]\n",
    "west_box = [['mine_torpedo',1],['silence_scenario',1],['drone_sonar',1],['drone_sonar',2],['radiation',1],['radiation',2]]\n",
    "north_box = [['silence_scenario',2],['mine_torpedo',2],['silence_scenario',3],['drone_sonar',3],['mine_torpedo',3],['radiation',3]]\n",
    "south_box = [['drone_sonar',4],['silence_scenario',4],['mine_torpedo',4],['mine_torpedo',5],['radiation',6],['silence_scenario',5]]\n",
    "east_box = [['drone_sonar',5],['silence_scenario',6],['mine_torpedo',6],['radiation',5],['drone_sonar',6],['radiation',6]]\n",
    "\n",
    "class Engineer:\n",
    "    def __init__(self, game, team):\n",
    "        self.team = team\n",
    "        self.game = game\n",
    "        self.map = game.grid\n",
    "        self.islands = game.islands\n",
    "        self.init = self.guess_initial_position_enemy()\n",
    "        self.enemy_team = ['A','B'][1-['A','B'].index(self.team)]"
   ]
  },
  {
   "cell_type": "code",
   "execution_count": null,
   "id": "b48b2c2f",
   "metadata": {},
   "outputs": [],
   "source": []
  }
 ],
 "metadata": {
  "kernelspec": {
   "display_name": "env",
   "language": "python",
   "name": "python3"
  },
  "language_info": {
   "codemirror_mode": {
    "name": "ipython",
    "version": 3
   },
   "file_extension": ".py",
   "mimetype": "text/x-python",
   "name": "python",
   "nbconvert_exporter": "python",
   "pygments_lexer": "ipython3",
   "version": "3.7.6"
  },
  "vscode": {
   "interpreter": {
    "hash": "832d87de16e220bb370d775ea11e20d4046919866f8872e8f24e3519daa2a077"
   }
  }
 },
 "nbformat": 4,
 "nbformat_minor": 5
}
