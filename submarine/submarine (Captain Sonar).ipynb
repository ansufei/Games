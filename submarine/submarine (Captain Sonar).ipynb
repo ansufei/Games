{
 "cells": [
  {
   "cell_type": "markdown",
   "id": "848802f2",
   "metadata": {},
   "source": [
    "### Objects\n",
    "* map containing islands, boats move by 1 cell at each turn (cardinal directions only) and cannot cross their own route. Maps are in a coordinate system + divided into 9 squares. In silent mode, boats can move once by 4 cells in straight line. After a surface, the route is erased. One instance for own boat, one for enemy boat.\n",
    "* commands:\n",
    "    * sonar: the adverse team must indicate 1 correct, 1 wrong location coordinate<br>\n",
    "    * torpedo: the adverse team must indicate their location square<br>\n",
    "    * mine: dropped within one cell of the boat then activated at any time (except when on surface). At activation, any boat within 1 cell has 1 damage, 2 if it's exactly on the mine. Whether activated or not, a boat cannot \n",
    "    * drone: the adverse team must give their location square\n",
    "* first mate weapons/navigation: torpedoes 3, mines 3, drones 4, sonar 3, silent 6. Are charged incrementally at each direction command and discharged fully every time the item is used. Records damages: the team loses when its boat meets 4.\n",
    "* engineer: 4 areas for each direction, containing items corresponding to weapons/navigation. Items are marked as used at every direction command. If any category item is marked, the item cannot be used. Once an area is full, 1 damage. Some items are further grouped and can be repaired together (O orange, G grey, Y yellow, S standalone). A surface command wipes the board anew. In surface, every player must carefully draw around each area of the boat. When all 6 nuclear items are used, 1 damage.\n",
    "    * W: weapon (Y) /silent (Y) /sonar (Y) / sonar (S) / nuclear x 2(S) \n",
    "    * N: silent x 2 (O) / weapon (O) / navigation (S) / weapon (S) / nuclear (S)\n",
    "    * S: navigation (G) / silent (G) / weapon (G) / weapon (S) / silent (S) / nuclear (S)\n",
    "    * E: navigation (O) / silent (G) / weapon (Y) / navigation (S) / nuclear x 2 (S)"
   ]
  },
  {
   "cell_type": "code",
   "execution_count": null,
   "id": "8153d359",
   "metadata": {},
   "outputs": [],
   "source": [
    "%load_ext autoreload\n",
    "%autoreload 2"
   ]
  },
  {
   "cell_type": "code",
   "execution_count": 198,
   "id": "0d159b9d",
   "metadata": {},
   "outputs": [],
   "source": [
    "import submarine"
   ]
  },
  {
   "cell_type": "code",
   "execution_count": 437,
   "id": "8c3c1600",
   "metadata": {},
   "outputs": [],
   "source": [
    "game = submarine.Game()"
   ]
  },
  {
   "cell_type": "code",
   "execution_count": 438,
   "id": "fd2663e1",
   "metadata": {},
   "outputs": [],
   "source": [
    "captain_A = submarine.Captain(game, 'A')\n",
    "grid = captain_A.map"
   ]
  },
  {
   "cell_type": "code",
   "execution_count": 439,
   "id": "72c9aef4",
   "metadata": {},
   "outputs": [
    {
     "name": "stdout",
     "output_type": "stream",
     "text": [
      "6 8\n",
      "5 7\n"
     ]
    }
   ],
   "source": [
    "radio_B = submarine.Radio(game, 'B')\n",
    "print(captain_A.x0, captain_A.y0)\n",
    "print(radio_B.x0, radio_B.y0)"
   ]
  },
  {
   "cell_type": "code",
   "execution_count": 440,
   "id": "2245ffe4",
   "metadata": {},
   "outputs": [
    {
     "data": {
      "text/plain": [
       "False"
      ]
     },
     "execution_count": 440,
     "metadata": {},
     "output_type": "execute_result"
    }
   ],
   "source": [
    "radio_B.listen_enemy_move()"
   ]
  },
  {
   "cell_type": "code",
   "execution_count": 445,
   "id": "d857b05c",
   "metadata": {},
   "outputs": [
    {
     "name": "stdout",
     "output_type": "stream",
     "text": [
      "False 4 7 HEAD NORTH\n",
      "available_positions [[ 0  0]\n",
      " [ 0  1]\n",
      " [ 0  2]\n",
      " [ 0  3]\n",
      " [ 0  4]\n",
      " [ 0  5]\n",
      " [ 0  6]\n",
      " [ 0  7]\n",
      " [ 0  8]\n",
      " [ 0  9]\n",
      " [ 0 10]\n",
      " [ 0 11]\n",
      " [ 0 12]\n",
      " [ 0 13]\n",
      " [ 0 14]\n",
      " [ 1  0]\n",
      " [ 1  1]\n",
      " [ 1  2]\n",
      " [ 1  4]\n",
      " [ 1  5]\n",
      " [ 1  6]\n",
      " [ 1  7]\n",
      " [ 1  8]\n",
      " [ 1  9]\n",
      " [ 1 10]\n",
      " [ 1 13]\n",
      " [ 1 14]\n",
      " [ 2  0]\n",
      " [ 2  1]\n",
      " [ 2  3]\n",
      " [ 2  4]\n",
      " [ 2  5]\n",
      " [ 2  7]\n",
      " [ 2  9]\n",
      " [ 2 10]\n",
      " [ 2 11]\n",
      " [ 2 12]\n",
      " [ 2 14]\n",
      " [ 3  0]\n",
      " [ 3  3]\n",
      " [ 3  4]\n",
      " [ 3  5]\n",
      " [ 3  6]\n",
      " [ 3  8]\n",
      " [ 3  9]\n",
      " [ 3 10]\n",
      " [ 3 11]\n",
      " [ 3 13]\n",
      " [ 3 14]\n",
      " [ 4  0]\n",
      " [ 4  1]\n",
      " [ 4  2]\n",
      " [ 4  3]\n",
      " [ 4  4]\n",
      " [ 4  5]\n",
      " [ 4  6]\n",
      " [ 4  8]\n",
      " [ 4  9]\n",
      " [ 4 10]\n",
      " [ 4 11]\n",
      " [ 4 12]\n",
      " [ 4 13]\n",
      " [ 4 14]\n",
      " [ 5  0]\n",
      " [ 5  1]\n",
      " [ 5  2]\n",
      " [ 5  3]\n",
      " [ 5  4]\n",
      " [ 5  5]\n",
      " [ 5  6]\n",
      " [ 5  8]\n",
      " [ 5  9]\n",
      " [ 5 10]\n",
      " [ 5 11]\n",
      " [ 5 12]\n",
      " [ 5 13]\n",
      " [ 5 14]\n",
      " [ 6  0]\n",
      " [ 6  1]\n",
      " [ 6  3]\n",
      " [ 6  4]\n",
      " [ 6  5]\n",
      " [ 6  6]\n",
      " [ 6  8]\n",
      " [ 6  9]\n",
      " [ 6 10]\n",
      " [ 6 14]\n",
      " [ 7  0]\n",
      " [ 7  4]\n",
      " [ 7  5]\n",
      " [ 7  9]\n",
      " [ 7 10]\n",
      " [ 7 11]\n",
      " [ 7 13]\n",
      " [ 7 14]\n",
      " [ 8  0]\n",
      " [ 8  1]\n",
      " [ 8  2]\n",
      " [ 8  4]\n",
      " [ 8  5]\n",
      " [ 8  6]\n",
      " [ 8  7]\n",
      " [ 8  9]\n",
      " [ 8 10]\n",
      " [ 8 11]\n",
      " [ 8 12]\n",
      " [ 8 14]\n",
      " [ 9  0]\n",
      " [ 9  1]\n",
      " [ 9  2]\n",
      " [ 9  3]\n",
      " [ 9  4]\n",
      " [ 9  5]\n",
      " [ 9  6]\n",
      " [ 9  7]\n",
      " [ 9  8]\n",
      " [ 9  9]\n",
      " [ 9 10]\n",
      " [ 9 11]\n",
      " [ 9 12]\n",
      " [ 9 13]\n",
      " [ 9 14]\n",
      " [10  0]\n",
      " [10  1]\n",
      " [10  2]\n",
      " [10  3]\n",
      " [10  4]\n",
      " [10  5]\n",
      " [10  6]\n",
      " [10  7]\n",
      " [10  8]\n",
      " [10  9]\n",
      " [10 10]\n",
      " [10 11]\n",
      " [10 12]\n",
      " [10 13]\n",
      " [10 14]\n",
      " [11  0]\n",
      " [11  1]\n",
      " [11  3]\n",
      " [11  4]\n",
      " [11  5]\n",
      " [11  7]\n",
      " [11  8]\n",
      " [11  9]\n",
      " [11 10]\n",
      " [11 11]\n",
      " [11 12]\n",
      " [11 14]\n",
      " [12  0]\n",
      " [12  2]\n",
      " [12  4]\n",
      " [12  5]\n",
      " [12  6]\n",
      " [12  7]\n",
      " [12  8]\n",
      " [12  9]\n",
      " [12 10]\n",
      " [12 11]\n",
      " [12 12]\n",
      " [12 13]\n",
      " [12 14]\n",
      " [13  0]\n",
      " [13  1]\n",
      " [13  2]\n",
      " [13  3]\n",
      " [13  4]\n",
      " [13  5]\n",
      " [13  6]\n",
      " [13  7]\n",
      " [13  8]\n",
      " [13  9]\n",
      " [13 10]\n",
      " [13 12]\n",
      " [13 14]\n",
      " [14  0]\n",
      " [14  1]\n",
      " [14  2]\n",
      " [14  3]\n",
      " [14  4]\n",
      " [14  5]\n",
      " [14  6]\n",
      " [14  7]\n",
      " [14  8]\n",
      " [14  9]\n",
      " [14 10]\n",
      " [14 11]\n",
      " [14 12]\n",
      " [14 13]\n",
      " [14 14]]\n",
      "list_tried_start_positions [array([5, 7])]\n"
     ]
    },
    {
     "ename": "ValueError",
     "evalue": "The truth value of an array with more than one element is ambiguous. Use a.any() or a.all()",
     "output_type": "error",
     "traceback": [
      "\u001b[0;31m---------------------------------------------------------------------------\u001b[0m",
      "\u001b[0;31mValueError\u001b[0m                                Traceback (most recent call last)",
      "\u001b[0;32m/var/folders/dk/jznh4j8x20q73qhjkxyvc2vh0000gn/T/ipykernel_26597/1788904852.py\u001b[0m in \u001b[0;36m<module>\u001b[0;34m\u001b[0m\n\u001b[0;32m----> 1\u001b[0;31m \u001b[0mradio_B\u001b[0m\u001b[0;34m.\u001b[0m\u001b[0mdraw_enemy_move\u001b[0m\u001b[0;34m(\u001b[0m\u001b[0;34m)\u001b[0m\u001b[0;34m\u001b[0m\u001b[0;34m\u001b[0m\u001b[0m\n\u001b[0m",
      "\u001b[0;32m~/Documents/Projects/perso/Games/submarine/submarine.py\u001b[0m in \u001b[0;36mdraw_enemy_move\u001b[0;34m(self)\u001b[0m\n\u001b[1;32m    125\u001b[0m             \u001b[0;32melse\u001b[0m\u001b[0;34m:\u001b[0m\u001b[0;34m\u001b[0m\u001b[0;34m\u001b[0m\u001b[0m\n\u001b[1;32m    126\u001b[0m                 \u001b[0;32mwhile\u001b[0m \u001b[0;32mTrue\u001b[0m\u001b[0;34m:\u001b[0m\u001b[0;34m\u001b[0m\u001b[0;34m\u001b[0m\u001b[0m\n\u001b[0;32m--> 127\u001b[0;31m                     \u001b[0mnew_guessed_initial_position\u001b[0m \u001b[0;34m=\u001b[0m \u001b[0mself\u001b[0m\u001b[0;34m.\u001b[0m\u001b[0mpossible_initial_positions\u001b[0m\u001b[0;34m(\u001b[0m\u001b[0;34m)\u001b[0m\u001b[0;34m\u001b[0m\u001b[0;34m\u001b[0m\u001b[0m\n\u001b[0m\u001b[1;32m    128\u001b[0m                     \u001b[0mprint\u001b[0m\u001b[0;34m(\u001b[0m\u001b[0mnew_guessed_initial_position\u001b[0m\u001b[0;34m)\u001b[0m\u001b[0;34m\u001b[0m\u001b[0;34m\u001b[0m\u001b[0m\n\u001b[1;32m    129\u001b[0m                     \u001b[0mself\u001b[0m\u001b[0;34m.\u001b[0m\u001b[0mlist_tried_start_positions\u001b[0m\u001b[0;34m.\u001b[0m\u001b[0mappend\u001b[0m\u001b[0;34m(\u001b[0m\u001b[0mnew_guessed_initial_position\u001b[0m\u001b[0;34m)\u001b[0m\u001b[0;34m\u001b[0m\u001b[0;34m\u001b[0m\u001b[0m\n",
      "\u001b[0;32m~/Documents/Projects/perso/Games/submarine/submarine.py\u001b[0m in \u001b[0;36mpossible_initial_positions\u001b[0;34m(self)\u001b[0m\n\u001b[1;32m    136\u001b[0m         \u001b[0mprint\u001b[0m\u001b[0;34m(\u001b[0m\u001b[0;34m'available_positions'\u001b[0m\u001b[0;34m,\u001b[0m\u001b[0mavailable_positions\u001b[0m\u001b[0;34m)\u001b[0m\u001b[0;34m\u001b[0m\u001b[0;34m\u001b[0m\u001b[0m\n\u001b[1;32m    137\u001b[0m         \u001b[0mprint\u001b[0m\u001b[0;34m(\u001b[0m\u001b[0;34m'list_tried_start_positions'\u001b[0m\u001b[0;34m,\u001b[0m \u001b[0mself\u001b[0m\u001b[0;34m.\u001b[0m\u001b[0mlist_tried_start_positions\u001b[0m\u001b[0;34m)\u001b[0m\u001b[0;34m\u001b[0m\u001b[0;34m\u001b[0m\u001b[0m\n\u001b[0;32m--> 138\u001b[0;31m         \u001b[0mavailable_positions\u001b[0m \u001b[0;34m=\u001b[0m \u001b[0;34m[\u001b[0m\u001b[0mx\u001b[0m \u001b[0;32mfor\u001b[0m \u001b[0mx\u001b[0m \u001b[0;32min\u001b[0m \u001b[0mavailable_positions\u001b[0m \u001b[0;32mif\u001b[0m \u001b[0;32mnot\u001b[0m \u001b[0mx\u001b[0m \u001b[0;32min\u001b[0m \u001b[0mself\u001b[0m\u001b[0;34m.\u001b[0m\u001b[0mlist_tried_start_positions\u001b[0m\u001b[0;34m]\u001b[0m\u001b[0;34m\u001b[0m\u001b[0;34m\u001b[0m\u001b[0m\n\u001b[0m\u001b[1;32m    139\u001b[0m         \u001b[0;31m# reduce the list of possible positions if we already have information on the itinerary\u001b[0m\u001b[0;34m\u001b[0m\u001b[0;34m\u001b[0m\u001b[0;34m\u001b[0m\u001b[0m\n\u001b[1;32m    140\u001b[0m         \u001b[0;32mif\u001b[0m \u001b[0mself\u001b[0m\u001b[0;34m.\u001b[0m\u001b[0mlist_enemy_orders\u001b[0m\u001b[0;34m:\u001b[0m\u001b[0;34m\u001b[0m\u001b[0;34m\u001b[0m\u001b[0m\n",
      "\u001b[0;32m~/Documents/Projects/perso/Games/submarine/submarine.py\u001b[0m in \u001b[0;36m<listcomp>\u001b[0;34m(.0)\u001b[0m\n\u001b[1;32m    136\u001b[0m         \u001b[0mprint\u001b[0m\u001b[0;34m(\u001b[0m\u001b[0;34m'available_positions'\u001b[0m\u001b[0;34m,\u001b[0m\u001b[0mavailable_positions\u001b[0m\u001b[0;34m)\u001b[0m\u001b[0;34m\u001b[0m\u001b[0;34m\u001b[0m\u001b[0m\n\u001b[1;32m    137\u001b[0m         \u001b[0mprint\u001b[0m\u001b[0;34m(\u001b[0m\u001b[0;34m'list_tried_start_positions'\u001b[0m\u001b[0;34m,\u001b[0m \u001b[0mself\u001b[0m\u001b[0;34m.\u001b[0m\u001b[0mlist_tried_start_positions\u001b[0m\u001b[0;34m)\u001b[0m\u001b[0;34m\u001b[0m\u001b[0;34m\u001b[0m\u001b[0m\n\u001b[0;32m--> 138\u001b[0;31m         \u001b[0mavailable_positions\u001b[0m \u001b[0;34m=\u001b[0m \u001b[0;34m[\u001b[0m\u001b[0mx\u001b[0m \u001b[0;32mfor\u001b[0m \u001b[0mx\u001b[0m \u001b[0;32min\u001b[0m \u001b[0mavailable_positions\u001b[0m \u001b[0;32mif\u001b[0m \u001b[0;32mnot\u001b[0m \u001b[0mx\u001b[0m \u001b[0;32min\u001b[0m \u001b[0mself\u001b[0m\u001b[0;34m.\u001b[0m\u001b[0mlist_tried_start_positions\u001b[0m\u001b[0;34m]\u001b[0m\u001b[0;34m\u001b[0m\u001b[0;34m\u001b[0m\u001b[0m\n\u001b[0m\u001b[1;32m    139\u001b[0m         \u001b[0;31m# reduce the list of possible positions if we already have information on the itinerary\u001b[0m\u001b[0;34m\u001b[0m\u001b[0;34m\u001b[0m\u001b[0;34m\u001b[0m\u001b[0m\n\u001b[1;32m    140\u001b[0m         \u001b[0;32mif\u001b[0m \u001b[0mself\u001b[0m\u001b[0;34m.\u001b[0m\u001b[0mlist_enemy_orders\u001b[0m\u001b[0;34m:\u001b[0m\u001b[0;34m\u001b[0m\u001b[0;34m\u001b[0m\u001b[0m\n",
      "\u001b[0;31mValueError\u001b[0m: The truth value of an array with more than one element is ambiguous. Use a.any() or a.all()"
     ]
    }
   ],
   "source": [
    "radio_B.draw_enemy_move()"
   ]
  },
  {
   "cell_type": "code",
   "execution_count": 444,
   "id": "a97f0999",
   "metadata": {},
   "outputs": [
    {
     "name": "stdout",
     "output_type": "stream",
     "text": [
      "Team A : HEAD NORTH\n"
     ]
    },
    {
     "data": {
      "text/plain": [
       "array([['', '', '', '', '', '', '', '', '', '', '', '', '', '', ''],\n",
       "       ['', '', '', 'I', '', '', '', '', '', '', '', 'I', 'I', '', ''],\n",
       "       ['', '', 'I', '', '', '', 'I', '', 'I', '', '', '', '', 'I', ''],\n",
       "       ['', 'I', 'I', '', '', '', '', 'I', '', '', '', '', 'I', '', ''],\n",
       "       ['', '', '', '', '', '', '', '', 'X', '', '', '', '', '', ''],\n",
       "       ['', '', '', '', '', '', '', '', '-', '', '', '', '', '', ''],\n",
       "       ['', '', 'I', '', '', '', '', 'I', '-', '', '', 'I', 'I', 'I', ''],\n",
       "       ['', 'I', 'I', 'I', '', '', 'I', 'I', 'I', '', '', '', 'I', '',\n",
       "        ''],\n",
       "       ['', '', '', 'I', '', '', '', '', 'I', '', '', '', '', 'I', ''],\n",
       "       ['', '', '', '', '', '', '', '', '', '', '', '', '', '', ''],\n",
       "       ['', '', '', '', '', '', '', '', '', '', '', '', '', '', ''],\n",
       "       ['', '', 'I', '', '', '', 'I', '', '', '', '', '', '', 'I', ''],\n",
       "       ['', 'I', '', 'I', '', '', '', '', '', '', '', '', '', '', ''],\n",
       "       ['', '', '', '', '', '', '', '', '', '', '', 'I', '', 'I', ''],\n",
       "       ['', '', '', '', '', '', '', '', '', '', '', '', '', '', '']],\n",
       "      dtype='<U1')"
      ]
     },
     "execution_count": 444,
     "metadata": {},
     "output_type": "execute_result"
    }
   ],
   "source": [
    "captain_A.order_move()"
   ]
  },
  {
   "cell_type": "code",
   "execution_count": 285,
   "id": "a4b5fd2c",
   "metadata": {},
   "outputs": [
    {
     "data": {
      "image/svg+xml": [
       "<svg xmlns=\"http://www.w3.org/2000/svg\" xmlns:xlink=\"http://www.w3.org/1999/xlink\" width=\"100.0\" height=\"100.0\" viewBox=\"-1.52 -1.52 41.040000000000006 14.04\" preserveAspectRatio=\"xMinYMin meet\"><g transform=\"matrix(1,0,0,-1,0,11.0)\"><g><path fill-rule=\"evenodd\" fill=\"#ff3333\" stroke=\"#555555\" stroke-width=\"0.8208000000000001\" opacity=\"0.6\" d=\"M 0.0,0.0 L 36.0,0.0 L 37.0,1.0 L 38.0,3.0 L 38.0,6.0 L 37.0,7.0 L 18.0,7.0 L 18.0,11.0 L 13.0,11.0 L 9.0,7.0 L 7.0,7.0 L 6.0,5.0 L 1.0,5.0 L 0.0,0.0 z\" /><path fill-rule=\"evenodd\" fill=\"#ff3333\" stroke=\"#555555\" stroke-width=\"0.8208000000000001\" opacity=\"0.6\" d=\"M 9.0,5.0 L 23.0,5.0 L 16.0,6.0 L 16.0,9.0 L 15.0,9.0 L 15.0,7.0 L 13.0,7.0 L 9.0,5.0 z\" /><path fill-rule=\"evenodd\" fill=\"#ff3333\" stroke=\"#555555\" stroke-width=\"0.8208000000000001\" opacity=\"0.6\" d=\"M 9.0,2.0 L 23.0,2.0 L 23.0,3.0 L 9.0,3.0 L 9.0,2.0 z\" /><path fill-rule=\"evenodd\" fill=\"#ff3333\" stroke=\"#555555\" stroke-width=\"0.8208000000000001\" opacity=\"0.6\" d=\"M 25.0,2.0 L 34.0,2.0 L 35.0,3.0 L 35.0,5.0 L 25.0,5.0 L 25.0,2.0 z\" /><path fill-rule=\"evenodd\" fill=\"#ff3333\" stroke=\"#555555\" stroke-width=\"0.8208000000000001\" opacity=\"0.6\" d=\"M 2.0,2.0 L 7.0,2.0 L 7.0,3.0 L 3.0,3.0 L 2.0,2.0 z\" /></g></g></svg>"
      ],
      "text/plain": [
       "<MULTIPOLYGON (((0 0, 36 0, 37 1, 38 3, 38 6, 37 7, 18 7, 18 11, 13 11, 9 7,...>"
      ]
     },
     "execution_count": 285,
     "metadata": {},
     "output_type": "execute_result"
    }
   ],
   "source": [
    "boat = submarine.Boat(game, 'A')\n",
    "boat.geojson_boat()"
   ]
  },
  {
   "cell_type": "code",
   "execution_count": 124,
   "id": "dd847655",
   "metadata": {},
   "outputs": [
    {
     "name": "stdout",
     "output_type": "stream",
     "text": [
      "HEAD SOUTH\n"
     ]
    }
   ],
   "source": [
    "radio_B.listen_enemy_move()"
   ]
  },
  {
   "cell_type": "code",
   "execution_count": null,
   "id": "517b33d7",
   "metadata": {},
   "outputs": [],
   "source": [
    "central_circuit_yellow = [['mine_torpedo',1],['silence_scenario',1],['drone_sonar',1],['mine_torpedo',6]]\n",
    "central_circuit_orange = [['silence_scenario',2],['mine_torpedo',2],['silence_scenario',3],['drone_sonar',5]]\n",
    "central_circuit_grey = [['drone_sonar',4],['silence_scenario',4],['mine_torpedo',3],['silence_scenario',6]]\n",
    "west_box = [['mine_torpedo',1],['silence_scenario',1],['drone_sonar',1],['drone_sonar',2],['radiation',1],['radiation',2]]\n",
    "north_box = [['silence_scenario',2],['mine_torpedo',2],['silence_scenario',3],['drone_sonar',3],['mine_torpedo',3],['radiation',3]]\n",
    "south_box = [['drone_sonar',4],['silence_scenario',4],['mine_torpedo',4],['mine_torpedo',5],['radiation',6],['silence_scenario',5]]\n",
    "east_box = [['drone_sonar',5],['silence_scenario',6],['mine_torpedo',6],['radiation',5],['drone_sonar',6],['radiation',6]]\n",
    "\n",
    "class Engineer:\n",
    "    def __init__(self, game, team):\n",
    "        self.team = team\n",
    "        self.game = game\n",
    "\n",
    "    "
   ]
  },
  {
   "cell_type": "code",
   "execution_count": null,
   "id": "b48b2c2f",
   "metadata": {},
   "outputs": [],
   "source": []
  }
 ],
 "metadata": {
  "kernelspec": {
   "display_name": "env",
   "language": "python",
   "name": "python3"
  },
  "language_info": {
   "codemirror_mode": {
    "name": "ipython",
    "version": 3
   },
   "file_extension": ".py",
   "mimetype": "text/x-python",
   "name": "python",
   "nbconvert_exporter": "python",
   "pygments_lexer": "ipython3",
   "version": "3.7.6"
  },
  "vscode": {
   "interpreter": {
    "hash": "832d87de16e220bb370d775ea11e20d4046919866f8872e8f24e3519daa2a077"
   }
  }
 },
 "nbformat": 4,
 "nbformat_minor": 5
}
