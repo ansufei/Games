{
 "cells": [
  {
   "cell_type": "markdown",
   "metadata": {},
   "source": [
    "<p style=\"font-family: Arial; font-size:3.75em;color:purple; font-style:bold\"><br>\n",
    "Tic-Tac-Toe\n",
    "</p><br>\n",
    "<strong>3x3 version of the <a href='https://en.wikipedia.org/wiki/Hex_(board_game)'>Hex game</a> solved using the minimax method</strong>"
   ]
  },
  {
   "cell_type": "markdown",
   "metadata": {},
   "source": [
    "Minimax works:\n",
    "- on games for 2 players\n",
    "- when a player's win is another player's loss: 0-sum games\n",
    "- when there is a complete information on the possible outcomes\n",
    "- where the goal of the game is to minimize loss (and we assume that the other player is trying to maximize gain)\n",
    "\n",
    "<p>Minimax can either be the brute force method of calculating every possible outcome, or improved using alpha-beta pruning (which eliminates sqrt(n) where n is the number of combinations for the brute-force method for the negamax solution, or n^0.75 otherwise)</p>\n",
    "<p>We calculate the probability to win for the first player only</p>"
   ]
  },
  {
   "cell_type": "markdown",
   "metadata": {},
   "source": [
    "### Calculate the win/loss function\n",
    "<a href='http://ohboyigettodomath.blogspot.com/2015/05/tic-tac-toe-as-magic-square.html'>Magic square trick</a>"
   ]
  },
  {
   "cell_type": "code",
   "execution_count": 313,
   "metadata": {},
   "outputs": [
    {
     "data": {
      "text/plain": [
       "11"
      ]
     },
     "execution_count": 313,
     "metadata": {},
     "output_type": "execute_result"
    }
   ],
   "source": [
    "import numpy as np\n",
    "numbered_grid=np.array([[2,7,6],[9,5,1],[4,3,8]])\n",
    "def calc_value(node,player):\n",
    "    node_player=np.array([1 if x==player else 0 for x in node.flatten()]).reshape(-1,3)\n",
    "    score_cols=max(sum(np.multiply(numbered_grid,node_player)))\n",
    "    score_rows=max(sum(np.multiply(numbered_grid,node_player.transpose())))\n",
    "    score_diagonal1=max(np.multiply(node_player.diagonal(),np.array([2,5,8])))\n",
    "    score_diagonal2=max(np.multiply(node_player[:,::-1].diagonal(),np.array([2,5,8])))\n",
    "    return max(score_cols,score_rows,score_diagonal1,score_diagonal2)\n",
    "\n",
    "calc_value(np.array([[1,1,-1], [1,-1,0], [0,0,0]]),1)"
   ]
  },
  {
   "cell_type": "code",
   "execution_count": 441,
   "metadata": {},
   "outputs": [
    {
     "data": {
      "text/plain": [
       "0"
      ]
     },
     "execution_count": 441,
     "metadata": {},
     "output_type": "execute_result"
    }
   ],
   "source": [
    "def calc_score(node,player):\n",
    "    if calc_value(node,player)==15:\n",
    "        return float(\"inf\")*player\n",
    "    elif calc_value(node,-player)==15:\n",
    "        return float(\"-inf\")*(-player)\n",
    "    return 0\n",
    "calc_score(np.array([[1,1,-1], [1,-1,0], [0,0,0]]),1)"
   ]
  },
  {
   "cell_type": "markdown",
   "metadata": {},
   "source": [
    "### Create a child node"
   ]
  },
  {
   "cell_type": "code",
   "execution_count": 314,
   "metadata": {},
   "outputs": [
    {
     "data": {
      "text/plain": [
       "[array([[ 1,  1,  1],\n",
       "        [ 1, -1,  0],\n",
       "        [-1,  0,  0]]), array([[ 1,  1,  0],\n",
       "        [ 1, -1,  1],\n",
       "        [-1,  0,  0]]), array([[ 1,  1,  0],\n",
       "        [ 1, -1,  0],\n",
       "        [-1,  1,  0]]), array([[ 1,  1,  0],\n",
       "        [ 1, -1,  0],\n",
       "        [-1,  0,  1]])]"
      ]
     },
     "execution_count": 314,
     "metadata": {},
     "output_type": "execute_result"
    }
   ],
   "source": [
    "#contains a list of all the possible grids at the next move for a player\n",
    "def child_node(grid,player):\n",
    "    child_node=[]\n",
    "    child_grid=grid.copy()\n",
    "       \n",
    "    #find the location of the '0' in the grid\n",
    "    zeros=np.isin(grid,0)\n",
    "    nb_children=np.sum(zeros)\n",
    "    \n",
    "    #replace each remaining 0 by 'player' one by one and append the resulting grid to the child_node list\n",
    "    itemindex = np.where(grid==0)\n",
    "    for child in range(0,nb_children):\n",
    "        child_grid[itemindex[0][child]][itemindex[1][child]]=player\n",
    "        child_node.append(child_grid)\n",
    "        child_grid=grid.copy()\n",
    "    return child_node\n",
    "        \n",
    "child_node(np.array([[1,1,0],[1,-1,0],[-1,0,0]]),1)"
   ]
  },
  {
   "cell_type": "code",
   "execution_count": 325,
   "metadata": {},
   "outputs": [
    {
     "name": "stdout",
     "output_type": "stream",
     "text": [
      "inf -inf\n",
      "0 0\n",
      "inf -inf\n"
     ]
    }
   ],
   "source": [
    "a_wins=np.array([[1,-1,0],[1,1,-1],[1,1,-1]])\n",
    "print(calc_score(a_wins,1),calc_score(a_wins,-1))\n",
    "draw=np.array([[1,-1,0],[1,1,-1],[0,1,-1]])\n",
    "print(calc_score(draw,1),calc_score(draw,-1))\n",
    "b_wins=np.array([[1,-1,-1],[1,1,-1],[0,1,-1]])\n",
    "print(calc_score(b_wins,1),calc_score(b_wins,-1))"
   ]
  },
  {
   "cell_type": "code",
   "execution_count": 435,
   "metadata": {},
   "outputs": [],
   "source": [
    "def minimax(node,player):\n",
    "    depth=np.sum(np.isin(node,0))\n",
    "    if depth==0 or calc_score(node,player)!=0:\n",
    "        return calc_score(node,player)\n",
    "    elif player:\n",
    "        value=float(\"-inf\")\n",
    "        for child in child_node(node,player):\n",
    "            value=max(value,minimax(child,-player))\n",
    "        return value\n",
    "    elif -player:\n",
    "        value=float(\"inf\")\n",
    "        for child in child_node(node,player):\n",
    "            value=min(value,minimax(child,player))\n",
    "        return value\n",
    "    else:\n",
    "        return print('error')"
   ]
  },
  {
   "cell_type": "code",
   "execution_count": 442,
   "metadata": {},
   "outputs": [
    {
     "name": "stdout",
     "output_type": "stream",
     "text": [
      "0 inf\n"
     ]
    }
   ],
   "source": [
    "last_but_one=np.array([[1,-1,0],[0,1,-1],[1,-1,-1]])\n",
    "print(minimax(last_but_one,1),minimax(last_but_one,-1))"
   ]
  },
  {
   "cell_type": "code",
   "execution_count": 438,
   "metadata": {},
   "outputs": [
    {
     "name": "stdout",
     "output_type": "stream",
     "text": [
      "inf\n",
      "inf\n"
     ]
    }
   ],
   "source": [
    "last_but_two=np.array([[1,-1,0],[1,1,-1],[0,-1,-1]])\n",
    "print(minimax(last_but_two,1))\n",
    "print(minimax(last_but_two,-1))"
   ]
  },
  {
   "cell_type": "code",
   "execution_count": 443,
   "metadata": {},
   "outputs": [
    {
     "name": "stdout",
     "output_type": "stream",
     "text": [
      "inf inf\n"
     ]
    }
   ],
   "source": [
    "third=np.array([[1,-1,1],[0,0,0],[0,0,0]])\n",
    "print(minimax(third,1),minimax(third,-1))"
   ]
  },
  {
   "cell_type": "code",
   "execution_count": 439,
   "metadata": {},
   "outputs": [
    {
     "name": "stdout",
     "output_type": "stream",
     "text": [
      "inf inf\n"
     ]
    }
   ],
   "source": [
    "origin=np.full(((3,3)),0)\n",
    "print(minimax(origin,1),minimax(origin,-1))"
   ]
  },
  {
   "cell_type": "code",
   "execution_count": null,
   "metadata": {},
   "outputs": [],
   "source": [
    "\n",
    "    "
   ]
  }
 ],
 "metadata": {
  "kernelspec": {
   "display_name": "Python (games)",
   "language": "python",
   "name": "games"
  },
  "language_info": {
   "codemirror_mode": {
    "name": "ipython",
    "version": 3
   },
   "file_extension": ".py",
   "mimetype": "text/x-python",
   "name": "python",
   "nbconvert_exporter": "python",
   "pygments_lexer": "ipython3",
   "version": "3.7.3"
  }
 },
 "nbformat": 4,
 "nbformat_minor": 2
}
