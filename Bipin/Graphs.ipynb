{
 "cells": [
  {
   "cell_type": "code",
   "execution_count": 1,
   "metadata": {},
   "outputs": [],
   "source": [
    "lst = [[1,2],[2,6],[2,7],[2,3],[3,4],[3,5],[4,5],[8,9],[5,10]]\n",
    "other_lst = [[1,2],[1,3],[1,4],[2,5],[2,6],[4,7],[4,8],[6,7]]\n",
    "cherries = [[1,2],[1,6],[2,3],[2,5],[3,4],[4,5],[6,9],[6,7],[8,9],[7,8]]"
   ]
  },
  {
   "cell_type": "code",
   "execution_count": 2,
   "metadata": {},
   "outputs": [
    {
     "data": {
      "text/plain": [
       "{1: [2, 3, 4],\n",
       " 2: [1, 5, 6],\n",
       " 3: [1],\n",
       " 4: [1, 7, 8],\n",
       " 5: [2],\n",
       " 6: [2, 7],\n",
       " 7: [4, 6],\n",
       " 8: [4]}"
      ]
     },
     "execution_count": 2,
     "metadata": {},
     "output_type": "execute_result"
    }
   ],
   "source": [
    "#T1.0 Create the graph dictionary\n",
    "def graph(lst):\n",
    "    graph = {}\n",
    "    for sublist in lst:\n",
    "        if not sublist[0] in graph.keys():\n",
    "            graph[sublist[0]] = [sublist[1]]\n",
    "        else:\n",
    "            graph[sublist[0]].append(sublist[1])\n",
    "        if not sublist[1] in graph.keys():\n",
    "            graph[sublist[1]] = [sublist[0]]\n",
    "        else:\n",
    "            graph[sublist[1]].append(sublist[0])    \n",
    "    return graph\n",
    "graph(other_lst)"
   ]
  },
  {
   "cell_type": "code",
   "execution_count": 3,
   "metadata": {},
   "outputs": [
    {
     "data": {
      "text/plain": [
       "{1: [2, 6],\n",
       " 2: [1, 3, 5],\n",
       " 3: [2, 4],\n",
       " 4: [3, 5],\n",
       " 5: [2, 4],\n",
       " 6: [1, 9, 7],\n",
       " 7: [8, 6],\n",
       " 8: [9, 7],\n",
       " 9: [8, 6]}"
      ]
     },
     "execution_count": 3,
     "metadata": {},
     "output_type": "execute_result"
    }
   ],
   "source": [
    "#T1.0 Alternative\n",
    "def make_graph(lst):\n",
    "    graph_keys = list(set([x for sublist in lst for x in sublist]))\n",
    "    graph = {}\n",
    "    for key in graph_keys:\n",
    "        graph[key] = list(set([value for sublist in lst for value in sublist if value != key if key in sublist]))\n",
    "    return graph\n",
    "make_graph(cherries)"
   ]
  },
  {
   "cell_type": "code",
   "execution_count": 11,
   "metadata": {},
   "outputs": [
    {
     "data": {
      "text/plain": [
       "True"
      ]
     },
     "execution_count": 11,
     "metadata": {},
     "output_type": "execute_result"
    }
   ],
   "source": [
    "#T1.1 find if two vertices are connected\n",
    "def connected(graph, start, end):\n",
    "    if end == start:\n",
    "        return True\n",
    "    eliminate.append(start)\n",
    "    for start in graph[start]:\n",
    "        if not start in eliminate:\n",
    "            if connected(graph, start, end):\n",
    "                return True\n",
    "    return False\n",
    "eliminate = []\n",
    "connected(make_graph(other_lst), 1, 8)"
   ]
  },
  {
   "cell_type": "code",
   "execution_count": 12,
   "metadata": {},
   "outputs": [
    {
     "data": {
      "text/plain": [
       "[2, 6, 7, 4, 8]"
      ]
     },
     "execution_count": 12,
     "metadata": {},
     "output_type": "execute_result"
    }
   ],
   "source": [
    "#T1.2 Find the connection path (first path found). To improve: should print both ends as well as the path\n",
    "def find_path(graph, start, end):\n",
    "    if end == start or end in graph[start]:\n",
    "        return [end]\n",
    "    eliminate.append(start)\n",
    "    for x in graph[start]:\n",
    "        if not x in eliminate:\n",
    "            path = find_path(graph, x, end)\n",
    "            if path:\n",
    "                path.insert(0,x)\n",
    "                return path\n",
    "    return []\n",
    "#Doesn't seem different from the below?\n",
    "#     if end == start or end in graph[start]:\n",
    "#         return [start, end]\n",
    "#     eliminate.append(start)\n",
    "#     for x in graph[start]:\n",
    "#         if not x in eliminate:\n",
    "#             if find_path(graph, x, end):\n",
    "#                 path.insert(0,x)\n",
    "#                 return path\n",
    "#     return []\n",
    "start=1\n",
    "end = 8\n",
    "eliminate = []\n",
    "find_path(make_graph(other_lst), start, end)"
   ]
  },
  {
   "cell_type": "code",
   "execution_count": 25,
   "metadata": {},
   "outputs": [
    {
     "data": {
      "text/plain": [
       "[1, 4, 8]"
      ]
     },
     "execution_count": 25,
     "metadata": {},
     "output_type": "execute_result"
    }
   ],
   "source": [
    "#T1.3 Find the connection path (fastest path)\n",
    "#use bfs (breadth first traversal) instead of dfs (depth first) method: i.e. FIFO instead of LIFO,\n",
    "#i.e. explore each sub-level superficially instead of all the way down\n",
    "#Note: recursion doesn't work for bfs, use a while loop instead\n",
    "def fastest_path(graph, start, end):\n",
    "    stack = [start]\n",
    "    visited_stack = []\n",
    "    path = [start]\n",
    "    while stack:\n",
    "        x = stack.pop() \n",
    "        if x == end:\n",
    "            break\n",
    "        eliminate.append(x)\n",
    "        if x in eliminate:\n",
    "            path = path[:path.index(x)+1]       \n",
    "        for child in graph[x]:\n",
    "            if not child in visited_stack:\n",
    "                stack.append(child)\n",
    "            if not child in eliminate:\n",
    "                path.append(child)\n",
    "                visited_stack.append(child)\n",
    "                break\n",
    "    return path\n",
    "start=1\n",
    "end = 8\n",
    "eliminate = []\n",
    "path = []\n",
    "find_path(make_graph(other_lst), start, end)"
   ]
  },
  {
   "cell_type": "code",
   "execution_count": null,
   "metadata": {},
   "outputs": [],
   "source": []
  }
 ],
 "metadata": {
  "kernelspec": {
   "display_name": "Python (games)",
   "language": "python",
   "name": "games"
  },
  "language_info": {
   "codemirror_mode": {
    "name": "ipython",
    "version": 3
   },
   "file_extension": ".py",
   "mimetype": "text/x-python",
   "name": "python",
   "nbconvert_exporter": "python",
   "pygments_lexer": "ipython3",
   "version": "3.6.8"
  }
 },
 "nbformat": 4,
 "nbformat_minor": 2
}
