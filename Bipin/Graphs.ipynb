{
 "cells": [
  {
   "cell_type": "code",
   "execution_count": 1,
   "metadata": {},
   "outputs": [],
   "source": [
    "lst = [[1,2],[2,6],[2,7],[2,3],[3,4],[3,5],[4,5],[8,9],[5,10]]\n",
    "pyramid = [[1,2],[1,3],[1,4],[2,5],[2,6],[4,7],[4,8], [6,7], [9,10]]\n",
    "cherries = [[1,2],[1,6],[2,3],[2,5],[3,4],[4,5],[6,9],[6,7],[8,9],[7,8]]"
   ]
  },
  {
   "cell_type": "code",
   "execution_count": 2,
   "metadata": {},
   "outputs": [
    {
     "data": {
      "text/plain": [
       "{1: [2, 3, 4],\n",
       " 2: [1, 5, 6],\n",
       " 3: [1],\n",
       " 4: [1, 7, 8],\n",
       " 5: [2],\n",
       " 6: [2, 7],\n",
       " 7: [4, 6],\n",
       " 8: [4],\n",
       " 9: [10],\n",
       " 10: [9]}"
      ]
     },
     "execution_count": 2,
     "metadata": {},
     "output_type": "execute_result"
    }
   ],
   "source": [
    "#T1.0 Create the graph dictionary\n",
    "def graph(lst):\n",
    "    graph = {}\n",
    "    for sublist in lst:\n",
    "        if not sublist[0] in graph.keys():\n",
    "            graph[sublist[0]] = [sublist[1]]\n",
    "        else:\n",
    "            graph[sublist[0]].append(sublist[1])\n",
    "        if not sublist[1] in graph.keys():\n",
    "            graph[sublist[1]] = [sublist[0]]\n",
    "        else:\n",
    "            graph[sublist[1]].append(sublist[0])    \n",
    "    return graph\n",
    "graph(pyramid)"
   ]
  },
  {
   "cell_type": "code",
   "execution_count": 3,
   "metadata": {},
   "outputs": [
    {
     "data": {
      "text/plain": [
       "{1: [2, 3, 4],\n",
       " 2: [1, 5, 6],\n",
       " 3: [1],\n",
       " 4: [8, 1, 7],\n",
       " 5: [2],\n",
       " 6: [2, 7],\n",
       " 7: [4, 6],\n",
       " 8: [4],\n",
       " 9: [10],\n",
       " 10: [9]}"
      ]
     },
     "execution_count": 3,
     "metadata": {},
     "output_type": "execute_result"
    }
   ],
   "source": [
    "#T1.0 Alternative (do not use when debugging, complicated when the dict is not ordered)\n",
    "def make_graph(lst):\n",
    "    graph_keys = list(set([x for sublist in lst for x in sublist]))\n",
    "    graph = {}\n",
    "    for key in graph_keys:\n",
    "        graph[key] = list(set([value for sublist in lst for value in sublist if value != key if key in sublist]))\n",
    "    return graph\n",
    "make_graph(pyramid)"
   ]
  },
  {
   "cell_type": "code",
   "execution_count": 4,
   "metadata": {},
   "outputs": [
    {
     "data": {
      "text/plain": [
       "True"
      ]
     },
     "execution_count": 4,
     "metadata": {},
     "output_type": "execute_result"
    }
   ],
   "source": [
    "#T1.1 find if two vertices are connected (recursion runs a dfs)\n",
    "def connected(graph, start, end):\n",
    "    if end == start:\n",
    "        return True\n",
    "    eliminate.append(start)\n",
    "    for start in graph[start]:\n",
    "        if not start in eliminate:\n",
    "            if connected(graph, start, end):\n",
    "                return True\n",
    "    return False\n",
    "eliminate = []\n",
    "connected(graph(pyramid), 2, 5)"
   ]
  },
  {
   "cell_type": "code",
   "execution_count": 72,
   "metadata": {},
   "outputs": [
    {
     "data": {
      "text/plain": [
       "[2, 6, 7, 4, 8]"
      ]
     },
     "execution_count": 72,
     "metadata": {},
     "output_type": "execute_result"
    }
   ],
   "source": [
    "#T1.2 Find the connection path (first path found) using recursion\n",
    "def recursion_dfs_path(graph, start, end):\n",
    "    if start == end:\n",
    "        return 'start = end'\n",
    "    visited.append(start)\n",
    "    for child in graph[start]:\n",
    "        if not child in visited:\n",
    "            if recursion_dfs_path(graph, child, end):\n",
    "                path.insert(0, child)\n",
    "                return path\n",
    "    return path\n",
    "visited = []\n",
    "path = []\n",
    "recursion_dfs_path(graph(pyramid), 1, 8)"
   ]
  },
  {
   "cell_type": "markdown",
   "metadata": {},
   "source": [
    "<p>BFS (breadth first traversal) = LIFO = stack => returns the first path found</p>\n",
    "<p>vs. </p>\n",
    "<p>DFS (depth first) = FIFO = queue => returns the optimal path by exploring each sub-level superficially instead of all the way down</p>\n",
    "<p>Recursions can only run DFS, and while loop can return both. Note that while loop dfs will read the children nodes in reverse order compared with recursion</p>"
   ]
  },
  {
   "cell_type": "code",
   "execution_count": 16,
   "metadata": {},
   "outputs": [],
   "source": [
    "#find_path to build the path dictoinary from end to start after the route is found\n",
    "def find_path(parent, end):\n",
    "    node = end\n",
    "    path = []\n",
    "    while node in parent.keys():\n",
    "        if not end in path:\n",
    "            path.append(end)\n",
    "        path.append(parent[node])\n",
    "        node = parent[node]     \n",
    "    return list(reversed(path))"
   ]
  },
  {
   "cell_type": "code",
   "execution_count": 66,
   "metadata": {},
   "outputs": [
    {
     "data": {
      "text/plain": [
       "[1, 4, 8]"
      ]
     },
     "execution_count": 66,
     "metadata": {},
     "output_type": "execute_result"
    }
   ],
   "source": [
    "#T1.2 Alternative Find the connection path (first path found) using a while loop\n",
    "def while_dfs_path(graph, start, end):\n",
    "    stack = [start]\n",
    "    visited = [start]\n",
    "    parent = {}\n",
    "    while stack:\n",
    "        current = stack.pop()\n",
    "        if current == end:\n",
    "            break\n",
    "        for child in graph[current]:\n",
    "            if child not in visited:\n",
    "                stack.append(child)\n",
    "                visited.append(child)\n",
    "                parent[child] = current\n",
    "    return find_path(parent, end)\n",
    "start=1\n",
    "end = 8\n",
    "eliminate = []\n",
    "while_dfs_path(graph(pyramid), start, end)"
   ]
  },
  {
   "cell_type": "code",
   "execution_count": 21,
   "metadata": {},
   "outputs": [
    {
     "data": {
      "text/plain": [
       "[1, 4, 8]"
      ]
     },
     "execution_count": 21,
     "metadata": {},
     "output_type": "execute_result"
    }
   ],
   "source": [
    "#T1.3 Find the connection path (fastest path)\n",
    "def while_bfs_path(graph, start, end):\n",
    "    queue = [start]\n",
    "    visited = [start]\n",
    "    parent = {}\n",
    "    while queue:\n",
    "        current = queue.pop(0) \n",
    "        if current == end:\n",
    "            break\n",
    "        for child in graph[current]:\n",
    "            if child not in visited:\n",
    "                queue.append(child)\n",
    "                visited.append(child)\n",
    "                parent[child] = current\n",
    "    return find_path(parent, end)\n",
    "start=1\n",
    "end = 8\n",
    "while_bfs_path(graph(pyramid), start, end)"
   ]
  },
  {
   "cell_type": "code",
   "execution_count": 128,
   "metadata": {},
   "outputs": [],
   "source": [
    "#Example using bfs & dfs with a maze (example from vbipin)\n",
    "class SearchGrid :\n",
    "    def __init__(self, rows=5, columns=5, walls=[] ) : #walls -> [ list of index ]\n",
    "        self.rows = rows\n",
    "        self.columns = columns\n",
    "        self.N = rows * columns #total cells\n",
    "        self.walls = walls\n",
    "        \n",
    "    def edges(self) : \n",
    "        \"\"\"return edges of the graph in a list of tuples (u,v)\"\"\"\n",
    "        edges = []\n",
    "\n",
    "        #Just a convenient funtion\n",
    "        def _add_edge(u, v) :\n",
    "            #we add the edge if source and destinations are not walls\n",
    "            #and within the grid\n",
    "            if u not in self.walls and v not in self.walls and u < self.N and v < self.N :\n",
    "                edges.append( (u,v) )\n",
    "        \n",
    "        #forward links and downward links\n",
    "        for i in range(self.N) :\n",
    "            if (i+1) % self.columns != 0 :#checking if it is an edge cell\n",
    "                _add_edge(i, i+1)         #connect to next cell\n",
    "            _add_edge(i,i+self.columns)  #connect to the cell below; it is i+width\n",
    "        \n",
    "        return edges\n",
    "    \n",
    "    #pretty print the grid and path if given. path -> [ list of nodes ]\n",
    "    def print(self, path=[]) :\n",
    "        for i in range(self.N) :\n",
    "            if i in self.walls :\n",
    "                print('# ', end='')\n",
    "            elif i in path :\n",
    "                print('^ ', end='')\n",
    "            else :\n",
    "                print('. ', end='')\n",
    "            if (i+1) % self.columns == 0 :\n",
    "                print(\"\")"
   ]
  },
  {
   "cell_type": "code",
   "execution_count": 129,
   "metadata": {},
   "outputs": [],
   "source": [
    "import random\n",
    "def create_walls(nwalls):\n",
    "    return [random.randint(0,grid.N-1) for _ in range(nwalls)]"
   ]
  },
  {
   "cell_type": "code",
   "execution_count": 130,
   "metadata": {},
   "outputs": [],
   "source": [
    "grid = SearchGrid(4,4,walls=[6,13])\n",
    "# g = undirected_graph(Graph(), grid.edges() )"
   ]
  },
  {
   "cell_type": "code",
   "execution_count": 131,
   "metadata": {},
   "outputs": [
    {
     "name": "stdout",
     "output_type": "stream",
     "text": [
      ". . . . \n",
      ". . # . \n",
      ". . . . \n",
      ". # . . \n"
     ]
    }
   ],
   "source": [
    "grid.print()"
   ]
  },
  {
   "cell_type": "code",
   "execution_count": 132,
   "metadata": {},
   "outputs": [
    {
     "data": {
      "text/plain": [
       "[(0, 1),\n",
       " (0, 4),\n",
       " (1, 2),\n",
       " (1, 5),\n",
       " (2, 3),\n",
       " (3, 7),\n",
       " (4, 5),\n",
       " (4, 8),\n",
       " (5, 9),\n",
       " (7, 11),\n",
       " (8, 9),\n",
       " (8, 12),\n",
       " (9, 10),\n",
       " (10, 11),\n",
       " (10, 14),\n",
       " (11, 15),\n",
       " (14, 15)]"
      ]
     },
     "execution_count": 132,
     "metadata": {},
     "output_type": "execute_result"
    }
   ],
   "source": [
    "grid.edges()"
   ]
  },
  {
   "cell_type": "code",
   "execution_count": 138,
   "metadata": {},
   "outputs": [],
   "source": [
    "grid = SearchGrid(100,30,walls=create_walls(500))"
   ]
  },
  {
   "cell_type": "code",
   "execution_count": 139,
   "metadata": {},
   "outputs": [
    {
     "data": {
      "text/plain": [
       "129"
      ]
     },
     "execution_count": 139,
     "metadata": {},
     "output_type": "execute_result"
    }
   ],
   "source": [
    "path_labyrinth = while_bfs_path(graph(grid.edges()),0,grid.N-1)\n",
    "# grid.print(path_labyrinth)\n",
    "len(path_labyrinth)"
   ]
  },
  {
   "cell_type": "code",
   "execution_count": 140,
   "metadata": {},
   "outputs": [
    {
     "data": {
      "text/plain": [
       "143"
      ]
     },
     "execution_count": 140,
     "metadata": {},
     "output_type": "execute_result"
    }
   ],
   "source": [
    "path_labyrinth1 = while_dfs_path(graph(grid.edges()),0,grid.N-1)\n",
    "len(path_labyrinth1)"
   ]
  },
  {
   "cell_type": "code",
   "execution_count": 192,
   "metadata": {},
   "outputs": [
    {
     "name": "stdout",
     "output_type": "stream",
     "text": [
      "^ ^ ^ ^ ^ ^ ^ ^ ^ ^ ^ ^ ^ ^ ^ ^ ^ ^ ^ ^ ^ ^ ^ ^ ^ ^ . . . . \n",
      ". # . . . . . . . . . . . . . . . . . . . . . . . ^ . . . . \n",
      ". . . . # . . . . . . . . . . . . . . . . . . . . ^ . . . . \n",
      ". . . . . . . . . . . . . . . . . . . . . . . . . ^ . . . . \n",
      ". . . . . . . . . . . . . . . . . . . . . . # . . ^ . . . . \n",
      ". . . . . . . . . . . . . . . . . . . . . . . . . ^ . . . . \n",
      ". . . . . . . . . . . . . . . . . . # . . . . . . ^ . . . # \n",
      ". . . . . . . . . . . . . . . . . # . . . . . . . ^ # . # . \n",
      ". . . . . . . . . . # . . . . . . . . . # . . . . ^ . . . . \n",
      "# . . . . . . . . . . . . . . . . . . . . . . . . ^ . # . . \n",
      ". . . . . . . . . . . . . . . . . . . . . . . . # ^ . . . . \n",
      ". . . . . . . . . . . . . . . . . . . . . . . . . ^ . . . . \n",
      ". . . . . . . . . . . . . . . . . . . . . . . . . ^ . . . . \n",
      "# . . . . . . . . . . . . . . . . . . . . . . . . ^ . . . . \n",
      ". . . . . . . # . . . . . . . . . . . . . . . . . ^ . . . . \n",
      ". . # . . . . . . . . . . . . # . . . . . . . . . ^ . . . . \n",
      ". . . . . . . . . . . . . . . . # . . . . . . . . ^ . . . . \n",
      ". . . . . # . . . . . . . . . . . . . . . . . . . ^ . . . . \n",
      ". . . . . . . . . . . . . # . . . . . . . . . . . ^ . . . . \n",
      ". . . . . . . . . . . . . . . . . . . . . . . . . ^ . . . . \n",
      ". . . . . . . . . . . . . . . . . # . . . . . . . ^ . . . . \n",
      ". # . . . . . . . . . . . . . . . . . . . . . . . ^ . . . . \n",
      ". . . . . . . . . . . . . . . . . . . . . . . . # ^ . . . . \n",
      ". . . . # . . . . . . . . # . . . . . . . . . . . ^ . . . . \n",
      ". # . . . . . # . . . . . # . . . . . . . . . . . ^ . . . . \n",
      ". . . . . . . . . . . . . . # . # . . . . . . . . ^ . . . . \n",
      ". . . . . . . . . . . . . . # . . . . . . . # . . ^ . . . . \n",
      ". . . . . . . . . . . . . . . . . . . . . . . . . ^ . . . . \n",
      ". . . . . . . . . . . . . . . . . . . . . . . . . ^ . . . . \n",
      ". . . . . . . . . . . . . . . . . . # . . . . . . ^ . . . # \n",
      ". . . . . . . . . . . . . . . . . . . # . . . . . ^ . . . . \n",
      ". . . . . . . . . . . . . . . . # . . . . # . . . ^ . . . # \n",
      ". . . . . . # . . . . # . . . . . . . . . . . . . ^ . . . . \n",
      ". . . . . . . . . . . . . . . . . . . . . . . . . ^ . . . . \n",
      ". . . . . . . . . . . . . . . . . . . . . . . . . ^ . . . . \n",
      ". . . . . . . . . . . . . . . . . # . . . . . # . ^ . . . . \n",
      "# . . . . . . . . . . . . . # . . . . . . . . . . ^ . . . . \n",
      ". . . . . . . . . . . . # . . . . . . . . . . . . ^ . . . . \n",
      ". . . . . . . . . . . . . . . . . . . . . . . . # ^ . . . . \n",
      ". . . . . . . . . . . . . . . . . . . . . # . . . ^ . . . . \n",
      ". . . . . # . . . . . . . . . # . . . . . . . . . ^ # . . . \n",
      "# . . # . . . . . . . . # . . . . . . . . . . . . ^ ^ . . . \n",
      ". . . . . . . # . . . # . . . . . . . . . . . . . . ^ . . . \n",
      ". . . . . . . . . . . . . . . . . . . . . . . . . . ^ . . . \n",
      ". . . . # . . . . . . . . . . . . . . . . . . . . . ^ . . . \n",
      ". . . . . . . # . . . # . . . . # . # . . . . . . . ^ . . . \n",
      "# . . . . . . . . . . . . . . . . # . . . . . . . . ^ . . . \n",
      ". . . . . . . # . . . . . # . . . . # . . . . . . . ^ . . . \n",
      ". # . . . . . . # . . . . . . . . . . . . . . . . . ^ . . . \n",
      ". . . . . . . . . . . . . . . . . . . . . . . . . . ^ . . . \n",
      ". . . . . . # . . . . . . . . . . . . . . . . . . . ^ . . . \n",
      ". . . . . . # . . . . . . . . . . . . . . . . . . . ^ . . . \n",
      ". . . . . . . . . . . . . . . . . . . . . . . . . . ^ . . . \n",
      ". # . . . . . . . . . . . . . . . . . . . # . . . . ^ . . . \n",
      ". . . . . . . . . . . . . . . . . . . . . . . . . . ^ . . . \n",
      ". . . . . . . . . . . . . . . # . . . . . . . . . . ^ . . . \n",
      ". . . . . . . . . . . . . . # . . . . . . # . . . . ^ . . # \n",
      ". . . # . # . . . . . . . # . . . . . . . . . . . . ^ . . . \n",
      ". . . . . . . . . . . . . . . . . . . # . . . . . . ^ # . . \n",
      ". . . . . . . . . . . . . . . . . . . . . . . . . # ^ ^ . . \n",
      ". . . . . . . . . . . . . . # . . . . . . . . . . . . ^ . . \n",
      ". . . . . . . . . # . . . . . . . . . . # . . . . . . ^ . . \n",
      ". . . . . . . . . . . . . . . . . . . . . . . . . . . ^ . . \n",
      "# . . # . . . . . . . . . . . . . . . . . . . . # . . ^ . . \n",
      ". . . . . . . . . . . . . . . . . . . . . . . . . . . ^ . . \n",
      "# # . . . . . . . . . . . . . . . . . . . . . . . . . ^ # . \n",
      ". . . . . # . . . # . . . . . . # . . . . . . . . . . ^ # . \n",
      ". . . . . . . . . . . . . . . . . . . . # . . . . . . ^ ^ . \n",
      ". . . . . . . . . . . . . . # . . . . . . . . . . . . . ^ . \n",
      ". . . . . . . . . . . . . . . . . . . . . . . . . . . . ^ . \n",
      ". . . . # . . . . . . . . . . . . # . . # . . . . . . . ^ . \n",
      ". . . . # . . . . . . . . . . . . . # . . . . . . . . . ^ . \n",
      ". . . . . . . . . . . . . . . . # . . . . . . . . . . . ^ # \n",
      ". . . . . . . . . . . . . . . . . . # . . . . . . . . . ^ ^ \n",
      ". . . . . . . . # . . . . . . . . . . . . . . . . . . . . ^ \n",
      ". . . . . . . . . . . . . # . . . . . . . . . . . . . . . ^ \n",
      ". . . . . . . . . . . . . . . . . . . . . . . . . . . . . ^ \n",
      ". . . . . . . . . . . . . # . . . . . . . . . . . . # . . ^ \n",
      ". . . . . . . . . . . . . . . . . . . . . . . . . . . . . ^ \n",
      ". . . . . . . . . . . . . . . . . . . . . . # . . . . . # ^ \n",
      ". . . # . . . . . . . . . . . . . . . # . . . . . . . . . ^ \n",
      "# . . . . . . . . . . . . . # . . . . . . . . . . . . . . ^ \n",
      ". . . . . . . . . . . . . . . . . . # . . . . . . . . . . ^ \n",
      ". . . . . . . . . . . . . . . . . . . . # . . . . . . . . ^ \n",
      ". . # . . . . . . . . . . . . . . . . . . . . . . . . . . ^ \n",
      ". . . . . . . . . . . . . . . . . . . . . . . . . . . . # ^ \n",
      ". . # . . . . . . . . . . . . . . . . . . . . . . . . . . ^ \n",
      ". . . . . . . . . . . . . . . # . . . . # . . . . . . . . ^ \n",
      ". . . . . . . . . . . . . . . . . . . . . . . . . . . . . ^ \n",
      ". . . . . . . . . . . . . . . . . # . . . . . . . . . . . ^ \n",
      ". . # . . . . . . . . . # . . . . . . . . . . . . . . . . ^ \n",
      ". . . . . . . . . . . # . . . . . # . . . . . . . . . . . ^ \n",
      "# . # . . . . . # . . . . . . . . . . . . . . . . . . . # ^ \n",
      ". . . . . . . . . . . . . . . . # . . . . . . . . . . . . ^ \n",
      ". . . . . . . # . . . . . . . . . . . . . . . . . . . . . ^ \n",
      ". . # . . . . # . . . . . . . . . . . . . . . . . . . . . ^ \n",
      ". . # . . . . . . . # . . . . . . . . . . # . . . . . . . ^ \n",
      ". . . . . . . . . . . . . . . . . . . . . . . . . . . . . ^ \n",
      ". . . . . . . . . . . . . . . . . . . . . . . . . # . . . ^ \n",
      ". . . . . . . . . . # . # . . . . . . . . . . . . . # . . ^ \n",
      "\n",
      "\n",
      "^ . . . . . . . . . . . . . . . . . . . . . . . . . . . . . \n",
      "^ # . . . . . . . . . . . . . . . . . . . . . . . . . . . . \n",
      "^ . . . # . . . . . . . . . . . . . . . . . . . . . . . . . \n",
      "^ . . . . . . . . . . . . . . . . . . . . . . . . . . . . . \n",
      "^ . . . . . . . . . . . . . . . . . . . . . # . . . . . . . \n",
      "^ . . . . . . . . . . . . . . . . . . . . . . . . . . . . . \n",
      "^ . . . . . . . . . . . . . . . . . # . . . . . . . . . . # \n",
      "^ . . . . . . . . . . . . . . . . # . . . . . . . . # . # . \n",
      "^ ^ . . . . . . . . # . . . . . . . . . # . . . . . . . . . \n",
      "# ^ . . . . . . . . . . . . . . . . . . . . . . . . . # . . \n",
      ". ^ . . . . . . . . . . . . . . . . . . . . . . # . . . . . \n",
      ". ^ . . . . . . . . . . . . . . . . . . . . . . . . . . . . \n",
      ". ^ . . . . . . . . . . . . . . . . . . . . . . . . . . . . \n",
      "# ^ . . . . . . . . . . . . . . . . . . . . . . . . . . . . \n",
      ". ^ . . . . . # . . . . . . . . . . . . . . . . . . . . . . \n",
      ". ^ # . . . . . . . . . . . . # . . . . . . . . . . . . . . \n",
      ". ^ . . . . . . . . . . . . . . # . . . . . . . . . . . . . \n",
      ". ^ . . . # . . . . . . . . . . . . . . . . . . . . . . . . \n",
      ". ^ . . . . . . . . . . . # . . . . . . . . . . . . . . . . \n",
      ". ^ . . . . . . . . . . . . . . . . . . . . . . . . . . . . \n",
      ". ^ ^ . . . . . . . . . . . . . . # . . . . . . . . . . . . \n",
      ". # ^ . . . . . . . . . . . . . . . . . . . . . . . . . . . \n",
      ". . ^ . . . . . . . . . . . . . . . . . . . . . # . . . . . \n",
      ". . ^ . # . . . . . . . . # . . . . . . . . . . . . . . . . \n",
      ". # ^ . . . . # . . . . . # . . . . . . . . . . . . . . . . \n",
      ". . ^ . . . . . . . . . . . # . # . . . . . . . . . . . . . \n",
      ". . ^ . . . . . . . . . . . # . . . . . . . # . . . . . . . \n",
      ". . ^ . . . . . . . . . . . . . . . . . . . . . . . . . . . \n",
      ". . ^ . . . . . . . . . . . . . . . . . . . . . . . . . . . \n",
      ". . ^ . . . . . . . . . . . . . . . # . . . . . . . . . . # \n",
      ". . ^ . . . . . . . . . . . . . . . . # . . . . . . . . . . \n",
      ". . ^ . . . . . . . . . . . . . # . . . . # . . . . . . . # \n",
      ". . ^ . . . # . . . . # . . . . . . . . . . . . . . . . . . \n",
      ". . ^ . . . . . . . . . . . . . . . . . . . . . . . . . . . \n",
      ". . ^ . . . . . . . . . . . . . . . . . . . . . . . . . . . \n",
      ". . ^ . . . . . . . . . . . . . . # . . . . . # . . . . . . \n",
      "# . ^ . . . . . . . . . . . # . . . . . . . . . . . . . . . \n",
      ". . ^ . . . . . . . . . # . . . . . . . . . . . . . . . . . \n",
      ". . ^ . . . . . . . . . . . . . . . . . . . . . # . . . . . \n",
      ". . ^ . . . . . . . . . . . . . . . . . . # . . . . . . . . \n",
      ". . ^ . . # . . . . . . . . . # . . . . . . . . . . # . . . \n",
      "# . ^ # . . . . . . . . # . . . . . . . . . . . . . . . . . \n",
      ". . ^ . . . . # . . . # . . . . . . . . . . . . . . . . . . \n",
      ". . ^ . . . . . . . . . . . . . . . . . . . . . . . . . . . \n",
      ". . ^ . # . . . . . . . . . . . . . . . . . . . . . . . . . \n",
      ". . ^ . . . . # . . . # . . . . # . # . . . . . . . . . . . \n",
      "# . ^ . . . . . . . . . . . . . . # . . . . . . . . . . . . \n",
      ". . ^ . . . . # . . . . . # . . . . # . . . . . . . . . . . \n",
      ". # ^ . . . . . # . . . . . . . . . . . . . . . . . . . . . \n",
      ". . ^ . . . . . . . . . . . . . . . . . . . . . . . . . . . \n",
      ". . ^ . . . # . . . . . . . . . . . . . . . . . . . . . . . \n"
     ]
    },
    {
     "name": "stdout",
     "output_type": "stream",
     "text": [
      ". . ^ . . . # . . . . . . . . . . . . . . . . . . . . . . . \n",
      ". . ^ . . . . . . . . . . . . . . . . . . . . . . . . . . . \n",
      ". # ^ . . . . . . . . . . . . . . . . . . # . . . . . . . . \n",
      ". . ^ . . . . . . . . . . . . . . . . . . . . . . . . . . . \n",
      ". . ^ . . . . . . . . . . . . # . . . . . . . . . . . . . . \n",
      ". . ^ . . . . . . . . . . . # . . . . . . # . . . . . . . # \n",
      ". . ^ # . # . . . . . . . # . . . . . . . . . . . . . . . . \n",
      ". . ^ . . . . . . . . . . . . . . . . # . . . . . . . # . . \n",
      ". . ^ . . . . . . . . . . . . . . . . . . . . . . # . . . . \n",
      ". . ^ . . . . . . . . . . . # . . . . . . . . . . . . . . . \n",
      ". . ^ . . . . . . # . . . . . . . . . . # . . . . . . . . . \n",
      ". . ^ . . . . . . . . . . . . . . . . . . . . . . . . . . . \n",
      "# . ^ # . . . . . . . . . . . . . . . . . . . . # . . . . . \n",
      ". . ^ . . . . . . . . . . . . . . . . . . . . . . . . . . . \n",
      "# # ^ . . . . . . . . . . . . . . . . . . . . . . . . . # . \n",
      ". . ^ . . # . . . # . . . . . . # . . . . . . . . . . . # . \n",
      ". . ^ . . . . . . . . . . . . . . . . . # . . . . . . . . . \n",
      ". . ^ . . . . . . . . . . . # . . . . . . . . . . . . . . . \n",
      ". . ^ . . . . . . . . . . . . . . . . . . . . . . . . . . . \n",
      ". . ^ . # . . . . . . . . . . . . # . . # . . . . . . . . . \n",
      ". . ^ . # . . . . . . . . . . . . . # . . . . . . . . . . . \n",
      ". . ^ . . . . . . . . . . . . . # . . . . . . . . . . . . # \n",
      ". . ^ . . . . . . . . . . . . . . . # . . . . . . . . . . . \n",
      ". . ^ . . . . . # . . . . . . . . . . . . . . . . . . . . . \n",
      ". . ^ . . . . . . . . . . # . . . . . . . . . . . . . . . . \n",
      ". . ^ . . . . . . . . . . . . . . . . . . . . . . . . . . . \n",
      ". . ^ . . . . . . . . . . # . . . . . . . . . . . . # . . . \n",
      ". . ^ . . . . . . . . . . . . . . . . . . . . . . . . . . . \n",
      ". . ^ . . . . . . . . . . . . . . . . . . . # . . . . . # . \n",
      ". . ^ # . . . . . . . . . . . . . . . # . . . . . . . . . . \n",
      "# . ^ . . . . . . . . . . . # . . . . . . . . . . . . . . . \n",
      ". . ^ . . . . . . . . . . . . . . . # . . . . . . . . . . . \n",
      ". . ^ ^ . . . . . . . . . . . . . . . . # . . . . . . . . . \n",
      ". . # ^ . . . . . . . . . . . . . . . . . . . . . . . . . . \n",
      ". . . ^ . . . . . . . . . . . . . . . . . . . . . . . . # . \n",
      ". . # ^ . . . . . . . . . . . . . . . . . . . . . . . . . . \n",
      ". . . ^ . . . . . . . . . . . # . . . . # . . . . . . . . . \n",
      ". . . ^ . . . . . . . . . . . . . . . . . . . . . . . . . . \n",
      ". . . ^ . . . . . . . . . . . . . # . . . . . . . . . . . . \n",
      ". . # ^ . . . . . . . . # . . . . . . . . . . . . . . . . . \n",
      ". . . ^ . . . . . . . # . . . . . # . . . . . . . . . . . . \n",
      "# . # ^ . . . . # . . . . . . . . . . . . . . . . . . . # . \n",
      ". . . ^ . . . . . . . . . . . . # . . . . . . . . . . . . . \n",
      ". . . ^ . . . # . . . . . . . . . . . . . . . . . . . . . . \n",
      ". . # ^ . . . # . . . . . . . . . . . . . . . . . . . . . . \n",
      ". . # ^ . . . . . . # . . . . . . . . . . # . . . . . . . . \n",
      ". . . ^ . . . . . . . . . . . . . . . . . . . . ^ ^ ^ . . . \n",
      ". . . ^ . . . . . ^ ^ ^ ^ ^ . . . . . . . . . . ^ # ^ ^ . . \n",
      ". . . ^ ^ ^ ^ ^ ^ ^ # . # ^ ^ ^ ^ ^ ^ ^ ^ ^ ^ ^ ^ . # ^ ^ ^ \n"
     ]
    }
   ],
   "source": [
    "grid.print(path_labyrinth)\n",
    "print()\n",
    "print()\n",
    "grid.print(path_labyrinth1)"
   ]
  },
  {
   "cell_type": "code",
   "execution_count": 100,
   "metadata": {},
   "outputs": [
    {
     "data": {
      "text/plain": [
       "{1: [2, 4, 3],\n",
       " 2: [6, 1, 5],\n",
       " 3: [1],\n",
       " 4: [7, 8, 1],\n",
       " 5: [2],\n",
       " 6: [7, 2],\n",
       " 7: [6, 4],\n",
       " 8: [4]}"
      ]
     },
     "execution_count": 100,
     "metadata": {},
     "output_type": "execute_result"
    }
   ],
   "source": [
    "#1.4 Add weights (create priority queue)\n",
    "#format for weighted: weight as last item in the list\n",
    "weighted = [[1,2,1],[1,3,8],[1,4,6],[2,5,4],[2,6,1],[4,7,2],[4,8,5], [6,7,1]]\n",
    "\n",
    "def weighted_graph(graph_as_list):   \n",
    "    graph_copy = graph_as_list.copy()\n",
    "    for sublist in graph_copy:\n",
    "        new_sub_list = [sublist[i] for i in [1,0,2]]\n",
    "        graph_as_list.append(new_sub_list)\n",
    "    \n",
    "    graph_keys = list(set([x[0] for x in graph_as_list]))\n",
    "    \n",
    "    graph = {}\n",
    "    for key in graph_keys:\n",
    "        graph[key] = sorted([(x[1],x[2]) for x in graph_as_list if x[0] == key], key=lambda tup: tup[1])\n",
    "        \n",
    "    for key in graph_keys:\n",
    "        graph[key] = [tup[0] for tup in graph[key]]\n",
    "        \n",
    "    return graph\n",
    "weighted_graph(weighted)"
   ]
  },
  {
   "cell_type": "code",
   "execution_count": 104,
   "metadata": {},
   "outputs": [
    {
     "data": {
      "text/plain": [
       "[1, 4, 8]"
      ]
     },
     "execution_count": 104,
     "metadata": {},
     "output_type": "execute_result"
    }
   ],
   "source": [
    "while_dfs_path(weighted_graph(weighted), 1, 8)"
   ]
  },
  {
   "cell_type": "code",
   "execution_count": null,
   "metadata": {},
   "outputs": [],
   "source": [
    "#MDP: also similar concept for slip and fall (Markov Decision Process)\n",
    "#2.0 Add slip and fall situations (10% chance to end up on a child node)"
   ]
  }
 ],
 "metadata": {
  "kernelspec": {
   "display_name": "Python (games)",
   "language": "python",
   "name": "games"
  },
  "language_info": {
   "codemirror_mode": {
    "name": "ipython",
    "version": 3
   },
   "file_extension": ".py",
   "mimetype": "text/x-python",
   "name": "python",
   "nbconvert_exporter": "python",
   "pygments_lexer": "ipython3",
   "version": "3.6.8"
  }
 },
 "nbformat": 4,
 "nbformat_minor": 2
}
