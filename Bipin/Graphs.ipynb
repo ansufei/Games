{
 "cells": [
  {
   "cell_type": "code",
   "execution_count": 1,
   "metadata": {},
   "outputs": [],
   "source": [
    "lst = [[1,2],[2,6],[2,7],[2,3],[3,4],[3,5],[4,5],[8,9],[5,10]]"
   ]
  },
  {
   "cell_type": "code",
   "execution_count": 2,
   "metadata": {},
   "outputs": [
    {
     "data": {
      "text/plain": [
       "{1: [2],\n",
       " 2: [1, 6, 7, 3],\n",
       " 6: [2],\n",
       " 7: [2],\n",
       " 3: [2, 4, 5],\n",
       " 4: [3, 5],\n",
       " 5: [3, 4, 10],\n",
       " 8: [9],\n",
       " 9: [8],\n",
       " 10: [5]}"
      ]
     },
     "execution_count": 2,
     "metadata": {},
     "output_type": "execute_result"
    }
   ],
   "source": [
    "#T1.0 Create the graph dictionary\n",
    "def graph(lst):\n",
    "    graph_dict = {}\n",
    "    for sublist in lst:\n",
    "        if not sublist[0] in graph_dict.keys():\n",
    "            graph_dict[sublist[0]] = [sublist[1]]\n",
    "        else:\n",
    "            graph_dict[sublist[0]].append(sublist[1])\n",
    "        if not sublist[1] in graph_dict.keys():\n",
    "            graph_dict[sublist[1]] = [sublist[0]]\n",
    "        else:\n",
    "            graph_dict[sublist[1]].append(sublist[0])    \n",
    "    return graph_dict\n",
    "graph(lst)"
   ]
  },
  {
   "cell_type": "code",
   "execution_count": 3,
   "metadata": {},
   "outputs": [
    {
     "data": {
      "text/plain": [
       "{1: [2],\n",
       " 2: [1, 3, 6, 7],\n",
       " 3: [2, 4, 5],\n",
       " 4: [3, 5],\n",
       " 5: [10, 3, 4],\n",
       " 6: [2],\n",
       " 7: [2],\n",
       " 8: [9],\n",
       " 9: [8],\n",
       " 10: [5]}"
      ]
     },
     "execution_count": 3,
     "metadata": {},
     "output_type": "execute_result"
    }
   ],
   "source": [
    "#T1.0 Alternative\n",
    "def graph(lst):\n",
    "    graph_keys = list(set([x for sublist in lst for x in sublist]))\n",
    "    graph_dict = {}\n",
    "    for key in graph_keys:\n",
    "        graph_dict[key] = list(set([value for sublist in lst for value in sublist if value != key if key in sublist]))\n",
    "    return graph_dict\n",
    "graph(lst)"
   ]
  },
  {
   "cell_type": "code",
   "execution_count": 4,
   "metadata": {},
   "outputs": [
    {
     "data": {
      "text/plain": [
       "True"
      ]
     },
     "execution_count": 4,
     "metadata": {},
     "output_type": "execute_result"
    }
   ],
   "source": [
    "#T1.1 find if two vertices are connected\n",
    "def connected(graph_dict, start, end, eliminate):\n",
    "    if end == start or end in graph_dict[start]:\n",
    "        return True\n",
    "    eliminate.append(start)\n",
    "    for x in graph_dict[start]:\n",
    "        if not x in eliminate:\n",
    "            if connected(graph_dict, x, end, eliminate):\n",
    "                return True\n",
    "    return False\n",
    "connected(graph(lst), 1, 7, eliminate=[])"
   ]
  },
  {
   "cell_type": "code",
   "execution_count": 5,
   "metadata": {},
   "outputs": [
    {
     "data": {
      "text/plain": [
       "[2, 3, 4, 5, 10]"
      ]
     },
     "execution_count": 5,
     "metadata": {},
     "output_type": "execute_result"
    }
   ],
   "source": [
    "#T1.2 Find the connection path (first path found)\n",
    "def find_path(graph_dict, start, end, eliminate, path):\n",
    "    if end == start or end in graph_dict[start]:\n",
    "        return [start, end]\n",
    "    eliminate.append(start)\n",
    "    for x in graph_dict[start]:\n",
    "        if not x in eliminate:\n",
    "            if find_path(graph_dict, x, end, eliminate, path):\n",
    "                path.insert(0,x)\n",
    "                return path\n",
    "    return False\n",
    "start=1\n",
    "end = 10\n",
    "find_path(graph(lst), start, end, eliminate=[], path = [end])"
   ]
  },
  {
   "cell_type": "code",
   "execution_count": null,
   "metadata": {},
   "outputs": [],
   "source": []
  }
 ],
 "metadata": {
  "kernelspec": {
   "display_name": "Python (games)",
   "language": "python",
   "name": "games"
  },
  "language_info": {
   "codemirror_mode": {
    "name": "ipython",
    "version": 3
   },
   "file_extension": ".py",
   "mimetype": "text/x-python",
   "name": "python",
   "nbconvert_exporter": "python",
   "pygments_lexer": "ipython3",
   "version": "3.6.8"
  }
 },
 "nbformat": 4,
 "nbformat_minor": 2
}
