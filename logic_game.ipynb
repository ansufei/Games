{
 "cells": [
  {
   "cell_type": "markdown",
   "metadata": {},
   "source": [
    "1. How many A answers are there?\n",
    "A. 0 x\n",
    "B. 1\n",
    "C. 2\n",
    "D. 3\n",
    "E. 4\n",
    "2. At which question does the first A appear?\n",
    "A. 1 x\n",
    "B. 2 x\n",
    "C. 3\n",
    "D. 4\n",
    "E. There is no A x\n",
    "3. What was the answer to the previous question?\n",
    "A. C\n",
    "B. B\n",
    "C. \n",
    "D.\n",
    "E.\n",
    "4. Which one is the only repeated letter?\n",
    "A. \n",
    "B.\n",
    "C.\n",
    "D.\n",
    "E."
   ]
  }
 ],
 "metadata": {
  "kernelspec": {
   "display_name": "Python (games)",
   "language": "python",
   "name": "games"
  },
  "language_info": {
   "codemirror_mode": {
    "name": "ipython",
    "version": 3
   },
   "file_extension": ".py",
   "mimetype": "text/x-python",
   "name": "python",
   "nbconvert_exporter": "python",
   "pygments_lexer": "ipython3",
   "version": "3.6.8"
  }
 },
 "nbformat": 4,
 "nbformat_minor": 2
}
