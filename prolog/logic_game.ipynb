{
 "cells": [
  {
   "cell_type": "markdown",
   "metadata": {},
   "source": [
    "1. How many A answers are there?\n",
    "A. 0 x\n",
    "B. 1\n",
    "C. 2\n",
    "D. 3\n",
    "E. 4\n",
    "2. At which question does the first A appear?\n",
    "A. 1 x\n",
    "B. 2 x\n",
    "C. 3\n",
    "D. 4\n",
    "E. There is no A x\n",
    "3. What was the answer to the previous question?\n",
    "A. C\n",
    "B. B\n",
    "C. \n",
    "D.\n",
    "E.\n",
    "4. Which one is the only repeated letter?\n",
    "A. \n",
    "B.\n",
    "C.\n",
    "D.\n",
    "E."
   ]
  },
  {
   "cell_type": "code",
   "execution_count": 1,
   "metadata": {},
   "outputs": [],
   "source": [
    "counter = 0\n",
    "all_choices = {u:5 for u in range(5)}\n",
    "\n",
    "count_letters = {}\n",
    "def nb_of_A(count_letters):\n",
    "    'answer first question'\n",
    "    if count_letters['A'] == 0:\n",
    "        return False\n",
    "    elif first_A(count_letters) == 1:\n",
    "        return False\n",
    "    return count_letters['A']\n",
    "\n",
    "def first_A(all_choices):\n",
    "    'answer second question'\n",
    "    \n"
   ]
  },
  {
   "cell_type": "markdown",
   "metadata": {},
   "source": []
  }
 ],
 "metadata": {
  "kernelspec": {
   "display_name": "dojo",
   "language": "python",
   "name": "python3"
  },
  "language_info": {
   "codemirror_mode": {
    "name": "ipython",
    "version": 3
   },
   "file_extension": ".py",
   "mimetype": "text/x-python",
   "name": "python",
   "nbconvert_exporter": "python",
   "pygments_lexer": "ipython3",
   "version": "3.10.12"
  }
 },
 "nbformat": 4,
 "nbformat_minor": 2
}
