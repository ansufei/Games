{
 "cells": [
  {
   "cell_type": "markdown",
   "metadata": {},
   "source": [
    "<p style=\"font-family: Arial; font-size:3.75em;color:purple; font-style:bold\"><br>\n",
    "Tic-Tac-Toe\n",
    "</p><br>\n",
    "<strong>3x3 version of the <a href='https://en.wikipedia.org/wiki/Hex_(board_game)'>Hex game</a> solved using the minimax method</strong>"
   ]
  },
  {
   "cell_type": "markdown",
   "metadata": {},
   "source": [
    "Minimax works:\n",
    "- on games for 2 players\n",
    "- when a player's win is another player's loss: 0-sum games\n",
    "- when there is a complete information on the possible outcomes\n",
    "- where the goal of the game is to minimize loss (and we assume that the other player is trying to maximize gain)\n",
    "\n",
    "<p>Minimax can either be the brute force method of calculating every possible outcome, or improved using alpha-beta pruning (which eliminates sqrt(n) where n is the number of combinations for the brute-force method for the negamax solution, or n^0.75 otherwise)</p>\n",
    "<p>We calculate the probability to win for the first player only.</p>\n",
    "\n",
    "[@vbipin]('https://github.com/vbipin')\n",
    "The minimax should contain the following functions:\n",
    "* calculate the children of the current state (<strong>child_node</strong>): or for more complex games with some heuristics, divide into action(state) and move(state,action)\n",
    "* evaluate if the current state is terminal: either when reaching maximum depth or in case of win/loss (<strong>calc_value()</strong>)\n",
    "* utility function (<strong>calc_score()</strong>) that interprets the terminal state in terms of value for the player (typically, 1, -1 or 0). To assign different values to paths based on how fast they reach a terminal state, associate to each node a weight corresponding to the distance to the terminal state (a win becomes +1+depth_number, a losss -1-depth_number)\n",
    "* the minimax is a recursive function calculating the utility function for all the children of a given state, for each state. Since players alternate to play each state, the utility for a given state is reversed from the point of view of the original player."
   ]
  },
  {
   "cell_type": "markdown",
   "metadata": {},
   "source": [
    "### Calculate the win/loss function\n",
    "<a href='http://ohboyigettodomath.blogspot.com/2015/05/tic-tac-toe-as-magic-square.html'>Magic square trick</a>"
   ]
  },
  {
   "cell_type": "code",
   "execution_count": 1,
   "metadata": {},
   "outputs": [],
   "source": [
    "import numpy as np"
   ]
  },
  {
   "cell_type": "code",
   "execution_count": 2,
   "metadata": {},
   "outputs": [],
   "source": [
    "class State():\n",
    "    \n",
    "    def __init__(self,state):\n",
    "        self.grid = state\n",
    "        self.depth = np.sum(np.isin(self.grid,'.'))\n",
    "        self.itemindex = np.where(np.asanyarray(self.grid) == '.')[0]\n",
    "        self.id = ''.join([str(i) for i in self.grid])\n",
    "        self.player = 'X'\n",
    "        self.next_player = 'O'\n",
    "        if self.depth % 2 == 0:\n",
    "            self.player = 'O'\n",
    "            self.next_player = 'X'\n",
    "            \n",
    "    def calc_value(self): \n",
    "        numbered_grid = [2, 7, 6, 9, 5, 1, 4, 3, 8]\n",
    "        self.nb_player = [numbered_grid[k] if x == self.player else 0 for k,x in enumerate(self.grid)]\n",
    "        self.score_cols = max([sum(self.nb_player[x:x+3]) for x in [0,3,6]])\n",
    "        self.score_rows=max([sum(self.nb_player[x::3]) for x in range(3)])\n",
    "        self.score_diagonal1 = self.nb_player[0] + self.nb_player[4] + self.nb_player[8]\n",
    "        self.score_diagonal2 = self.nb_player[2] + self.nb_player[4] + self.nb_player[6]\n",
    "        return max(self.score_cols,self.score_rows,self.score_diagonal1,self.score_diagonal2)\n",
    "    \n",
    "    def calc_score(self):\n",
    "        #returns 1 for the maxplayer, -1 for the minplayer, 0 if nobody wins at this state\n",
    "        if self.calc_value() == 15:\n",
    "            if self.player == 'O':\n",
    "                return self.depth + 1\n",
    "            else:\n",
    "                return -self.depth - 1\n",
    "        return 0\n",
    "    \n",
    "    def child_node(self):\n",
    "        #contains a list of all the possible grids at the next move for a player\n",
    "        child_node = []\n",
    "        child_grid = self.grid.copy()   \n",
    "        #replace each remaining 0 by 'player' one by one and append the resulting grid to the child_node list\n",
    "        for child in self.itemindex:\n",
    "            child_grid[child] = self.next_player\n",
    "            child_node.append(State(child_grid))\n",
    "            child_grid = self.grid.copy()\n",
    "        return child_node\n",
    "    \n",
    "    def terminal(self):\n",
    "        #evaluate if terminal state (only possible once the first player has played at least 3 times) or a player wins\n",
    "        return self.depth<6 and self.calc_score()!=0"
   ]
  },
  {
   "cell_type": "code",
   "execution_count": 69,
   "metadata": {},
   "outputs": [
    {
     "name": "stdout",
     "output_type": "stream",
     "text": [
      "X 11 0\n",
      "O 15 5\n"
     ]
    },
    {
     "data": {
      "text/plain": [
       "[<__main__.State at 0x1a936d7d898>,\n",
       " <__main__.State at 0x1a936d7dbe0>,\n",
       " <__main__.State at 0x1a936d7df28>,\n",
       " <__main__.State at 0x1a936d7d550>]"
      ]
     },
     "execution_count": 69,
     "metadata": {},
     "output_type": "execute_result"
    }
   ],
   "source": [
    "five = State(['O','.','X','O','X','.', '.','.','.'])\n",
    "four = State(['O','.','X','O','X','.','O','.','.'])\n",
    "print(five.player,five.calc_value(),five.calc_score())\n",
    "print(four.player,four.calc_value(),four.calc_score())\n",
    "four.child_node()"
   ]
  },
  {
   "cell_type": "markdown",
   "metadata": {},
   "source": [
    "### Minimax"
   ]
  },
  {
   "cell_type": "code",
   "execution_count": 4,
   "metadata": {},
   "outputs": [],
   "source": [
    "def minimax(state, tree, scores):\n",
    "    value = 0\n",
    "    if state.depth == 0 or state.terminal():\n",
    "        tree[state.id]=(state.depth,value)\n",
    "        return state.calc_score()\n",
    "    else:\n",
    "        list_scores = []\n",
    "        if state.player == 'X':                \n",
    "            for child in state.child_node():\n",
    "                value = max(value,minimax(child, tree, scores))\n",
    "                tree[child.id] = (child.depth, value)\n",
    "                list_scores.append(value)\n",
    "        else:\n",
    "            for child in state.child_node():\n",
    "                value = min(value,minimax(child, tree, scores))\n",
    "                tree[child.id] = (child.depth, value)\n",
    "                list_scores.append(value)\n",
    "        scores[state.id] = list_scores\n",
    "        return value"
   ]
  },
  {
   "cell_type": "code",
   "execution_count": 82,
   "metadata": {},
   "outputs": [],
   "source": [
    "def main(state):\n",
    "    print(np.array(state.grid).reshape(-1, 3))\n",
    "    tree = {}\n",
    "    scores = {}\n",
    "    chance = minimax(state, tree, scores)\n",
    "    print('Best score (if both players maximize their chance): ', chance)\n",
    "    print('Next move:')\n",
    "    for branch in scores.values():\n",
    "        if len(branch)==state.depth:\n",
    "            for k,v in enumerate(branch):\n",
    "                if v==max(branch):\n",
    "                    next_move=state.grid.copy()\n",
    "                    next_move[state.itemindex[k]]=state.next_player\n",
    "                    print(np.array(next_move).reshape(-1, 3))\n",
    "\n",
    "    results = [x[1] for x in tree.values()]\n",
    "    \n",
    "    print('Moves resulting in a draw: ',\"{:.1%}\".format(results.count(0) / len(results)))\n",
    "    print('Moves resulting in a loss: ',\"{:.1%}\".format(sum(i < 0 for i in results) / len(results)))\n",
    "    print('Moves resulting in a victory: ',\"{:.1%}\".format(sum(i > 0 for i in results) / len(results)))\n",
    "    \n",
    "    return scores"
   ]
  },
  {
   "cell_type": "code",
   "execution_count": 83,
   "metadata": {},
   "outputs": [
    {
     "name": "stdout",
     "output_type": "stream",
     "text": [
      "[['X' '.' '.']\n",
      " ['O' '.' 'O']\n",
      " ['O' 'X' 'X']]\n",
      "Best score (if both players maximize their chance):  3\n",
      "Next move:\n",
      "[['X' '.' '.']\n",
      " ['O' 'O' 'O']\n",
      " ['O' 'X' 'X']]\n",
      "Moves resulting in a draw:  44.4%\n",
      "Moves resulting in a loss:  22.2%\n",
      "Moves resulting in a victory:  33.3%\n"
     ]
    },
    {
     "data": {
      "text/plain": [
       "{'XOXO.OOXX': [1],\n",
       " 'XO.O.OOXX': [0, -2],\n",
       " 'XXOO.OOXX': [1],\n",
       " 'X.OO.OOXX': [0, -2],\n",
       " 'X..O.OOXX': [0, 0, 3]}"
      ]
     },
     "execution_count": 83,
     "metadata": {},
     "output_type": "execute_result"
    }
   ],
   "source": [
    "main(State(list('X..O.OOXX')))"
   ]
  },
  {
   "cell_type": "code",
   "execution_count": 74,
   "metadata": {},
   "outputs": [
    {
     "name": "stdout",
     "output_type": "stream",
     "text": [
      "[['.' '.' '.']\n",
      " ['.' 'O' '.']\n",
      " ['.' '.' '.']]\n",
      "Best score (if both players maximize their chance):  0\n",
      "Next move:\n",
      "[['X' '.' '.']\n",
      " ['.' 'O' '.']\n",
      " ['.' '.' '.']]\n",
      "[['.' 'X' '.']\n",
      " ['.' 'O' '.']\n",
      " ['.' '.' '.']]\n",
      "[['.' '.' 'X']\n",
      " ['.' 'O' '.']\n",
      " ['.' '.' '.']]\n",
      "[['.' '.' '.']\n",
      " ['X' 'O' '.']\n",
      " ['.' '.' '.']]\n",
      "[['.' '.' '.']\n",
      " ['.' 'O' 'X']\n",
      " ['.' '.' '.']]\n",
      "[['.' '.' '.']\n",
      " ['.' 'O' '.']\n",
      " ['X' '.' '.']]\n",
      "[['.' '.' '.']\n",
      " ['.' 'O' '.']\n",
      " ['.' 'X' '.']]\n",
      "[['.' '.' '.']\n",
      " ['.' 'O' '.']\n",
      " ['.' '.' 'X']]\n",
      "Moves resulting in a draw:  64.0%\n",
      "Moves resulting in a loss:  5.7%\n",
      "Moves resulting in a victory:  30.3%\n"
     ]
    }
   ],
   "source": [
    "#centerstart = main(State(list('....O....')))\n",
    "main(State(list('....O....')))"
   ]
  },
  {
   "cell_type": "code",
   "execution_count": 596,
   "metadata": {},
   "outputs": [
    {
     "name": "stdout",
     "output_type": "stream",
     "text": [
      "[['O' '.' '.']\n",
      " ['.' '.' '.']\n",
      " ['.' '.' '.']]\n",
      "Best score (if both players maximize their chance):  0\n",
      "Next move:\n",
      "5\n",
      "Moves resulting in a draw:  72.1%\n",
      "Moves resulting in a loss:  7.9%\n",
      "Moves resulting in a victory:  20.0%\n"
     ]
    }
   ],
   "source": [
    "cornerstart = main(State(list('O........')))"
   ]
  },
  {
   "cell_type": "code",
   "execution_count": 571,
   "metadata": {},
   "outputs": [
    {
     "name": "stdout",
     "output_type": "stream",
     "text": [
      "[['.' 'O' '.']\n",
      " ['.' '.' '.']\n",
      " ['.' '.' '.']]\n",
      "Best score (if both players maximize their chance):  0\n",
      "Next move:\n",
      "5\n",
      "Moves resulting in a draw:  75.7%\n",
      "Moves resulting in a loss:  9.8%\n",
      "Moves resulting in a victory:  14.4%\n"
     ]
    }
   ],
   "source": [
    "middlestart = main(State(list('.O.......')))"
   ]
  },
  {
   "cell_type": "code",
   "execution_count": 84,
   "metadata": {},
   "outputs": [
    {
     "name": "stdout",
     "output_type": "stream",
     "text": [
      "[['O' '.' 'X']\n",
      " ['O' 'X' '.']\n",
      " ['.' '.' '.']]\n",
      "Best score (if both players maximize their chance):  5\n",
      "Next move:\n",
      "[['O' '.' 'X']\n",
      " ['O' 'X' '.']\n",
      " ['O' '.' '.']]\n",
      "[['O' '.' 'X']\n",
      " ['O' 'X' '.']\n",
      " ['.' 'O' '.']]\n",
      "[['O' '.' 'X']\n",
      " ['O' 'X' '.']\n",
      " ['.' '.' 'O']]\n",
      "Moves resulting in a draw:  31.3%\n",
      "Moves resulting in a loss:  37.3%\n",
      "Moves resulting in a victory:  31.3%\n"
     ]
    },
    {
     "data": {
      "text/plain": [
       "{'OOXOXX.O.': [-2, -2],\n",
       " 'OOXOXX.XO': [1],\n",
       " 'OOXOXX..O': [-2, -2],\n",
       " 'OOXOXX...': [3, 3, 3],\n",
       " 'OOXOXO.XX': [1],\n",
       " 'OOXOXO.X.': [-2, -2],\n",
       " 'OOXOX..XO': [0, -2],\n",
       " 'OOXOX..X.': [0, 3, 3],\n",
       " 'OOXOXO..X': [-2, -2],\n",
       " 'OOXOX..OX': [-2, -2],\n",
       " 'OOXOX...X': [0, 3, 3],\n",
       " 'OOXOX....': [0, -4, -4, -4],\n",
       " 'OXXOXO.OX': [1],\n",
       " 'OXXOXO.O.': [-2, -2],\n",
       " 'OXXOXO..O': [-2, -2],\n",
       " 'OXXOXO...': [3, 3, 3],\n",
       " 'O.XOXO.XO': [-2, -2],\n",
       " 'O.XOXO.X.': [0, 3, 3],\n",
       " 'O.XOXO.OX': [0, -2],\n",
       " 'O.XOXO..X': [0, 3, 3],\n",
       " 'O.XOXO...': [0, -4, -4, -4],\n",
       " 'OXXOXX.OO': [1],\n",
       " 'OXXOX..OO': [0, -2],\n",
       " 'OXXOX..O.': [0, 3, 3],\n",
       " 'O.XOXX.OO': [0, -2],\n",
       " 'O.XOXX.O.': [0, 3, 3],\n",
       " 'O.XOX..OX': [0, 0, 3],\n",
       " 'O.XOX..O.': [0, 0, -4, -4],\n",
       " 'OXXOX...O': [0, 3, 3],\n",
       " 'O.XOXX..O': [0, 3, 3],\n",
       " 'O.XOX..XO': [0, 0, 3],\n",
       " 'O.XOX...O': [0, 0, -4, -4],\n",
       " 'O.XOX....': [0, 0, 5, 5, 5]}"
      ]
     },
     "execution_count": 84,
     "metadata": {},
     "output_type": "execute_result"
    }
   ],
   "source": [
    "main(five)"
   ]
  },
  {
   "cell_type": "code",
   "execution_count": 85,
   "metadata": {},
   "outputs": [
    {
     "name": "stdout",
     "output_type": "stream",
     "text": [
      "[['O' 'X' '.']\n",
      " ['.' '.' 'O']\n",
      " ['.' '.' '.']]\n",
      "Best score (if both players maximize their chance):  0\n",
      "Next move:\n",
      "[['O' 'X' 'X']\n",
      " ['.' '.' 'O']\n",
      " ['.' '.' '.']]\n",
      "[['O' 'X' '.']\n",
      " ['X' '.' 'O']\n",
      " ['.' '.' '.']]\n",
      "[['O' 'X' '.']\n",
      " ['.' 'X' 'O']\n",
      " ['.' '.' '.']]\n",
      "[['O' 'X' '.']\n",
      " ['.' '.' 'O']\n",
      " ['X' '.' '.']]\n",
      "[['O' 'X' '.']\n",
      " ['.' '.' 'O']\n",
      " ['.' 'X' '.']]\n",
      "[['O' 'X' '.']\n",
      " ['.' '.' 'O']\n",
      " ['.' '.' 'X']]\n",
      "Moves resulting in a draw:  71.8%\n",
      "Moves resulting in a loss:  8.8%\n",
      "Moves resulting in a victory:  19.3%\n"
     ]
    },
    {
     "data": {
      "text/plain": [
       "{'OXXOXO.OX': [1],\n",
       " 'OXXOXO.O.': [-2, -2],\n",
       " 'OXXOXO..O': [-2, -2],\n",
       " 'OXXOXO...': [3, 3, 3],\n",
       " 'OXXO.OXOX': [1],\n",
       " 'OXXO.OXO.': [-2, -2],\n",
       " 'OXXO.OXXO': [1],\n",
       " 'OXXO.OX.O': [-2, -2],\n",
       " 'OXXO.OX..': [3, 3, 3],\n",
       " 'OXXO.O.XO': [-2, -2],\n",
       " 'OXXO.O.X.': [3, 3, 3],\n",
       " 'OXXO.O.OX': [0, 0],\n",
       " 'OXXO.O..X': [3, 3, 3],\n",
       " 'OXXO.O...': [0, 0, 0, 0],\n",
       " 'OXXXOOOX.': [1],\n",
       " 'OXXXOOO.X': [0],\n",
       " 'OXXXOOO..': [0, 0],\n",
       " 'OXXXOOXO.': [1],\n",
       " 'OXXXOO.OX': [0],\n",
       " 'OXXXOO.O.': [0, 0],\n",
       " 'OXXXOO...': [0, 0, 3],\n",
       " 'OXX.OOXOX': [1],\n",
       " 'OXX.OOXO.': [0, 0],\n",
       " 'OXX.OOX..': [3, 3, 3],\n",
       " 'OXX.OOOXX': [1],\n",
       " 'OXX.OOOX.': [0, 0],\n",
       " 'OXX.OO.X.': [3, 3, 3],\n",
       " 'OXX.OOO.X': [0, 0],\n",
       " 'OXX.OO.OX': [0, 0],\n",
       " 'OXX.OO..X': [3, 3, 3],\n",
       " 'OXX.OO...': [0, 0, 0, 0],\n",
       " 'OXXXXOOO.': [1],\n",
       " 'OXXX.OOOX': [0],\n",
       " 'OXXX.OOO.': [0, 0],\n",
       " 'OXXXXOO.O': [1],\n",
       " 'OXXX.OOXO': [1],\n",
       " 'OXXX.OO.O': [0, 0],\n",
       " 'OXXX.OO..': [0, 0, 0],\n",
       " 'OXX.XOOOX': [1],\n",
       " 'OXX.XOOO.': [0, 0],\n",
       " 'OXX.XOO.O': [0, -2],\n",
       " 'OXX.XOO..': [3, 3, 3],\n",
       " 'OXX..OOXO': [0, -2],\n",
       " 'OXX..OOX.': [3, 3, 3],\n",
       " 'OXX..OOOX': [0, 0],\n",
       " 'OXX..OO.X': [3, 3, 3],\n",
       " 'OXX..OO..': [0, 0, 0, 0],\n",
       " 'OXXXXO.OO': [1],\n",
       " 'OXXX.OXOO': [1],\n",
       " 'OXXX.O.OO': [0, 0],\n",
       " 'OXXX.O.O.': [0, 0, 0],\n",
       " 'OXX.XO.OO': [0, -2],\n",
       " 'OXX.XO.O.': [0, 0, 0],\n",
       " 'OXX..OXOO': [0, -2],\n",
       " 'OXX..OXO.': [0, 0, 0],\n",
       " 'OXX..O.OX': [0, 0, 0],\n",
       " 'OXX..O.O.': [0, 0, 0, 0],\n",
       " 'OXXX.O..O': [3, 3, 3],\n",
       " 'OXX.XO..O': [0, 0, 0],\n",
       " 'OXX..OX.O': [0, 3, 3],\n",
       " 'OXX..O.XO': [0, 3, 3],\n",
       " 'OXX..O..O': [0, 0, 0, 0],\n",
       " 'OXX..O...': [0, 0, 0, 0, 0],\n",
       " 'OXOXXOO.X': [0],\n",
       " 'OXOXXOO..': [-2, -2],\n",
       " 'OXOXXOXO.': [1],\n",
       " 'OXOXXO.OX': [0],\n",
       " 'OXOXXO.O.': [0, 0],\n",
       " 'OXOXXO...': [0, 0, 3],\n",
       " 'OXOXOOXX.': [1],\n",
       " 'OXOXOOX.X': [0],\n",
       " 'OXOXOOX..': [0, 0],\n",
       " 'OXOX.OXOX': [0],\n",
       " 'OXOX.OXO.': [0, 0],\n",
       " 'OXOX.OX..': [0, 0, 3],\n",
       " 'OXOXOO.XX': [1],\n",
       " 'OXOXOO.X.': [0, 0],\n",
       " 'OXOX.OOXX': [1],\n",
       " 'OXOX.OOX.': [-2, -2],\n",
       " 'OXOX.O.X.': [0, 0, 3],\n",
       " 'OXOXOO..X': [0, 0],\n",
       " 'OXOX.OO.X': [0, 0],\n",
       " 'OXOX.O.OX': [0, 0],\n",
       " 'OXOX.O..X': [0, 0, 0],\n",
       " 'OXOX.O...': [0, 0, 0, 0],\n",
       " 'OX.XOOXOX': [0],\n",
       " 'OX.XOOXO.': [0, 0],\n",
       " 'OX.XOOX..': [0, 0, 3],\n",
       " 'OX.XOOOXX': [1],\n",
       " 'OX.XOOOX.': [0, 0],\n",
       " 'OX.XOO.X.': [0, 0, 3],\n",
       " 'OX.XOOO.X': [0, 0],\n",
       " 'OX.XOO.OX': [0, 0],\n",
       " 'OX.XOO..X': [0, 0, 0],\n",
       " 'OX.XOO...': [0, 0, 0, 0],\n",
       " 'OX.XXOOOX': [0],\n",
       " 'OX.XXOOO.': [0, 0],\n",
       " 'OX.XXOO.O': [0, -2],\n",
       " 'OX.XXOO..': [0, 0, 0],\n",
       " 'OX.X.OOXO': [0, -2],\n",
       " 'OX.X.OOX.': [0, 0, 0],\n",
       " 'OX.X.OOOX': [0, 0],\n",
       " 'OX.X.OO.X': [0, 0, 0],\n",
       " 'OX.X.OO..': [0, 0, 0, 0],\n",
       " 'OX.XXOXOO': [1],\n",
       " 'OX.XXO.OO': [0, 0],\n",
       " 'OX.XXO.O.': [0, 0, 0],\n",
       " 'OX.X.OXOO': [0, 0],\n",
       " 'OX.X.OXO.': [0, 0, 0],\n",
       " 'OX.X.O.OX': [0, 0, 0],\n",
       " 'OX.X.O.O.': [0, 0, 0, 0],\n",
       " 'OX.XXO..O': [3, 3, 3],\n",
       " 'OX.X.OX.O': [3, 3, 3],\n",
       " 'OX.X.O.XO': [3, 3, 3],\n",
       " 'OX.X.O..O': [0, 0, 0, 0],\n",
       " 'OX.X.O...': [0, 0, 0, 0, 0],\n",
       " 'OXOOXOX.X': [0],\n",
       " 'OXOOXOX..': [-2, -2],\n",
       " 'OXO.XOXOX': [0],\n",
       " 'OXO.XOXO.': [0, 0],\n",
       " 'OXO.XOX..': [0, 0, 3],\n",
       " 'OXOOXO..X': [0, -2],\n",
       " 'OXO.XOO.X': [0, -2],\n",
       " 'OXO.XO.OX': [0, 0],\n",
       " 'OXO.XO..X': [0, 0, 0],\n",
       " 'OXO.XO...': [0, 0, -4, -4],\n",
       " 'OX.OXOXOX': [0],\n",
       " 'OX.OXOXO.': [-2, -2],\n",
       " 'OX.OXOX.O': [-2, -2],\n",
       " 'OX.OXOX..': [0, 0, 0],\n",
       " 'OX.OXO.OX': [0, 0],\n",
       " 'OX.OXO..X': [0, 3, 3],\n",
       " 'OX.OXO...': [0, 0, -4, -4],\n",
       " 'OX..XOOOX': [0, 0],\n",
       " 'OX..XOO.X': [0, 3, 3],\n",
       " 'OX..XOO..': [0, 0, -4, -4],\n",
       " 'OX..XOXOO': [-2, -2],\n",
       " 'OX..XOXO.': [0, 0, 0],\n",
       " 'OX..XO.OX': [0, 0, 0],\n",
       " 'OX..XO.O.': [0, 0, 0, 0],\n",
       " 'OX..XOX.O': [3, 3, 3],\n",
       " 'OX..XO..O': [0, 0, 0, -4],\n",
       " 'OX..XO...': [0, 0, 0, 0, 0],\n",
       " 'OXOO.OXX.': [-2, -2],\n",
       " 'OXO.OOXX.': [0, -2],\n",
       " 'OXO..OXX.': [0, 0, 3],\n",
       " 'OXOO.OX.X': [0, -2],\n",
       " 'OXO.OOX.X': [0, -2],\n",
       " 'OXO..OXOX': [0, 0],\n",
       " 'OXO..OX.X': [0, 0, 0],\n",
       " 'OXO..OX..': [0, 0, 0, 0],\n",
       " 'OX.O.OXXO': [0, -2],\n",
       " 'OX.O.OXX.': [0, 3, 3],\n",
       " 'OX.O.OXOX': [0, 0],\n",
       " 'OX.O.OX.X': [0, 3, 3],\n",
       " 'OX.O.OX..': [0, 0, 0, 0],\n",
       " 'OX..OOXX.': [0, 3, 3],\n",
       " 'OX..OOXOX': [0, 0],\n",
       " 'OX..OOX.X': [0, 3, 3],\n",
       " 'OX..OOX..': [0, 0, 0, 0],\n",
       " 'OX...OXOX': [0, 0, 0],\n",
       " 'OX...OXO.': [0, 0, 0, 0],\n",
       " 'OX...OXXO': [3, 3, 3],\n",
       " 'OX...OX.O': [0, 0, 0, 0],\n",
       " 'OX...OX..': [0, 0, 0, 0, 0],\n",
       " 'OXOO.O.XX': [-2, -2],\n",
       " 'OXO.OO.XX': [0, -2],\n",
       " 'OXO..OOXX': [0, -2],\n",
       " 'OXO..O.XX': [0, 0, 0],\n",
       " 'OXO..O.X.': [0, -4, -4, -4],\n",
       " 'OX.O.O.XX': [0, 3, 3],\n",
       " 'OX.O.O.X.': [0, -4, -4, -4],\n",
       " 'OX..OOOXX': [0, 0],\n",
       " 'OX..OO.XX': [0, 3, 3],\n",
       " 'OX..OO.X.': [0, 0, 0, 0],\n",
       " 'OX...OOXX': [0, 3, 3],\n",
       " 'OX...OOX.': [0, 0, -4, -4],\n",
       " 'OX...O.XO': [0, 0, -4, -4],\n",
       " 'OX...O.X.': [0, 0, 0, 0, 0],\n",
       " 'OXO..O..X': [0, 0, 0, 0],\n",
       " 'OX.O.O..X': [0, 0, 0, 0],\n",
       " 'OX..OO..X': [0, 0, 0, 0],\n",
       " 'OX...OO.X': [0, 0, 0, 0],\n",
       " 'OX...O.OX': [0, 0, 0, 0],\n",
       " 'OX...O..X': [0, 0, 0, 0, 0],\n",
       " 'OX...O...': [0, 0, 0, 0, 0, 0]}"
      ]
     },
     "execution_count": 85,
     "metadata": {},
     "output_type": "execute_result"
    }
   ],
   "source": [
    "main(State(list('OX...O...')))"
   ]
  },
  {
   "cell_type": "code",
   "execution_count": null,
   "metadata": {},
   "outputs": [],
   "source": []
  }
 ],
 "metadata": {
  "kernelspec": {
   "display_name": "Python (games)",
   "language": "python",
   "name": "games"
  },
  "language_info": {
   "codemirror_mode": {
    "name": "ipython",
    "version": 3
   },
   "file_extension": ".py",
   "mimetype": "text/x-python",
   "name": "python",
   "nbconvert_exporter": "python",
   "pygments_lexer": "ipython3",
   "version": "3.6.8"
  }
 },
 "nbformat": 4,
 "nbformat_minor": 2
}
