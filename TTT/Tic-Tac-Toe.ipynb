{
 "cells": [
  {
   "cell_type": "markdown",
   "metadata": {},
   "source": [
    "<p style=\"font-family: Arial; font-size:3.75em;color:purple; font-style:bold\"><br>\n",
    "Tic-Tac-Toe\n",
    "</p><br>\n",
    "<strong>3x3 version of the <a href='https://en.wikipedia.org/wiki/Hex_(board_game)'>Hex game</a> solved using the minimax method</strong>"
   ]
  },
  {
   "cell_type": "markdown",
   "metadata": {},
   "source": [
    "Minimax works:\n",
    "- on games for 2 players\n",
    "- when a player's win is another player's loss: 0-sum games\n",
    "- when there is a complete information on the possible outcomes\n",
    "- where the goal of the game is to minimize loss (and we assume that the other player is trying to maximize gain)\n",
    "\n",
    "<p>Minimax can either be the brute force method of calculating every possible outcome, or improved using alpha-beta pruning (which eliminates sqrt(n) where n is the number of combinations for the brute-force method for the negamax solution, or n^0.75 otherwise)</p>\n",
    "<p>We calculate the probability to win for the first player only.</p>\n",
    "\n",
    "[@vbipin]('https://github.com/vbipin')\n",
    "The minimax should contain the following functions:\n",
    "* calculate the children of the current state (<strong>child_node</strong>): or for more complex games with some heuristics, divide into action(state) and move(state,action)\n",
    "* evaluate if the current state is terminal: either when reaching maximum depth or in case of win/loss (<strong>calc_value()</strong>)\n",
    "* utility function (<strong>calc_score()</strong>) that interprets the terminal state in terms of value for the player (typically, 1, -1 or 0). To assign different values to paths based on how fast they reach a terminal state, associate to each node a weight corresponding to the distance to the terminal state (a win becomes +1+depth_number, a losss -1-depth_number)\n",
    "* the minimax is a recursive function calculating the utility function for all the children of a given state, for each state. Since players alternate to play each state, the utility for a given state is reversed from the point of view of the original player."
   ]
  },
  {
   "cell_type": "markdown",
   "metadata": {},
   "source": [
    "### Calculate the win/loss function\n",
    "<a href='http://ohboyigettodomath.blogspot.com/2015/05/tic-tac-toe-as-magic-square.html'>Magic square trick</a>"
   ]
  },
  {
   "cell_type": "code",
   "execution_count": 1,
   "metadata": {},
   "outputs": [],
   "source": [
    "import numpy as np"
   ]
  },
  {
   "cell_type": "code",
   "execution_count": 336,
   "metadata": {},
   "outputs": [],
   "source": [
    "class State():\n",
    "    \n",
    "    def __init__(self,state):\n",
    "        self.grid = state\n",
    "        self.depth = np.sum(np.isin(self.grid,'.'))\n",
    "        self.itemindex = np.where(np.asanyarray(self.grid) == '.')[0]\n",
    "        self.id = ''.join([str(i) for i in self.grid])\n",
    "        self.player = 'X'\n",
    "        self.next_player = 'O'\n",
    "        if self.depth % 2 == 0:\n",
    "            self.player = 'O'\n",
    "            self.next_player = 'X'\n",
    "            \n",
    "    def calc_value(self): \n",
    "        numbered_grid = [2, 7, 6, 9, 5, 1, 4, 3, 8]\n",
    "        self.nb_player = [numbered_grid[k] if x == self.player else 0 for k,x in enumerate(self.grid)]\n",
    "        self.score_cols = max([sum(self.nb_player[x:x+3]) for x in [0,3,6]])\n",
    "        self.score_rows=max([sum(self.nb_player[x::3]) for x in range(0,3)])\n",
    "        self.score_diagonal1 = self.nb_player[0] + self.nb_player[4] + self.nb_player[8]\n",
    "        self.score_diagonal2 = self.nb_player[2] + self.nb_player[4] + self.nb_player[6]\n",
    "        return max(self.score_cols,self.score_rows,self.score_diagonal1,self.score_diagonal2)\n",
    "    \n",
    "    def calc_score(self):\n",
    "        #returns 1 for the maxplayer, -1 for the minplayer, 0 if nobody wins at this state\n",
    "        if self.calc_value() == 15:\n",
    "            if self.player == 'O':\n",
    "                return self.depth + 1\n",
    "            else:\n",
    "                return -self.depth - 1\n",
    "        return 0\n",
    "    \n",
    "    def child_node(self):\n",
    "        #contains a list of all the possible grids at the next move for a player\n",
    "        child_node = []\n",
    "        child_grid = self.grid.copy()   \n",
    "        #replace each remaining 0 by 'player' one by one and append the resulting grid to the child_node list\n",
    "        for child in self.itemindex:\n",
    "            child_grid[child] = self.next_player\n",
    "            child_node.append(child_grid)\n",
    "            child_grid = self.grid.copy()\n",
    "        return child_node\n",
    "    \n",
    "    def terminal(self):\n",
    "        #evaluate if terminal state (only possible once the first player has played at least 3 times) or a player wins\n",
    "        return self.depth<6 and self.calc_score()!=0"
   ]
  },
  {
   "cell_type": "code",
   "execution_count": 337,
   "metadata": {},
   "outputs": [
    {
     "name": "stdout",
     "output_type": "stream",
     "text": [
      "X 11 0\n",
      "O 15 5\n"
     ]
    },
    {
     "data": {
      "text/plain": [
       "[['O', 'X', 'X', 'O', 'X', '.', 'O', '.', '.'],\n",
       " ['O', '.', 'X', 'O', 'X', 'X', 'O', '.', '.'],\n",
       " ['O', '.', 'X', 'O', 'X', '.', 'O', 'X', '.'],\n",
       " ['O', '.', 'X', 'O', 'X', '.', 'O', '.', 'X']]"
      ]
     },
     "execution_count": 337,
     "metadata": {},
     "output_type": "execute_result"
    }
   ],
   "source": [
    "#five=State(np.array([['O','.','X'], ['O','X','.'], ['.','.','.']]))\n",
    "five=State(['O','.','X','O','X','.', '.','.','.'])\n",
    "four=State(['O','.','X','O','X','.','O','.','.'])\n",
    "print(five.player,five.calc_value(),five.calc_score())\n",
    "print(four.player,four.calc_value(),four.calc_score())\n",
    "four.child_node()"
   ]
  },
  {
   "cell_type": "markdown",
   "metadata": {},
   "source": [
    "### Minimax"
   ]
  },
  {
   "cell_type": "code",
   "execution_count": 370,
   "metadata": {},
   "outputs": [],
   "source": [
    "#the game being symmetrical around zero, we can apply the negamax simplification\n",
    "def minimax(state,tree):\n",
    "    value=0\n",
    "    if state.depth==0 or state.terminal():\n",
    "        tree[state.id]=(state.depth,value)\n",
    "        return state.calc_score()\n",
    "    else:\n",
    "        if state.player == 'X':                \n",
    "            for child in state.child_node():\n",
    "                node=State(child)\n",
    "                value=max(value,minimax(node,tree))\n",
    "                tree[node.id]=(node.depth,value)\n",
    "        else:\n",
    "            for child in state.child_node():\n",
    "                node=State(child)\n",
    "                value=min(value,minimax(node,tree))\n",
    "                tree[node.id]=(node.depth,value)\n",
    "        return value"
   ]
  },
  {
   "cell_type": "code",
   "execution_count": 354,
   "metadata": {},
   "outputs": [],
   "source": [
    "def main(state):\n",
    "    print(np.array(state.grid).reshape(-1,3))\n",
    "    tree={}\n",
    "    chance=minimax(state,tree)\n",
    "    print('Best score: ',chance)\n",
    "    if chance!=0 and state.depth!=chance-1:\n",
    "        print('Next move:')\n",
    "        winning_move=next(key for key, value in tree.items() if value == max(tree.values()))\n",
    "        print(np.array(list(winning_move)).reshape(-1,3))\n",
    "        results=[x[1] for x in tree.values()]\n",
    "        print('Moves resulting in a draw: ',\"{:.1%}\".format(results.count(0)/len(results)))\n",
    "        print('Moves resulting in a loss: ',\"{:.1%}\".format(sum(i<0 for i in results)/len(results)))\n",
    "        print('Moves resulting in a victory: ',\"{:.1%}\".format(sum(i>0 for i in results)/len(results)))\n",
    "    return tree"
   ]
  },
  {
   "cell_type": "code",
   "execution_count": 375,
   "metadata": {},
   "outputs": [
    {
     "name": "stdout",
     "output_type": "stream",
     "text": [
      "[['.' '.' '.']\n",
      " ['.' 'O' '.']\n",
      " ['.' '.' '.']]\n",
      "Best score:  0\n"
     ]
    }
   ],
   "source": [
    "starting=main(State(list('....O....')))"
   ]
  },
  {
   "cell_type": "code",
   "execution_count": 377,
   "metadata": {},
   "outputs": [
    {
     "name": "stdout",
     "output_type": "stream",
     "text": [
      "[['O' '.' 'X']\n",
      " ['O' 'X' '.']\n",
      " ['.' '.' '.']]\n",
      "Best score:  5\n",
      "Next move:\n",
      "[['O' '.' 'X']\n",
      " ['O' 'X' '.']\n",
      " ['O' '.' '.']]\n",
      "Moves resulting in a draw:  31.3%\n",
      "Moves resulting in a loss:  37.3%\n",
      "Moves resulting in a victory:  31.3%\n"
     ]
    }
   ],
   "source": [
    "test1 = main(five)"
   ]
  },
  {
   "cell_type": "code",
   "execution_count": 378,
   "metadata": {},
   "outputs": [
    {
     "name": "stdout",
     "output_type": "stream",
     "text": [
      "[['X' '.' '.']\n",
      " ['O' '.' 'O']\n",
      " ['O' 'X' 'X']]\n",
      "Best score:  3\n",
      "Next move:\n",
      "[['X' '.' '.']\n",
      " ['O' 'O' 'O']\n",
      " ['O' 'X' 'X']]\n",
      "Moves resulting in a draw:  44.4%\n",
      "Moves resulting in a loss:  22.2%\n",
      "Moves resulting in a victory:  33.3%\n"
     ]
    },
    {
     "data": {
      "text/plain": [
       "{'XOXOOOOXX': (0, 1),\n",
       " 'XOXO.OOXX': (1, 0),\n",
       " 'XO.OXOOXX': (1, -2),\n",
       " 'XO.O.OOXX': (2, 0),\n",
       " 'XXOOOOOXX': (0, 1),\n",
       " 'XXOO.OOXX': (1, 0),\n",
       " 'X.OOXOOXX': (1, -2),\n",
       " 'X.OO.OOXX': (2, 0),\n",
       " 'X..OOOOXX': (2, 3)}"
      ]
     },
     "execution_count": 378,
     "metadata": {},
     "output_type": "execute_result"
    }
   ],
   "source": [
    "main(State(list('X..O.OOXX')))"
   ]
  },
  {
   "cell_type": "code",
   "execution_count": null,
   "metadata": {},
   "outputs": [],
   "source": []
  }
 ],
 "metadata": {
  "kernelspec": {
   "display_name": "Python (games)",
   "language": "python",
   "name": "games"
  },
  "language_info": {
   "codemirror_mode": {
    "name": "ipython",
    "version": 3
   },
   "file_extension": ".py",
   "mimetype": "text/x-python",
   "name": "python",
   "nbconvert_exporter": "python",
   "pygments_lexer": "ipython3",
   "version": "3.6.8"
  }
 },
 "nbformat": 4,
 "nbformat_minor": 2
}
