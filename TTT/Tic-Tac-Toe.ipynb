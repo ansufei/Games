{
 "cells": [
  {
   "cell_type": "markdown",
   "metadata": {},
   "source": [
    "<p style=\"font-family: Arial; font-size:3.75em;color:purple; font-style:bold\"><br>\n",
    "Tic-Tac-Toe\n",
    "</p><br>\n",
    "<strong>3x3 version of the <a href='https://en.wikipedia.org/wiki/Hex_(board_game)'>Hex game</a> solved using the minimax method</strong>"
   ]
  },
  {
   "cell_type": "markdown",
   "metadata": {},
   "source": [
    "Minimax works:\n",
    "- on games for 2 players\n",
    "- when a player's win is another player's loss: 0-sum games\n",
    "- when there is a complete information on the possible outcomes\n",
    "- where the goal of the game is to minimize loss (and we assume that the other player is trying to maximize gain)\n",
    "\n",
    "<p>Minimax can either be the brute force method of calculating every possible outcome, or improved using alpha-beta pruning (which eliminates sqrt(n) where n is the number of combinations for the brute-force method for the negamax solution, or n^0.75 otherwise)</p>\n",
    "<p>We calculate the probability to win for the first player only.</p>\n",
    "\n",
    "[@vbipin]('https://github.com/vbipin')\n",
    "The minimax should contain the following functions:\n",
    "* calculate the children of the current state (<strong>child_node</strong>): or for more complex games with some heuristics, divide into action(state) and move(state,action)\n",
    "* evaluate if the current state is terminal: either when reaching maximum depth or in case of win/loss (<strong>calc_value()</strong>)\n",
    "* utility function (<strong>calc_score()</strong>) that interprets the terminal state in terms of value for the player (typically, 1, -1 or 0). To assign different values to paths based on how fast they reach a terminal state, associate to each node a weight corresponding to the distance to the terminal state (a win becomes +1+depth_number, a losss -1-depth_number)\n",
    "* the minimax is a recursive function calculating the utility function for all the children of a given state, for each state. Since players alternate to play each state, the utility for a given state is reversed from the point of view of the original player."
   ]
  },
  {
   "cell_type": "markdown",
   "metadata": {},
   "source": [
    "### Calculate the win/loss function\n",
    "<a href='http://ohboyigettodomath.blogspot.com/2015/05/tic-tac-toe-as-magic-square.html'>Magic square trick</a>"
   ]
  },
  {
   "cell_type": "code",
   "execution_count": 1,
   "metadata": {},
   "outputs": [],
   "source": [
    "import numpy as np"
   ]
  },
  {
   "cell_type": "code",
   "execution_count": 2,
   "metadata": {},
   "outputs": [],
   "source": [
    "class State():\n",
    "    \n",
    "    def __init__(self,state):\n",
    "        self.grid = state\n",
    "        self.depth = np.sum(np.isin(self.grid,'.'))\n",
    "        self.itemindex = np.where(np.asanyarray(self.grid) == '.')[0]\n",
    "        self.id = ''.join([str(i) for i in self.grid])\n",
    "        self.player = 'X'\n",
    "        self.next_player = 'O'\n",
    "        if self.depth % 2 == 0:\n",
    "            self.player = 'O'\n",
    "            self.next_player = 'X'\n",
    "            \n",
    "    def calc_value(self): \n",
    "        numbered_grid = [2, 7, 6, 9, 5, 1, 4, 3, 8]\n",
    "        self.nb_player = [numbered_grid[k] if x == self.player else 0 for k,x in enumerate(self.grid)]\n",
    "        self.score_cols = max([sum(self.nb_player[x:x+3]) for x in [0,3,6]])\n",
    "        self.score_rows=max([sum(self.nb_player[x::3]) for x in range(3)])\n",
    "        self.score_diagonal1 = self.nb_player[0] + self.nb_player[4] + self.nb_player[8]\n",
    "        self.score_diagonal2 = self.nb_player[2] + self.nb_player[4] + self.nb_player[6]\n",
    "        return max(self.score_cols,self.score_rows,self.score_diagonal1,self.score_diagonal2)\n",
    "    \n",
    "    def calc_score(self):\n",
    "        #returns 1 for the maxplayer, -1 for the minplayer, 0 if nobody wins at this state\n",
    "        if self.calc_value() == 15:\n",
    "            if self.player == 'O':\n",
    "                return self.depth + 1\n",
    "            else:\n",
    "                return -self.depth - 1\n",
    "        return 0\n",
    "    \n",
    "    def child_node(self):\n",
    "        #contains a list of all the possible grids at the next move for a player\n",
    "        child_node = []\n",
    "        child_grid = self.grid.copy()   \n",
    "        #replace each remaining 0 by 'player' one by one and append the resulting grid to the child_node list\n",
    "        for child in self.itemindex:\n",
    "            child_grid[child] = self.next_player\n",
    "            child_node.append(State(child_grid))\n",
    "            child_grid = self.grid.copy()\n",
    "        return child_node\n",
    "    \n",
    "    def terminal(self):\n",
    "        #evaluate if terminal state (only possible once the first player has played at least 3 times) or a player wins\n",
    "        return self.depth<6 and self.calc_score()!=0"
   ]
  },
  {
   "cell_type": "markdown",
   "metadata": {},
   "source": [
    "### Minimax"
   ]
  },
  {
   "cell_type": "code",
   "execution_count": 3,
   "metadata": {},
   "outputs": [],
   "source": [
    "def minimax(state, scores):\n",
    "    if state.depth == 0 or state.terminal():\n",
    "        value=state.calc_score()\n",
    "    else:\n",
    "        scores[state.id] = [minimax(child, scores) for child in state.child_node()]\n",
    "        value = min(scores[state.id])\n",
    "        if state.player == 'X':\n",
    "            value = max(scores[state.id])\n",
    "    return value"
   ]
  },
  {
   "cell_type": "code",
   "execution_count": 14,
   "metadata": {},
   "outputs": [],
   "source": [
    "def main(state):\n",
    "    print(np.array(state.grid).reshape(-1, 3))\n",
    "    scores = {}\n",
    "    chance = minimax(state, scores)\n",
    "    print('Best score (if both players maximize their chance): ', chance)\n",
    "    print('Next move:')\n",
    "    for branch in scores.values():\n",
    "        if len(branch)==state.depth:\n",
    "            for k,v in enumerate(branch):\n",
    "                ideal = max(branch)\n",
    "                if state.player=='O':\n",
    "                    ideal = min(branch)\n",
    "                if v==ideal:\n",
    "                    next_move = state.grid.copy()\n",
    "                    next_move[state.itemindex[k]] = state.next_player\n",
    "                    print(np.array(next_move).reshape(-1, 3))                    \n",
    "\n",
    "    results = [item for k,v in scores.items() for item in v]\n",
    "    print('Moves resulting in a draw: ',\"{:.1%}\".format(results.count(0) / len(results)))\n",
    "    print('Moves resulting in a loss: ',\"{:.1%}\".format(sum(i < 0 for i in results) / len(results)))\n",
    "    print('Moves resulting in a victory: ',\"{:.1%}\".format(sum(i > 0 for i in results) / len(results)))\n",
    "    \n",
    "    return scores"
   ]
  },
  {
   "cell_type": "code",
   "execution_count": 15,
   "metadata": {},
   "outputs": [
    {
     "name": "stdout",
     "output_type": "stream",
     "text": [
      "[['O' '.' 'X']\n",
      " ['O' 'X' '.']\n",
      " ['.' '.' '.']]\n",
      "Best score (if both players maximize their chance):  5\n",
      "Next move:\n",
      "[['O' '.' 'X']\n",
      " ['O' 'X' '.']\n",
      " ['O' '.' '.']]\n",
      "Moves resulting in a draw:  0.0%\n",
      "Moves resulting in a loss:  56.5%\n",
      "Moves resulting in a victory:  43.5%\n"
     ]
    },
    {
     "data": {
      "text/plain": [
       "{'OOXOXX.O.': [-2, -2],\n",
       " 'OOXOXX.XO': [1],\n",
       " 'OOXOXX..O': [-2, 1],\n",
       " 'OOXOXX...': [3, -2, -2],\n",
       " 'OOXOXO.XX': [1],\n",
       " 'OOXOXO.X.': [-2, 1],\n",
       " 'OOXOX..XO': [1, -2],\n",
       " 'OOXOX..X.': [-2, 3, -2],\n",
       " 'OOXOXO..X': [-2, 1],\n",
       " 'OOXOX..OX': [-2, -2],\n",
       " 'OOXOX...X': [-2, 3, -2],\n",
       " 'OOXOX....': [3, -4, 3, 3],\n",
       " 'OXXOXO.OX': [1],\n",
       " 'OXXOXO.O.': [-2, 1],\n",
       " 'OXXOXO..O': [-2, -2],\n",
       " 'OXXOXO...': [3, -2, -2],\n",
       " 'O.XOXO.XO': [-2, -2],\n",
       " 'O.XOXO.X.': [-2, 3, -2],\n",
       " 'O.XOXO.OX': [1, -2],\n",
       " 'O.XOXO..X': [-2, 3, -2],\n",
       " 'O.XOXO...': [3, -4, 3, 3],\n",
       " 'OXXOXX.OO': [1],\n",
       " 'OXXOX..OO': [1, -2],\n",
       " 'OXXOX..O.': [-2, 3, -2],\n",
       " 'O.XOXX.OO': [1, -2],\n",
       " 'O.XOXX.O.': [-2, 3, -2],\n",
       " 'O.XOX..OX': [-2, -2, 3],\n",
       " 'O.XOX..O.': [3, 3, -4, 3],\n",
       " 'OXXOX...O': [-2, 3, -2],\n",
       " 'O.XOXX..O': [-2, 3, -2],\n",
       " 'O.XOX..XO': [-2, -2, 3],\n",
       " 'O.XOX...O': [3, 3, -4, 3],\n",
       " 'O.XOX....': [-4, -4, 5, -4, -4]}"
      ]
     },
     "execution_count": 15,
     "metadata": {},
     "output_type": "execute_result"
    }
   ],
   "source": [
    "main(State(['O','.','X','O','X','.', '.','.','.']))"
   ]
  },
  {
   "cell_type": "code",
   "execution_count": 95,
   "metadata": {},
   "outputs": [
    {
     "name": "stdout",
     "output_type": "stream",
     "text": [
      "[['.' '.' '.']\n",
      " ['.' 'O' '.']\n",
      " ['.' '.' '.']]\n",
      "Best score (if both players maximize their chance):  0\n",
      "Next move:\n",
      "[['X' '.' '.']\n",
      " ['.' 'O' '.']\n",
      " ['.' '.' '.']]\n",
      "[['.' '.' 'X']\n",
      " ['.' 'O' '.']\n",
      " ['.' '.' '.']]\n",
      "[['.' '.' '.']\n",
      " ['.' 'O' '.']\n",
      " ['X' '.' '.']]\n",
      "[['.' '.' '.']\n",
      " ['.' 'O' '.']\n",
      " ['.' '.' 'X']]\n",
      "Moves resulting in a draw:  17.6%\n",
      "Moves resulting in a loss:  19.8%\n",
      "Moves resulting in a victory:  62.7%\n"
     ]
    }
   ],
   "source": [
    "centerstart = main(State(list('....O....')))"
   ]
  },
  {
   "cell_type": "code",
   "execution_count": 96,
   "metadata": {},
   "outputs": [
    {
     "name": "stdout",
     "output_type": "stream",
     "text": [
      "[['O' '.' '.']\n",
      " ['.' '.' '.']\n",
      " ['.' '.' '.']]\n",
      "Best score (if both players maximize their chance):  0\n",
      "Next move:\n",
      "[['O' '.' '.']\n",
      " ['.' 'X' '.']\n",
      " ['.' '.' '.']]\n",
      "Moves resulting in a draw:  18.4%\n",
      "Moves resulting in a loss:  27.0%\n",
      "Moves resulting in a victory:  54.6%\n"
     ]
    }
   ],
   "source": [
    "cornerstart = main(State(list('O........')))"
   ]
  },
  {
   "cell_type": "code",
   "execution_count": 97,
   "metadata": {},
   "outputs": [
    {
     "name": "stdout",
     "output_type": "stream",
     "text": [
      "[['.' 'O' '.']\n",
      " ['.' '.' '.']\n",
      " ['.' '.' '.']]\n",
      "Best score (if both players maximize their chance):  0\n",
      "Next move:\n",
      "[['X' 'O' '.']\n",
      " ['.' '.' '.']\n",
      " ['.' '.' '.']]\n",
      "[['.' 'O' 'X']\n",
      " ['.' '.' '.']\n",
      " ['.' '.' '.']]\n",
      "[['.' 'O' '.']\n",
      " ['.' 'X' '.']\n",
      " ['.' '.' '.']]\n",
      "[['.' 'O' '.']\n",
      " ['.' '.' '.']\n",
      " ['.' 'X' '.']]\n",
      "Moves resulting in a draw:  19.6%\n",
      "Moves resulting in a loss:  34.2%\n",
      "Moves resulting in a victory:  46.2%\n"
     ]
    }
   ],
   "source": [
    "middlestart = main(State(list('.O.......')))"
   ]
  },
  {
   "cell_type": "markdown",
   "metadata": {},
   "source": [
    "### Alpha-beta pruning"
   ]
  },
  {
   "cell_type": "code",
   "execution_count": null,
   "metadata": {},
   "outputs": [],
   "source": [
    "function alphabeta(node, depth, α, β, maximizingPlayer) is\n",
    "    if depth = 0 or node is a terminal node then\n",
    "        return the heuristic value of node\n",
    "    if maximizingPlayer then\n",
    "        value := −∞\n",
    "        for each child of node do\n",
    "            value := max(value, alphabeta(child, depth − 1, α, β, FALSE))\n",
    "            α := max(α, value)\n",
    "            if α ≥ β then\n",
    "                break (* β cut-off *)\n",
    "        return value\n",
    "    else\n",
    "        value := +∞\n",
    "        for each child of node do\n",
    "            value := min(value, alphabeta(child, depth − 1, α, β, TRUE))\n",
    "            β := min(β, value)\n",
    "            if α ≥ β then\n",
    "                break (* α cut-off *)\n",
    "        return value"
   ]
  },
  {
   "cell_type": "code",
   "execution_count": 5,
   "metadata": {},
   "outputs": [],
   "source": [
    "def alphabeta(state, alpha, beta, scores):\n",
    "    if state.depth == 0 or state.terminal():\n",
    "        value=state.calc_score()\n",
    "        print(state.depth, value)\n",
    "        return value\n",
    "    value = float(\"-inf\")\n",
    "    if state.player == 'X':\n",
    "        value = float(\"inf\")\n",
    "    list_scores = []\n",
    "    for child in state.child_node():\n",
    "        ab = alphabeta(child, alpha, beta, scores)\n",
    "        list_scores.append(ab)\n",
    "        value = max(value, ab)\n",
    "        alpha = max(alpha, value)\n",
    "        if state.player == 'X':\n",
    "            value = min(value, ab)\n",
    "            beta = min(beta, value)\n",
    "        print(state.depth, alpha, beta, value)\n",
    "        if alpha >= beta:\n",
    "            break\n",
    "        scores[state.id] = list_scores\n",
    "    return value"
   ]
  },
  {
   "cell_type": "code",
   "execution_count": 9,
   "metadata": {},
   "outputs": [],
   "source": [
    "def alphabeta(state, alpha, beta, scores):\n",
    "    if state.depth == 0 or state.terminal():\n",
    "        value=state.calc_score()\n",
    "        print(state.depth, value)\n",
    "        return value\n",
    "    if state.player == 'O':\n",
    "        value = float(\"-inf\")\n",
    "        list_scores = []\n",
    "        for child in state.child_node():\n",
    "            ab = alphabeta(child, alpha, beta, scores)\n",
    "            list_scores.append(ab)\n",
    "            value = max(value, ab)\n",
    "            alpha = max(alpha, value)\n",
    "            if alpha >= beta:\n",
    "                break\n",
    "        scores[state.id] = list_scores\n",
    "        print(state.depth, alpha, beta, value)\n",
    "        return value\n",
    "    elif state.player == 'X':\n",
    "        value = float(\"inf\")\n",
    "        list_scores = []\n",
    "        for child in state.child_node():\n",
    "            ab = alphabeta(child, alpha, beta, scores)\n",
    "            list_scores.append(ab)\n",
    "            value = min(value, ab)\n",
    "            beta = min(beta, value)\n",
    "            if alpha >= beta:\n",
    "                break\n",
    "        scores[state.id] = list_scores\n",
    "        print(state.depth, alpha, beta, value)\n",
    "        return value"
   ]
  },
  {
   "cell_type": "code",
   "execution_count": 10,
   "metadata": {},
   "outputs": [],
   "source": [
    "def main_alphabeta(state):\n",
    "    print(np.array(state.grid).reshape(-1, 3))\n",
    "    scores = {}\n",
    "    chance = alphabeta(state, float(\"-inf\"), float(\"inf\"), scores)\n",
    "    print('Best score (if both players maximize their chance): ', chance)\n",
    "    print('Next move:')\n",
    "    for branch in scores.values():\n",
    "        if len(branch)==state.depth:\n",
    "            for k,v in enumerate(branch):\n",
    "                ideal = max(branch)\n",
    "                if state.player=='O':\n",
    "                    ideal = min(branch)\n",
    "                if v==ideal:\n",
    "                    next_move = state.grid.copy()\n",
    "                    next_move[state.itemindex[k]] = state.next_player\n",
    "                    print(np.array(next_move).reshape(-1, 3))                    \n",
    "\n",
    "    results = [item for k,v in scores.items() for item in v]\n",
    "    print('Moves resulting in a draw: ',\"{:.1%}\".format(results.count(0) / len(results)))\n",
    "    print('Moves resulting in a loss: ',\"{:.1%}\".format(sum(i < 0 for i in results) / len(results)))\n",
    "    print('Moves resulting in a victory: ',\"{:.1%}\".format(sum(i > 0 for i in results) / len(results)))\n",
    "    \n",
    "    return scores"
   ]
  },
  {
   "cell_type": "code",
   "execution_count": 11,
   "metadata": {},
   "outputs": [],
   "source": [
    "example = State(['O','.','X','O','X','.', '.','.','.'])\n",
    "middlestart = State(list('.O.......'))"
   ]
  },
  {
   "cell_type": "code",
   "execution_count": 12,
   "metadata": {},
   "outputs": [
    {
     "name": "stdout",
     "output_type": "stream",
     "text": [
      "[['O' '.' 'X']\n",
      " ['O' 'X' '.']\n",
      " ['.' '.' '.']]\n",
      "2 3\n",
      "1 -2\n",
      "1 -2\n",
      "2 -2 3 -2\n",
      "1 -2\n",
      "2 -2 -2 -2\n",
      "3 -inf -2 -2\n",
      "3 -4\n",
      "1 -2\n",
      "0 1\n",
      "1 -2 1 1\n",
      "2 1 inf 1\n",
      "2 3\n",
      "0 1\n",
      "1 -2 1 1\n",
      "2 1 1 1\n",
      "3 -2 1 1\n",
      "1 -2\n",
      "0 1\n",
      "1 1 1 1\n",
      "2 1 inf 1\n",
      "3 1 1 1\n",
      "4 1 inf 1\n",
      "2 3\n",
      "1 -2\n",
      "0 1\n",
      "1 -2 1 1\n",
      "2 1 1 1\n",
      "1 -2\n",
      "1 -2\n",
      "2 -2 1 -2\n",
      "3 -inf -2 -2\n",
      "3 -4\n",
      "1 -2\n",
      "0 1\n",
      "1 -2 1 1\n",
      "2 1 1 1\n",
      "2 3\n",
      "1 -2\n",
      "1 -2\n",
      "2 -2 1 -2\n",
      "3 -2 -2 -2\n",
      "1 -2\n",
      "0 1\n",
      "1 -2 1 1\n",
      "2 1 1 1\n",
      "2 3\n",
      "0 1\n",
      "1 -2 1 1\n",
      "2 1 1 1\n",
      "3 -2 1 1\n",
      "4 1 1 1\n",
      "4 5\n",
      "1 -2\n",
      "0 1\n",
      "1 -2 1 1\n",
      "2 1 1 1\n",
      "2 3\n",
      "0 1\n",
      "1 -inf 1 1\n",
      "2 1 1 1\n",
      "3 -inf 1 1\n",
      "4 1 1 1\n",
      "1 -2\n",
      "1 -2\n",
      "2 -2 1 -2\n",
      "2 3\n",
      "0 1\n",
      "1 -inf -2 1\n",
      "2 1 -2 1\n",
      "3 -inf -2 -2\n",
      "1 -2\n",
      "0 1\n",
      "1 -2 1 1\n",
      "2 1 1 1\n",
      "2 3\n",
      "0 1\n",
      "1 -2 1 1\n",
      "2 1 1 1\n",
      "3 -2 1 1\n",
      "4 1 1 1\n",
      "5 -inf 1 1\n",
      "Best score (if both players maximize their chance):  1\n",
      "Next move:\n",
      "[['O' '.' 'X']\n",
      " ['O' 'X' '.']\n",
      " ['O' '.' '.']]\n",
      "Moves resulting in a draw:  0.0%\n",
      "Moves resulting in a loss:  33.3%\n",
      "Moves resulting in a victory:  66.7%\n"
     ]
    },
    {
     "data": {
      "text/plain": [
       "{'OOXOXX.O.': [-2, -2],\n",
       " 'OOXOXX..O': [-2, 1],\n",
       " 'OOXOXX...': [3, -2, -2],\n",
       " 'OOXOXO.XX': [1],\n",
       " 'OOXOXO.X.': [-2, 1],\n",
       " 'OOXOXX.XO': [1],\n",
       " 'OOXOX..XO': [1],\n",
       " 'OOXOX..X.': [1, 3, 1],\n",
       " 'OOXOXO..X': [-2, 1],\n",
       " 'OOXOX...X': [1],\n",
       " 'OOXOX....': [-2, -4, 1, 1],\n",
       " 'OXXOXO.OX': [1],\n",
       " 'OXXOXO.O.': [-2, 1],\n",
       " 'OXXOXO..O': [-2, -2],\n",
       " 'OXXOXO...': [3, 1, -2],\n",
       " 'O.XOXO.XO': [-2, -2],\n",
       " 'O.XOXO.X.': [1, 3, -2],\n",
       " 'O.XOXO.OX': [1],\n",
       " 'O.XOXO..X': [1, 3, 1],\n",
       " 'O.XOXO...': [-2, -4, -2, 1],\n",
       " 'OXXOXX.OO': [1],\n",
       " 'OXXOX..OO': [1],\n",
       " 'OXXOX..O.': [1, 3, 1],\n",
       " 'O.XOX..O.': [1],\n",
       " 'OXXOX...O': [-2, 3, 1],\n",
       " 'O.XOXX.OO': [1],\n",
       " 'O.XOXX..O': [1, 3, 1],\n",
       " 'O.XOX...O': [-2, 1],\n",
       " 'O.XOX....': [1, 1, 5, 1, 1]}"
      ]
     },
     "execution_count": 12,
     "metadata": {},
     "output_type": "execute_result"
    }
   ],
   "source": [
    "main_alphabeta(example)"
   ]
  },
  {
   "cell_type": "code",
   "execution_count": null,
   "metadata": {},
   "outputs": [],
   "source": []
  }
 ],
 "metadata": {
  "kernelspec": {
   "display_name": "Python (games)",
   "language": "python",
   "name": "games"
  },
  "language_info": {
   "codemirror_mode": {
    "name": "ipython",
    "version": 3
   },
   "file_extension": ".py",
   "mimetype": "text/x-python",
   "name": "python",
   "nbconvert_exporter": "python",
   "pygments_lexer": "ipython3",
   "version": "3.6.8"
  }
 },
 "nbformat": 4,
 "nbformat_minor": 2
}
