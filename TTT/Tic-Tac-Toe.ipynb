{
 "cells": [
  {
   "cell_type": "markdown",
   "metadata": {},
   "source": [
    "<p style=\"font-family: Arial; font-size:3.75em;color:purple; font-style:bold\"><br>\n",
    "Tic-Tac-Toe\n",
    "</p><br>\n",
    "<strong>3x3 version of the <a href='https://en.wikipedia.org/wiki/Hex_(board_game)'>Hex game</a> solved using the minimax method</strong>"
   ]
  },
  {
   "cell_type": "markdown",
   "metadata": {},
   "source": [
    "Minimax works:\n",
    "- on games for 2 players\n",
    "- when a player's win is another player's loss: 0-sum games\n",
    "- when there is a complete information on the possible outcomes\n",
    "- where the goal of the game is to minimize loss (and we assume that the other player is trying to maximize gain)\n",
    "\n",
    "<p>Minimax can either be the brute force method of calculating every possible outcome, or improved using alpha-beta pruning (which eliminates sqrt(n) where n is the number of combinations for the brute-force method for the negamax solution, or n^0.75 otherwise)</p>\n",
    "<p>We calculate the probability to win for the first player only.</p>\n",
    "\n",
    "[@vbipin]('https://github.com/vbipin')\n",
    "The minimax should contain the following functions:\n",
    "* calculate the children of the current state (<strong>child_node</strong>): or for more complex games with some heuristics, divide into action(state) and move(state,action)\n",
    "* evaluate if the current state is terminal: either when reaching maximum depth or in case of win/loss (<strong>calc_value()</strong>)\n",
    "* utility function (<strong>calc_score()</strong>) that interprets the terminal state in terms of value for the player (typically, 1, -1 or 0). To assign different values to paths based on how fast they reach a terminal state, associate to each node a weight corresponding to the distance to the terminal state (a win becomes +1+depth_number, a losss -1-depth_number)\n",
    "* the minimax is a recursive function calculating the utility function for all the children of a given state, for each state. Since players alternate to play each state, the utility for a given state is reversed from the point of view of the original player."
   ]
  },
  {
   "cell_type": "markdown",
   "metadata": {},
   "source": [
    "### Calculate the win/loss function\n",
    "<a href='http://ohboyigettodomath.blogspot.com/2015/05/tic-tac-toe-as-magic-square.html'>Magic square trick</a>"
   ]
  },
  {
   "cell_type": "code",
   "execution_count": 4,
   "metadata": {},
   "outputs": [],
   "source": [
    "import numpy as np"
   ]
  },
  {
   "cell_type": "code",
   "execution_count": 28,
   "metadata": {},
   "outputs": [],
   "source": [
    "class State():\n",
    "    def __init__(self,state):\n",
    "        self.grid = state\n",
    "        self.depth = np.sum(np.isin(self.grid,0))\n",
    "        self.itemindex = np.where(self.grid==0)\n",
    "        self.player = -1\n",
    "        if self.depth % 2 == 0:\n",
    "            self.player = 1\n",
    "    def calc_value(self):\n",
    "        numbered_grid = np.array([[2,7,6],[9,5,1],[4,3,8]])\n",
    "        self.node_player = np.array([1 if x==self.player else 0 for x in self.grid.flatten()]).reshape(-1,3)\n",
    "        self.score_cols = max(sum(np.multiply(numbered_grid,self.node_player)))\n",
    "        self.score_rows = max(sum(np.multiply(numbered_grid,self.node_player.transpose())))\n",
    "        self.score_diagonal1 = max(np.multiply(self.node_player.diagonal(),np.array([2,5,8])))\n",
    "        self.score_diagonal2 = max(np.multiply(self.node_player[:,::-1].diagonal(),np.array([2,5,8])))\n",
    "        return max(self.score_cols,self.score_rows,self.score_diagonal1,self.score_diagonal2)\n",
    "    def calc_score(self):\n",
    "        #returns 1 for the maxplayer, -1 for the minplayer, 0 if nobody wins at this state\n",
    "        if self.calc_value() == 15:\n",
    "            if self.player == 1:\n",
    "                return 1 + self.depth\n",
    "            else:\n",
    "                return -1 - self.depth\n",
    "        return 0\n",
    "    def child_node(self):\n",
    "        #contains a list of all the possible grids at the next move for a player\n",
    "        child_node = []\n",
    "        child_grid = self.grid.copy()   \n",
    "        #replace each remaining 0 by 'player' one by one and append the resulting grid to the child_node list\n",
    "        for child in range(0,self.depth):\n",
    "            child_grid[self.itemindex[0][child]][self.itemindex[1][child]]=-self.player\n",
    "            child_node.append(child_grid)\n",
    "            child_grid=self.grid.copy()\n",
    "        return child_node\n",
    "    def position_children(self):\n",
    "        return [(self.itemindex[0][child],self.itemindex[1][child]) for child in range(0,self.depth)]\n",
    "    def terminal(self):\n",
    "        #evaluate if terminal state (only possible once the first player has played at least 3 times) or end of tree\n",
    "        return self.depth<6 and self.calc_score()!=0"
   ]
  },
  {
   "cell_type": "code",
   "execution_count": 27,
   "metadata": {},
   "outputs": [
    {
     "name": "stdout",
     "output_type": "stream",
     "text": [
      "-1 6 0 [array([[ 1,  1, -1],\n",
      "       [ 1, -1,  0],\n",
      "       [ 0,  0,  0]]), array([[ 1,  0, -1],\n",
      "       [ 1, -1,  1],\n",
      "       [ 0,  0,  0]]), array([[ 1,  0, -1],\n",
      "       [ 1, -1,  0],\n",
      "       [ 1,  0,  0]]), array([[ 1,  0, -1],\n",
      "       [ 1, -1,  0],\n",
      "       [ 0,  1,  0]]), array([[ 1,  0, -1],\n",
      "       [ 1, -1,  0],\n",
      "       [ 0,  0,  1]])] [(0, 1), (1, 2), (2, 0), (2, 1), (2, 2)]\n",
      "1 15 5 [array([[ 1, -1, -1],\n",
      "       [ 1, -1,  0],\n",
      "       [ 1,  0,  0]]), array([[ 1,  0, -1],\n",
      "       [ 1, -1, -1],\n",
      "       [ 1,  0,  0]]), array([[ 1,  0, -1],\n",
      "       [ 1, -1,  0],\n",
      "       [ 1, -1,  0]]), array([[ 1,  0, -1],\n",
      "       [ 1, -1,  0],\n",
      "       [ 1,  0, -1]])] [(0, 1), (1, 2), (2, 1), (2, 2)]\n"
     ]
    }
   ],
   "source": [
    "five=State(np.array([[1,0,-1], [1,-1,0], [0,0,0]]))\n",
    "four=State(np.array([[1,0,-1], [1,-1,0], [1,0,0]]))\n",
    "last_but_one=State(np.array([[1,-1,-1],[0,1,0],[1,1,-1]]))\n",
    "last_but_two=State(np.array([[1,-1,0],[1,1,-1],[0,1,-1]]))\n",
    "third=State(np.array([[1,-1,1],[0,0,0],[0,0,0]]))\n",
    "second=State(np.array([[0,0,0], [0,0,-1], [1,-1,1]]))\n",
    "full=State(np.full(((3,3)),0))\n",
    "print(five.player,five.calc_value(),five.calc_score(),five.child_node(),five.position_children())\n",
    "print(four.player,four.calc_value(),four.calc_score(),four.child_node(),four.position_children())"
   ]
  },
  {
   "cell_type": "markdown",
   "metadata": {},
   "source": [
    "### Minimax"
   ]
  },
  {
   "cell_type": "code",
   "execution_count": 18,
   "metadata": {},
   "outputs": [],
   "source": [
    "#the game being symmetrical around zero, we can apply the negamax simplification\n",
    "def minimax(state,tree):\n",
    "    if state.depth==0 or state.terminal():\n",
    "        return state.calc_score()\n",
    "    else:\n",
    "        if state.depth%2!=0:                \n",
    "            for child in state.child_node():\n",
    "                node=State(child)\n",
    "                value=max(state.depth,minimax(node,tree))\n",
    "                tree[state.]=value\n",
    "        elif state.depth%2==0:\n",
    "            for child in state.child_node():\n",
    "                node=State(child)\n",
    "                value=min(state.depth,minimax(node,tree))\n",
    "                tree[child[1]]=value\n",
    "        return value"
   ]
  },
  {
   "cell_type": "code",
   "execution_count": 19,
   "metadata": {},
   "outputs": [],
   "source": [
    "def main(state):\n",
    "    print(state.grid)\n",
    "    tree={}\n",
    "    chance=minimax(state,tree)\n",
    "    print('Likelihood to win: ',(chance-1)/state.depth)\n",
    "    if chance>1:\n",
    "        print('Strategy to win:')\n",
    "        print(tree)"
   ]
  },
  {
   "cell_type": "code",
   "execution_count": 20,
   "metadata": {},
   "outputs": [
    {
     "name": "stdout",
     "output_type": "stream",
     "text": [
      "[[ 1  0 -1]\n",
      " [ 1 -1  0]\n",
      " [ 0  0  0]]\n",
      "[array([[ 1,  1, -1],\n",
      "       [ 1, -1,  0],\n",
      "       [ 0,  0,  0]]), [0, 1]]\n",
      "[array([[ 1,  1, -1],\n",
      "       [ 1, -1, -1],\n",
      "       [ 1,  0,  0]]), [2, 0]]\n"
     ]
    },
    {
     "ename": "TypeError",
     "evalue": "unhashable type: 'list'",
     "output_type": "error",
     "traceback": [
      "\u001b[1;31m---------------------------------------------------------------------------\u001b[0m",
      "\u001b[1;31mTypeError\u001b[0m                                 Traceback (most recent call last)",
      "\u001b[1;32m<ipython-input-20-5c43685274e0>\u001b[0m in \u001b[0;36m<module>\u001b[1;34m\u001b[0m\n\u001b[1;32m----> 1\u001b[1;33m \u001b[0mmain\u001b[0m\u001b[1;33m(\u001b[0m\u001b[0mfive\u001b[0m\u001b[1;33m)\u001b[0m\u001b[1;33m\u001b[0m\u001b[1;33m\u001b[0m\u001b[0m\n\u001b[0m",
      "\u001b[1;32m<ipython-input-19-c1cc598b529d>\u001b[0m in \u001b[0;36mmain\u001b[1;34m(state)\u001b[0m\n\u001b[0;32m      2\u001b[0m     \u001b[0mprint\u001b[0m\u001b[1;33m(\u001b[0m\u001b[0mstate\u001b[0m\u001b[1;33m.\u001b[0m\u001b[0mgrid\u001b[0m\u001b[1;33m)\u001b[0m\u001b[1;33m\u001b[0m\u001b[1;33m\u001b[0m\u001b[0m\n\u001b[0;32m      3\u001b[0m     \u001b[0mtree\u001b[0m\u001b[1;33m=\u001b[0m\u001b[1;33m{\u001b[0m\u001b[1;33m}\u001b[0m\u001b[1;33m\u001b[0m\u001b[1;33m\u001b[0m\u001b[0m\n\u001b[1;32m----> 4\u001b[1;33m     \u001b[0mchance\u001b[0m\u001b[1;33m=\u001b[0m\u001b[0mminimax\u001b[0m\u001b[1;33m(\u001b[0m\u001b[0mstate\u001b[0m\u001b[1;33m,\u001b[0m\u001b[0mtree\u001b[0m\u001b[1;33m)\u001b[0m\u001b[1;33m\u001b[0m\u001b[1;33m\u001b[0m\u001b[0m\n\u001b[0m\u001b[0;32m      5\u001b[0m     \u001b[0mprint\u001b[0m\u001b[1;33m(\u001b[0m\u001b[1;34m'Likelihood to win: '\u001b[0m\u001b[1;33m,\u001b[0m\u001b[1;33m(\u001b[0m\u001b[0mchance\u001b[0m\u001b[1;33m-\u001b[0m\u001b[1;36m1\u001b[0m\u001b[1;33m)\u001b[0m\u001b[1;33m/\u001b[0m\u001b[0mstate\u001b[0m\u001b[1;33m.\u001b[0m\u001b[0mdepth\u001b[0m\u001b[1;33m)\u001b[0m\u001b[1;33m\u001b[0m\u001b[1;33m\u001b[0m\u001b[0m\n\u001b[0;32m      6\u001b[0m     \u001b[1;32mif\u001b[0m \u001b[0mchance\u001b[0m\u001b[1;33m>\u001b[0m\u001b[1;36m1\u001b[0m\u001b[1;33m:\u001b[0m\u001b[1;33m\u001b[0m\u001b[1;33m\u001b[0m\u001b[0m\n",
      "\u001b[1;32m<ipython-input-18-f8f97c99de1e>\u001b[0m in \u001b[0;36mminimax\u001b[1;34m(state, tree)\u001b[0m\n\u001b[0;32m      8\u001b[0m                 \u001b[0mprint\u001b[0m\u001b[1;33m(\u001b[0m\u001b[0mchild\u001b[0m\u001b[1;33m)\u001b[0m\u001b[1;33m\u001b[0m\u001b[1;33m\u001b[0m\u001b[0m\n\u001b[0;32m      9\u001b[0m                 \u001b[0mnode\u001b[0m\u001b[1;33m=\u001b[0m\u001b[0mState\u001b[0m\u001b[1;33m(\u001b[0m\u001b[0mchild\u001b[0m\u001b[1;33m[\u001b[0m\u001b[1;36m0\u001b[0m\u001b[1;33m]\u001b[0m\u001b[1;33m)\u001b[0m\u001b[1;33m\u001b[0m\u001b[1;33m\u001b[0m\u001b[0m\n\u001b[1;32m---> 10\u001b[1;33m                 \u001b[0mvalue\u001b[0m\u001b[1;33m=\u001b[0m\u001b[0mmax\u001b[0m\u001b[1;33m(\u001b[0m\u001b[0mstate\u001b[0m\u001b[1;33m.\u001b[0m\u001b[0mdepth\u001b[0m\u001b[1;33m,\u001b[0m\u001b[0mminimax\u001b[0m\u001b[1;33m(\u001b[0m\u001b[0mnode\u001b[0m\u001b[1;33m,\u001b[0m\u001b[0mtree\u001b[0m\u001b[1;33m)\u001b[0m\u001b[1;33m)\u001b[0m\u001b[1;33m\u001b[0m\u001b[1;33m\u001b[0m\u001b[0m\n\u001b[0m\u001b[0;32m     11\u001b[0m                 \u001b[0mtree\u001b[0m\u001b[1;33m[\u001b[0m\u001b[0mchild\u001b[0m\u001b[1;33m[\u001b[0m\u001b[1;36m1\u001b[0m\u001b[1;33m]\u001b[0m\u001b[1;33m]\u001b[0m\u001b[1;33m=\u001b[0m\u001b[0mvalue\u001b[0m\u001b[1;33m\u001b[0m\u001b[1;33m\u001b[0m\u001b[0m\n\u001b[0;32m     12\u001b[0m         \u001b[1;32melif\u001b[0m \u001b[0mstate\u001b[0m\u001b[1;33m.\u001b[0m\u001b[0mdepth\u001b[0m\u001b[1;33m%\u001b[0m\u001b[1;36m2\u001b[0m\u001b[1;33m==\u001b[0m\u001b[1;36m0\u001b[0m\u001b[1;33m:\u001b[0m\u001b[1;33m\u001b[0m\u001b[1;33m\u001b[0m\u001b[0m\n",
      "\u001b[1;32m<ipython-input-18-f8f97c99de1e>\u001b[0m in \u001b[0;36mminimax\u001b[1;34m(state, tree)\u001b[0m\n\u001b[0;32m     13\u001b[0m             \u001b[1;32mfor\u001b[0m \u001b[0mchild\u001b[0m \u001b[1;32min\u001b[0m \u001b[0mstate\u001b[0m\u001b[1;33m.\u001b[0m\u001b[0mchild_node\u001b[0m\u001b[1;33m(\u001b[0m\u001b[1;33m)\u001b[0m\u001b[1;33m:\u001b[0m\u001b[1;33m\u001b[0m\u001b[1;33m\u001b[0m\u001b[0m\n\u001b[0;32m     14\u001b[0m                 \u001b[0mnode\u001b[0m\u001b[1;33m=\u001b[0m\u001b[0mState\u001b[0m\u001b[1;33m(\u001b[0m\u001b[0mchild\u001b[0m\u001b[1;33m[\u001b[0m\u001b[1;36m0\u001b[0m\u001b[1;33m]\u001b[0m\u001b[1;33m)\u001b[0m\u001b[1;33m\u001b[0m\u001b[1;33m\u001b[0m\u001b[0m\n\u001b[1;32m---> 15\u001b[1;33m                 \u001b[0mvalue\u001b[0m\u001b[1;33m=\u001b[0m\u001b[0mmin\u001b[0m\u001b[1;33m(\u001b[0m\u001b[0mstate\u001b[0m\u001b[1;33m.\u001b[0m\u001b[0mdepth\u001b[0m\u001b[1;33m,\u001b[0m\u001b[0mminimax\u001b[0m\u001b[1;33m(\u001b[0m\u001b[0mnode\u001b[0m\u001b[1;33m,\u001b[0m\u001b[0mtree\u001b[0m\u001b[1;33m)\u001b[0m\u001b[1;33m)\u001b[0m\u001b[1;33m\u001b[0m\u001b[1;33m\u001b[0m\u001b[0m\n\u001b[0m\u001b[0;32m     16\u001b[0m                 \u001b[0mtree\u001b[0m\u001b[1;33m[\u001b[0m\u001b[0mchild\u001b[0m\u001b[1;33m[\u001b[0m\u001b[1;36m1\u001b[0m\u001b[1;33m]\u001b[0m\u001b[1;33m]\u001b[0m\u001b[1;33m=\u001b[0m\u001b[0mvalue\u001b[0m\u001b[1;33m\u001b[0m\u001b[1;33m\u001b[0m\u001b[0m\n\u001b[0;32m     17\u001b[0m         \u001b[1;32mreturn\u001b[0m \u001b[0mvalue\u001b[0m\u001b[1;33m\u001b[0m\u001b[1;33m\u001b[0m\u001b[0m\n",
      "\u001b[1;32m<ipython-input-18-f8f97c99de1e>\u001b[0m in \u001b[0;36mminimax\u001b[1;34m(state, tree)\u001b[0m\n\u001b[0;32m      9\u001b[0m                 \u001b[0mnode\u001b[0m\u001b[1;33m=\u001b[0m\u001b[0mState\u001b[0m\u001b[1;33m(\u001b[0m\u001b[0mchild\u001b[0m\u001b[1;33m[\u001b[0m\u001b[1;36m0\u001b[0m\u001b[1;33m]\u001b[0m\u001b[1;33m)\u001b[0m\u001b[1;33m\u001b[0m\u001b[1;33m\u001b[0m\u001b[0m\n\u001b[0;32m     10\u001b[0m                 \u001b[0mvalue\u001b[0m\u001b[1;33m=\u001b[0m\u001b[0mmax\u001b[0m\u001b[1;33m(\u001b[0m\u001b[0mstate\u001b[0m\u001b[1;33m.\u001b[0m\u001b[0mdepth\u001b[0m\u001b[1;33m,\u001b[0m\u001b[0mminimax\u001b[0m\u001b[1;33m(\u001b[0m\u001b[0mnode\u001b[0m\u001b[1;33m,\u001b[0m\u001b[0mtree\u001b[0m\u001b[1;33m)\u001b[0m\u001b[1;33m)\u001b[0m\u001b[1;33m\u001b[0m\u001b[1;33m\u001b[0m\u001b[0m\n\u001b[1;32m---> 11\u001b[1;33m                 \u001b[0mtree\u001b[0m\u001b[1;33m[\u001b[0m\u001b[0mchild\u001b[0m\u001b[1;33m[\u001b[0m\u001b[1;36m1\u001b[0m\u001b[1;33m]\u001b[0m\u001b[1;33m]\u001b[0m\u001b[1;33m=\u001b[0m\u001b[0mvalue\u001b[0m\u001b[1;33m\u001b[0m\u001b[1;33m\u001b[0m\u001b[0m\n\u001b[0m\u001b[0;32m     12\u001b[0m         \u001b[1;32melif\u001b[0m \u001b[0mstate\u001b[0m\u001b[1;33m.\u001b[0m\u001b[0mdepth\u001b[0m\u001b[1;33m%\u001b[0m\u001b[1;36m2\u001b[0m\u001b[1;33m==\u001b[0m\u001b[1;36m0\u001b[0m\u001b[1;33m:\u001b[0m\u001b[1;33m\u001b[0m\u001b[1;33m\u001b[0m\u001b[0m\n\u001b[0;32m     13\u001b[0m             \u001b[1;32mfor\u001b[0m \u001b[0mchild\u001b[0m \u001b[1;32min\u001b[0m \u001b[0mstate\u001b[0m\u001b[1;33m.\u001b[0m\u001b[0mchild_node\u001b[0m\u001b[1;33m(\u001b[0m\u001b[1;33m)\u001b[0m\u001b[1;33m:\u001b[0m\u001b[1;33m\u001b[0m\u001b[1;33m\u001b[0m\u001b[0m\n",
      "\u001b[1;31mTypeError\u001b[0m: unhashable type: 'list'"
     ]
    }
   ],
   "source": [
    "main(five)"
   ]
  },
  {
   "cell_type": "code",
   "execution_count": null,
   "metadata": {},
   "outputs": [],
   "source": []
  }
 ],
 "metadata": {
  "kernelspec": {
   "display_name": "Python (games)",
   "language": "python",
   "name": "games"
  },
  "language_info": {
   "codemirror_mode": {
    "name": "ipython",
    "version": 3
   },
   "file_extension": ".py",
   "mimetype": "text/x-python",
   "name": "python",
   "nbconvert_exporter": "python",
   "pygments_lexer": "ipython3",
   "version": "3.6.8"
  }
 },
 "nbformat": 4,
 "nbformat_minor": 2
}
