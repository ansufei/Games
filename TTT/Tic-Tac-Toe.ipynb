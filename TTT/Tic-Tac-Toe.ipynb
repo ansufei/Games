{
 "cells": [
  {
   "cell_type": "markdown",
   "metadata": {},
   "source": [
    "<p style=\"font-family: Arial; font-size:3.75em;color:purple; font-style:bold\"><br>\n",
    "Tic-Tac-Toe\n",
    "</p><br>\n",
    "<strong>3x3 version of the <a href='https://en.wikipedia.org/wiki/Hex_(board_game)'>Hex game</a> solved using the minimax method</strong>"
   ]
  },
  {
   "cell_type": "markdown",
   "metadata": {},
   "source": [
    "Minimax works:\n",
    "- on games for 2 players\n",
    "- when a player's win is another player's loss: 0-sum games\n",
    "- when there is a complete information on the possible outcomes\n",
    "- where the goal of the game is to minimize loss (and we assume that the other player is trying to maximize gain)\n",
    "\n",
    "<p>Minimax can either be the brute force method of calculating every possible outcome, or improved using alpha-beta pruning (which eliminates sqrt(n) where n is the number of combinations for the brute-force method for the negamax solution, or n^0.75 otherwise)</p>\n",
    "<p>We calculate the probability to win for the first player only.</p>\n",
    "\n",
    "[@vbipin]('https://github.com/vbipin')\n",
    "The minimax should contain the following functions:\n",
    "* calculate the children of the current state (<strong>child_node</strong>): or for more complex games with some heuristics, divide into action(state) and move(state,action)\n",
    "* evaluate if the current state is terminal: either when reaching maximum depth or in case of win/loss (<strong>calc_value()</strong>)\n",
    "* utility function (<strong>calc_score()</strong>) that interprets the terminal state in terms of value for the player (typically, 1, -1 or 0). To assign different values to paths based on how fast they reach a terminal state, associate to each node a weight corresponding to the distance to the terminal state (a win becomes +1+depth_number, a losss -1-depth_number)\n",
    "* the minimax is a recursive function calculating the utility function for all the children of a given state, for each state. Since players alternate to play each state, the utility for a given state is reversed from the point of view of the original player."
   ]
  },
  {
   "cell_type": "markdown",
   "metadata": {},
   "source": [
    "### Calculate the win/loss function\n",
    "<a href='http://ohboyigettodomath.blogspot.com/2015/05/tic-tac-toe-as-magic-square.html'>Magic square trick</a>"
   ]
  },
  {
   "cell_type": "code",
   "execution_count": 1,
   "metadata": {},
   "outputs": [
    {
     "data": {
      "text/plain": [
       "11"
      ]
     },
     "execution_count": 1,
     "metadata": {},
     "output_type": "execute_result"
    }
   ],
   "source": [
    "import numpy as np\n",
    "numbered_grid=np.array([[2,7,6],[9,5,1],[4,3,8]])\n",
    "def calc_value(node,player):\n",
    "    node_player=np.array([1 if x==player else 0 for x in node.flatten()]).reshape(-1,3)\n",
    "    score_cols=max(sum(np.multiply(numbered_grid,node_player)))\n",
    "    score_rows=max(sum(np.multiply(numbered_grid,node_player.transpose())))\n",
    "    score_diagonal1=max(np.multiply(node_player.diagonal(),np.array([2,5,8])))\n",
    "    score_diagonal2=max(np.multiply(node_player[:,::-1].diagonal(),np.array([2,5,8])))\n",
    "    return max(score_cols,score_rows,score_diagonal1,score_diagonal2)\n",
    "\n",
    "calc_value(np.array([[1,1,-1], [1,-1,0], [0,0,0]]),1)"
   ]
  },
  {
   "cell_type": "code",
   "execution_count": 2,
   "metadata": {},
   "outputs": [
    {
     "data": {
      "text/plain": [
       "0"
      ]
     },
     "execution_count": 2,
     "metadata": {},
     "output_type": "execute_result"
    }
   ],
   "source": [
    "def calc_score(node,player):\n",
    "    if calc_value(node,player)==15:\n",
    "        return 1\n",
    "    elif calc_value(node,-player)==15:\n",
    "        return -1\n",
    "    return 0\n",
    "calc_score(np.array([[1,1,-1], [1,-1,0], [0,0,0]]),-1)"
   ]
  },
  {
   "cell_type": "markdown",
   "metadata": {},
   "source": [
    "### Create a child node"
   ]
  },
  {
   "cell_type": "code",
   "execution_count": 45,
   "metadata": {},
   "outputs": [
    {
     "data": {
      "text/plain": [
       "[array([[ 1,  1, -1],\n",
       "        [ 1, -1,  0],\n",
       "        [-1,  0,  0]]), array([[ 1,  1,  0],\n",
       "        [ 1, -1, -1],\n",
       "        [-1,  0,  0]]), array([[ 1,  1,  0],\n",
       "        [ 1, -1,  0],\n",
       "        [-1, -1,  0]]), array([[ 1,  1,  0],\n",
       "        [ 1, -1,  0],\n",
       "        [-1,  0, -1]])]"
      ]
     },
     "execution_count": 45,
     "metadata": {},
     "output_type": "execute_result"
    }
   ],
   "source": [
    "#contains a list of all the possible grids at the next move for a player\n",
    "def child_node(grid,player):\n",
    "    child_node=[]\n",
    "    child_grid=grid.copy()\n",
    "       \n",
    "    #find the location of the '0' in the grid\n",
    "    zeros=np.isin(grid,0)\n",
    "    nb_children=np.sum(zeros)\n",
    "    \n",
    "    #replace each remaining 0 by 'player' one by one and append the resulting grid to the child_node list\n",
    "    itemindex = np.where(grid==0)\n",
    "    for child in range(0,nb_children):\n",
    "        child_grid[itemindex[0][child]][itemindex[1][child]]=player\n",
    "        child_node.append(child_grid)\n",
    "        child_grid=grid.copy()\n",
    "    return child_node\n",
    "        \n",
    "child_node(np.array([[1,1,0],[1,-1,0],[-1,0,0]]),-1)"
   ]
  },
  {
   "cell_type": "code",
   "execution_count": 46,
   "metadata": {},
   "outputs": [
    {
     "name": "stdout",
     "output_type": "stream",
     "text": [
      "1 -1\n",
      "0 0\n",
      "-1 1\n"
     ]
    }
   ],
   "source": [
    "a_wins=np.array([[1,-1,0],[1,1,-1],[1,1,-1]])\n",
    "print(calc_score(a_wins,1),calc_score(a_wins,-1))\n",
    "draw=np.array([[1,-1,0],[1,1,-1],[0,1,-1]])\n",
    "print(calc_score(draw,1),calc_score(draw,-1))\n",
    "b_wins=np.array([[1,-1,-1],[1,1,-1],[0,1,-1]])\n",
    "print(calc_score(b_wins,1),calc_score(b_wins,-1))"
   ]
  },
  {
   "cell_type": "markdown",
   "metadata": {},
   "source": [
    "### Minimax"
   ]
  },
  {
   "cell_type": "code",
   "execution_count": 77,
   "metadata": {},
   "outputs": [],
   "source": [
    "#the game being symmetrical around zero, we can apply the negamax simplification\n",
    "def minimax(node,player,tree):\n",
    "    #Calculate the depth: equal to the remaining number of empty spaces in the grid\n",
    "    depth=np.sum(np.isin(node,0))\n",
    "    #evaluate if terminal state (only possible after the first player has played at least 3 times) or end of tree\n",
    "    terminal=depth<6 and calc_score(node,player)!=0\n",
    "    if depth==0 or terminal:\n",
    "        value=calc_score(node,player)+depth\n",
    "        tree[value]=node\n",
    "        return value\n",
    "    else:\n",
    "        if depth%2!=0:\n",
    "            for child in child_node(node,player):\n",
    "                value=max(depth,minimax(child,-player,tree))\n",
    "                tree[value]=child\n",
    "        elif depth%2==0:\n",
    "            for child in child_node(node,-player):\n",
    "                value=min(depth,minimax(child,player,tree))\n",
    "                tree[value]=child\n",
    "        return value"
   ]
  },
  {
   "cell_type": "code",
   "execution_count": 78,
   "metadata": {},
   "outputs": [],
   "source": [
    "def main(state=np.full(((3,3)),0),player=1):\n",
    "    tree={}\n",
    "    chance=minimax(state,player,tree)\n",
    "    depth=np.sum(np.isin(state,0))\n",
    "    print(state)\n",
    "    print('Likelihood to win: ',(chance-1)/depth)\n",
    "    if chance>1:\n",
    "        print('Strategy to win:')\n",
    "        print(tree[chance])"
   ]
  },
  {
   "cell_type": "code",
   "execution_count": 79,
   "metadata": {},
   "outputs": [
    {
     "name": "stdout",
     "output_type": "stream",
     "text": [
      "[[ 1 -1 -1]\n",
      " [ 0  1  0]\n",
      " [ 1  1 -1]]\n",
      "Likelihood to win:  -0.5\n",
      "None\n"
     ]
    }
   ],
   "source": [
    "last_but_one=np.array([[1,-1,-1],[0,1,0],[1,1,-1]])\n",
    "print(main(last_but_one,1))"
   ]
  },
  {
   "cell_type": "code",
   "execution_count": 80,
   "metadata": {},
   "outputs": [
    {
     "name": "stdout",
     "output_type": "stream",
     "text": [
      "[[ 1 -1  0]\n",
      " [ 1  1 -1]\n",
      " [ 0  1 -1]]\n",
      "Likelihood to win:  -0.5\n",
      "None\n"
     ]
    }
   ],
   "source": [
    "last_but_two=np.array([[1,-1,0],[1,1,-1],[0,1,-1]])\n",
    "print(main(last_but_two,-1))"
   ]
  },
  {
   "cell_type": "code",
   "execution_count": 81,
   "metadata": {},
   "outputs": [
    {
     "name": "stdout",
     "output_type": "stream",
     "text": [
      "[[ 1 -1  1]\n",
      " [ 0  0  0]\n",
      " [ 0  0  0]]\n",
      "Likelihood to win:  0.6666666666666666\n",
      "Strategy to win:\n",
      "[[ 1 -1  1]\n",
      " [ 0  0  0]\n",
      " [ 0  0 -1]]\n",
      "None -1\n"
     ]
    }
   ],
   "source": [
    "third=np.array([[1,-1,1],[0,0,0],[0,0,0]])\n",
    "print(main(third,1),-1)"
   ]
  },
  {
   "cell_type": "code",
   "execution_count": 82,
   "metadata": {},
   "outputs": [
    {
     "name": "stdout",
     "output_type": "stream",
     "text": [
      "[[0 0 0]\n",
      " [0 0 0]\n",
      " [0 0 0]]\n",
      "Likelihood to win:  0.8888888888888888\n",
      "Strategy to win:\n",
      "[[0 0 0]\n",
      " [0 0 0]\n",
      " [0 0 1]]\n",
      "None\n"
     ]
    }
   ],
   "source": [
    "origin=np.full(((3,3)),0)\n",
    "print(main(origin,1))"
   ]
  },
  {
   "cell_type": "code",
   "execution_count": 90,
   "metadata": {},
   "outputs": [
    {
     "name": "stdout",
     "output_type": "stream",
     "text": [
      "[[ 0  0  0]\n",
      " [ 0  0 -1]\n",
      " [ 1 -1  1]]\n",
      "Likelihood to win:  0.8\n",
      "Strategy to win:\n",
      "[[ 0  0  0]\n",
      " [ 0  1 -1]\n",
      " [ 1 -1  1]]\n"
     ]
    }
   ],
   "source": [
    "second=np.array([[0,0,0], [0,0,-1], [1,-1,1]])\n",
    "main(second,1)"
   ]
  },
  {
   "cell_type": "code",
   "execution_count": null,
   "metadata": {},
   "outputs": [],
   "source": []
  }
 ],
 "metadata": {
  "kernelspec": {
   "display_name": "Python (games)",
   "language": "python",
   "name": "games"
  },
  "language_info": {
   "codemirror_mode": {
    "name": "ipython",
    "version": 3
   },
   "file_extension": ".py",
   "mimetype": "text/x-python",
   "name": "python",
   "nbconvert_exporter": "python",
   "pygments_lexer": "ipython3",
   "version": "3.6.8"
  }
 },
 "nbformat": 4,
 "nbformat_minor": 2
}
