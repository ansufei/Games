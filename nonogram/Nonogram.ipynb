{
 "cells": [
  {
   "cell_type": "markdown",
   "metadata": {},
   "source": [
    "## Scrape public domain images"
   ]
  },
  {
   "cell_type": "code",
   "execution_count": 3,
   "metadata": {},
   "outputs": [],
   "source": [
    "from bs4 import BeautifulSoup\n",
    "import requests\n",
    "import urllib\n",
    "import os\n",
    "import io"
   ]
  },
  {
   "cell_type": "code",
   "execution_count": 4,
   "metadata": {},
   "outputs": [],
   "source": [
    "def save_vector_images(n):\n",
    "    url = 'https://publicdomainvectors.org'\n",
    "    soup = BeautifulSoup(requests.get(url).content,'html')\n",
    "    wrapper = soup.find('div', {'id': 'vectors'})\n",
    "    img = wrapper.findAll('img')\n",
    "    img_src = [i['src'] for i in img]\n",
    "    for i in img_src[:n]:            \n",
    "        req = urllib.request.Request(url+i, headers={'User-Agent' : \"Magic Browser\"}) \n",
    "        con = urllib.request.urlopen(req)\n",
    "        print(con.read())\n",
    "#         f = open(req, 'rb')\n",
    "#         img = Image.open(f)\n",
    "#             s = url.read()\n",
    "#         img = Image.open(con.read())\n",
    "\n",
    "#         img_file = io.BYtesIO(path_img.read())\n",
    "#         img = Image.open(img_file)\n",
    "#         img.save('nonogram/img/img_src')\n",
    "#save_vector_images(2)"
   ]
  },
  {
   "cell_type": "code",
   "execution_count": 5,
   "metadata": {},
   "outputs": [],
   "source": [
    "def save_public_images(n):\n",
    "    url = 'https://publicdomainvectors.org'\n",
    "    soup = BeautifulSoup(requests.get(url).content,'html')\n",
    "    wrapper = soup.find('div', {'id': 'vectors'})\n",
    "    img = wrapper.findAll('img')\n",
    "    img_src = [i['src'] for i in img]\n",
    "    for i in img_src[:n]:\n",
    "        try:\n",
    "            f = urllib.request.urlopen(url+i)\n",
    "        except urllib.request.HTTPError as e:\n",
    "             print (e.fp.read())\n",
    "            \n",
    "#         req = urllib.request.Request(url+i, headers={'User-Agent' : \"Magic Browser\"}) \n",
    "#         con = urllib.request.urlopen(req)\n",
    "# #         print(con.read())\n",
    "# #         f = open(req, 'rb')\n",
    "# #         img = Image.open(f)\n",
    "# #             s = url.read()\n",
    "#         img = Image.open(con.read())\n",
    "\n",
    "# #         img_file = io.BYtesIO(path_img.read())\n",
    "# #         img = Image.open(img_file)\n",
    "# #         img.save('nonogram/img/img_src')\n",
    "# save_public_images(2)"
   ]
  },
  {
   "cell_type": "markdown",
   "metadata": {},
   "source": [
    "## Pixelize and transform image"
   ]
  },
  {
   "cell_type": "code",
   "execution_count": 6,
   "metadata": {},
   "outputs": [],
   "source": [
    "from PIL import Image, ImageEnhance\n",
    "import numpy as np\n",
    "import matplotlib.pyplot as plt\n",
    "%matplotlib inline"
   ]
  },
  {
   "cell_type": "code",
   "execution_count": 7,
   "metadata": {},
   "outputs": [],
   "source": [
    "#Crop image (and remove banner)\n",
    "\n",
    "def remove_blank_col(image):\n",
    "    empty_col = []\n",
    "    for i in range(image.shape[1]):\n",
    "        col = image[:,i].tolist()\n",
    "        if col[1:] == col[:-1]:\n",
    "            empty_col.append(i)\n",
    "    image = np.delete(image, empty_col, axis=1)\n",
    "    return image\n",
    "\n",
    "def remove_blank_rows(image):\n",
    "    empty_row = []\n",
    "    for i in range(image.shape[0]):\n",
    "        row = image[i,:].tolist()\n",
    "        if row[1:] == row[:-1]:\n",
    "            empty_row.append(i)\n",
    "    image = np.delete(image, empty_row, axis=0)\n",
    "    return image\n",
    "\n",
    "def crop_image(img, banner=True):\n",
    "    w, h = img.size\n",
    "    if banner:\n",
    "        img = img.crop((0, 0, w, h-50))\n",
    "    img_arr = np.asarray(img)\n",
    "    crop_v = remove_blank_rows(img_arr)\n",
    "    crop_h = remove_blank_col(crop_v)\n",
    "    return crop_h"
   ]
  },
  {
   "cell_type": "code",
   "execution_count": 10,
   "metadata": {},
   "outputs": [],
   "source": [
    "#Resize and adjust colors\n",
    "\n",
    "def pixelize(n, img, new_img):\n",
    "    nw, nh = new_img.size\n",
    "    new_width =  int(nw * n / nh)\n",
    "    image = img.resize((new_width, n),resample=Image.BILINEAR)\n",
    "#     return image.resize(new_img.size, Image.NEAREST)\n",
    "    return image\n",
    "\n",
    "def remove_light_colors(image_arr, n):\n",
    "    high_value_filter = image_arr > n\n",
    "    image_arr[high_value_filter] = 255\n",
    "    return Image.fromarray(image_arr)\n",
    "\n",
    "def simplify_colors(image, n):\n",
    "    image = image.convert('P', palette=Image.ADAPTIVE, colors=n)\n",
    "    return image.convert(\"RGB\", palette=Image.ADAPTIVE, colors=n)\n",
    "\n",
    "def increase_sharpness(image, n):\n",
    "    sharpness = ImageEnhance.Sharpness(image)\n",
    "    return sharpness.enhance(n)\n",
    "\n",
    "def increase_contrast(image, n):\n",
    "    contrast = ImageEnhance.Contrast(image)\n",
    "    return contrast.enhance(n)\n",
    "\n",
    "def save_img(image):\n",
    "    image.save('pixel_img/' + source_file)"
   ]
  },
  {
   "cell_type": "code",
   "execution_count": 14,
   "metadata": {
    "scrolled": false
   },
   "outputs": [
    {
     "name": "stderr",
     "output_type": "stream",
     "text": [
      "/Users/mac/Documents/Projects/perso/Games/env/lib/python3.7/site-packages/ipykernel_launcher.py:6: DeprecationWarning: BILINEAR is deprecated and will be removed in Pillow 10 (2023-07-01). Use Resampling.BILINEAR instead.\n",
      "  \n",
      "/Users/mac/Documents/Projects/perso/Games/env/lib/python3.7/site-packages/ipykernel_launcher.py:16: DeprecationWarning: ADAPTIVE is deprecated and will be removed in Pillow 10 (2023-07-01). Use Palette.ADAPTIVE instead.\n",
      "  \n",
      "/Users/mac/Documents/Projects/perso/Games/env/lib/python3.7/site-packages/ipykernel_launcher.py:17: DeprecationWarning: ADAPTIVE is deprecated and will be removed in Pillow 10 (2023-07-01). Use Palette.ADAPTIVE instead.\n",
      "  app.launch_new_instance()\n"
     ]
    },
    {
     "data": {
      "image/png": "[encoded data removed]",
      "text/plain": [
       "<Figure size 640x480 with 1 Axes>"
      ]
     },
     "metadata": {},
     "output_type": "display_data"
    }
   ],
   "source": [
    "source_file = 'lantern-clipart-publicdomain.jpg'\n",
    "# spotted-shag.jpg\n",
    "# bell-boy-publicdomainvector.jpg\n",
    "# lantern-clipart-publicdomain.jpg\n",
    "# https://www.oldbookillustrations.com\n",
    "\n",
    "image = Image.open('img/' + source_file)\n",
    "cropped_img = Image.fromarray(crop_image(image), 'RGB')\n",
    "new_img = pixelize(30, image, cropped_img)\n",
    "new_img_arr = np.array(new_img).copy()\n",
    "# new_img = increase_contrast(new_img, 1)\n",
    "new_img = increase_sharpness(new_img, 1.5)\n",
    "new_img = remove_light_colors(np.array(new_img), 130)\n",
    "new_img = Image.fromarray(crop_image(new_img, banner=False))\n",
    "nb_colors = 3\n",
    "new_img = simplify_colors(new_img, nb_colors)\n",
    "plt.imshow(new_img)\n",
    "save_img(new_img)"
   ]
  },
  {
   "cell_type": "markdown",
   "metadata": {},
   "source": [
    "## Create nonogram grid"
   ]
  },
  {
   "cell_type": "code",
   "execution_count": 57,
   "metadata": {},
   "outputs": [
    {
     "data": {
      "text/plain": [
       "[[255, 255, 255], [103, 90, 79], [255, 255, 106]]"
      ]
     },
     "execution_count": 57,
     "metadata": {},
     "output_type": "execute_result"
    }
   ],
   "source": [
    "colors = new_img.getcolors()\n",
    "colors = [list(y) for (x, y) in colors]\n",
    "colors"
   ]
  },
  {
   "cell_type": "code",
   "execution_count": 105,
   "metadata": {},
   "outputs": [],
   "source": [
    "img_arr = np.array(new_img)\n",
    "grid = np.zeros(shape = (img_arr.shape[0], img_arr.shape[1]))\n",
    "for index, row in enumerate(img_arr):\n",
    "    grid[index] = [colors.index(list(x)) for x in row]"
   ]
  },
  {
   "cell_type": "code",
   "execution_count": null,
   "metadata": {},
   "outputs": [],
   "source": []
  }
 ],
 "metadata": {
  "kernelspec": {
   "display_name": "env",
   "language": "python",
   "name": "env"
  },
  "language_info": {
   "codemirror_mode": {
    "name": "ipython",
    "version": 3
   },
   "file_extension": ".py",
   "mimetype": "text/x-python",
   "name": "python",
   "nbconvert_exporter": "python",
   "pygments_lexer": "ipython3",
   "version": "3.7.6"
  },
  "vscode": {
   "interpreter": {
    "hash": "6172bc7c2c6224e96af60849adeee58773c2c143c869fb9f4da1521cec9d5c5c"
   }
  }
 },
 "nbformat": 4,
 "nbformat_minor": 2
}
