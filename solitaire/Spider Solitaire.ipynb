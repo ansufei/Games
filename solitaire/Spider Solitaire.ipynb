{
 "cells": [
  {
   "cell_type": "markdown",
   "metadata": {},
   "source": [
    "Spider Solitaire"
   ]
  },
  {
   "cell_type": "markdown",
   "metadata": {},
   "source": [
    "### One Suit Only"
   ]
  },
  {
   "cell_type": "code",
   "execution_count": 33,
   "metadata": {},
   "outputs": [
    {
     "data": {
      "text/plain": [
       "104"
      ]
     },
     "execution_count": 33,
     "metadata": {},
     "output_type": "execute_result"
    }
   ],
   "source": [
    "stack=list(range(13))*8\n",
    "len(stack)"
   ]
  },
  {
   "cell_type": "code",
   "execution_count": 37,
   "metadata": {},
   "outputs": [],
   "source": [
    "import random\n",
    "def uncover(stack,nb):\n",
    "    random.shuffle(stack)\n",
    "    return np.array(stack[:nb]),np.array(stack[nb:])"
   ]
  },
  {
   "cell_type": "code",
   "execution_count": 38,
   "metadata": {},
   "outputs": [],
   "source": [
    "#initial state\n",
    "uncovered,hidden=uncover(stack,10)"
   ]
  },
  {
   "cell_type": "code",
   "execution_count": 51,
   "metadata": {},
   "outputs": [
    {
     "data": {
      "text/plain": [
       "{'one': array(1),\n",
       " 'two': array(3),\n",
       " 'three': array(3),\n",
       " 'four': array(4),\n",
       " 'five': array(5),\n",
       " 'six': array(5),\n",
       " 'seven': array(6),\n",
       " 'eight': array(10),\n",
       " 'nine': array(11),\n",
       " 'ten': array(11)}"
      ]
     },
     "execution_count": 51,
     "metadata": {},
     "output_type": "execute_result"
    }
   ],
   "source": [
    "uncovered_dic={'one':[],'two':[],'three':[],'four':[],'five':[],'six':[],'seven':[],'eight':[],'nine':[],'ten':[]}\n",
    "i=0\n",
    "while i<10:\n",
    "    for key in uncovered_dic.keys():\n",
    "        uncovered_dic[key]=np.array(uncovered[i])\n",
    "        i+=1\n",
    "uncovered_dic"
   ]
  },
  {
   "cell_type": "code",
   "execution_count": 44,
   "metadata": {},
   "outputs": [],
   "source": [
    "#bundle together\n",
    "def consecutive(data, stepsize=1):\n",
    "    return np.split(np.sort(data), np.where(np.diff(data) != stepsize)[0]+1)"
   ]
  },
  {
   "cell_type": "code",
   "execution_count": 45,
   "metadata": {},
   "outputs": [
    {
     "name": "stdout",
     "output_type": "stream",
     "text": [
      "[1]\n",
      "[3]\n",
      "[3 4 5]\n",
      "[5 6]\n",
      "[10 11]\n",
      "[11]\n"
     ]
    }
   ],
   "source": [
    "for arr in consecutive(uncovered):\n",
    "    one_card,stack=uncover(stack,len(arr-1))\n",
    "    uncovered.append(one_card)"
   ]
  },
  {
   "cell_type": "code",
   "execution_count": 53,
   "metadata": {},
   "outputs": [
    {
     "data": {
      "text/plain": [
       "array([12,  3,  4,  4])"
      ]
     },
     "execution_count": 53,
     "metadata": {},
     "output_type": "execute_result"
    }
   ],
   "source": [
    "#update uncovered for the newly emptied spots\n",
    "rearrange=consecutive(uncovered)\n",
    "add_uncovered,new_stack=uncover(stack,10-len(rearrange))\n",
    "add_uncovered"
   ]
  },
  {
   "cell_type": "code",
   "execution_count": null,
   "metadata": {},
   "outputs": [],
   "source": []
  }
 ],
 "metadata": {
  "kernelspec": {
   "display_name": "Python (games)",
   "language": "python",
   "name": "games"
  },
  "language_info": {
   "codemirror_mode": {
    "name": "ipython",
    "version": 3
   },
   "file_extension": ".py",
   "mimetype": "text/x-python",
   "name": "python",
   "nbconvert_exporter": "python",
   "pygments_lexer": "ipython3",
   "version": "3.6.8"
  }
 },
 "nbformat": 4,
 "nbformat_minor": 2
}
