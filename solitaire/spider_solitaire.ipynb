{
 "cells": [
  {
   "cell_type": "markdown",
   "metadata": {},
   "source": [
    "Spider Solitaire"
   ]
  },
  {
   "cell_type": "markdown",
   "metadata": {},
   "source": [
    "### One Suit Only"
   ]
  },
  {
   "cell_type": "code",
   "execution_count": 1,
   "metadata": {},
   "outputs": [
    {
     "data": {
      "text/plain": [
       "104"
      ]
     },
     "execution_count": 1,
     "metadata": {},
     "output_type": "execute_result"
    }
   ],
   "source": [
    "stack=list(range(13))*8\n",
    "len(stack)"
   ]
  },
  {
   "cell_type": "code",
   "execution_count": 2,
   "metadata": {},
   "outputs": [],
   "source": [
    "import random\n",
    "import numpy as np\n",
    "\n",
    "def uncover(stack,nb):\n",
    "    #outputs the list of uncovered cards (of length nb) and the stack minus nb of uncovered cards. \n",
    "    random.shuffle(stack)\n",
    "    return stack[:nb],stack[nb:]"
   ]
  },
  {
   "cell_type": "code",
   "execution_count": 3,
   "metadata": {},
   "outputs": [
    {
     "data": {
      "text/plain": [
       "[2, 3, 7, 7, 5, 5, 1, 6, 11, 8]"
      ]
     },
     "execution_count": 3,
     "metadata": {},
     "output_type": "execute_result"
    }
   ],
   "source": [
    "#initial state\n",
    "uncovered,hidden=uncover(stack,10)\n",
    "uncovered"
   ]
  },
  {
   "cell_type": "code",
   "execution_count": 7,
   "metadata": {},
   "outputs": [],
   "source": [
    "def weed_duplicates(data):\n",
    "    data.sort()\n",
    "    i=0\n",
    "    dupl=[]\n",
    "    while i<len(data)-1:\n",
    "        if data[i+1]==data[i]:\n",
    "            dupl.append(data.pop(data.index(data[i+1])))\n",
    "            i-=1\n",
    "        i+=1\n",
    "    return data,dupl\n",
    "\n",
    "sorted_uncovered=[]\n",
    "duplicates=uncovered.copy()\n",
    "while len(set(duplicates))<len(duplicates):\n",
    "    data_tmp,duplicates=weed_duplicates(duplicates)\n",
    "    sorted_uncovered.append(data_tmp)    \n",
    "sorted_uncovered.append(duplicates)"
   ]
  },
  {
   "cell_type": "code",
   "execution_count": 8,
   "metadata": {},
   "outputs": [
    {
     "data": {
      "text/plain": [
       "[[1, 2, 3, 5, 6, 7, 8, 11], [5, 7]]"
      ]
     },
     "execution_count": 8,
     "metadata": {},
     "output_type": "execute_result"
    }
   ],
   "source": [
    "sorted_uncovered"
   ]
  },
  {
   "cell_type": "code",
   "execution_count": 5,
   "metadata": {},
   "outputs": [],
   "source": [
    "#bundle together\n",
    "def consecutive(data, stepsize=1):\n",
    "    return np.split(data, np.where(np.diff(data) != stepsize)[0]+1)"
   ]
  },
  {
   "cell_type": "code",
   "execution_count": 9,
   "metadata": {},
   "outputs": [
    {
     "name": "stdout",
     "output_type": "stream",
     "text": [
      "[array([1, 2, 3]), array([5, 6, 7, 8]), array([11]), array([5]), array([7])]\n"
     ]
    },
    {
     "data": {
      "text/plain": [
       "[6, 3, 10, 12, 11]"
      ]
     },
     "execution_count": 9,
     "metadata": {},
     "output_type": "execute_result"
    }
   ],
   "source": [
    "#update uncovered for the newly emptied spots\n",
    "# rearrange=[item for sublist in rearrange for item in sublist]\n",
    "import itertools\n",
    "rearrange=[]\n",
    "for sublist in sorted_uncovered:\n",
    "    rearrange.append(consecutive(sublist))\n",
    "rearrange=list(itertools.chain(*rearrange))\n",
    "print(rearrange)\n",
    "add_uncovered,new_stack=uncover(stack,10-len(rearrange))\n",
    "add_uncovered"
   ]
  },
  {
   "cell_type": "code",
   "execution_count": 10,
   "metadata": {},
   "outputs": [],
   "source": [
    "uncovered_dic={'0':[],'1':[],'2':[],'3':[],'4':[],'5':[],'6':[],'7':[],'8':[],'9':[]}\n",
    "for key,item in uncovered_dic.items():\n",
    "    uncovered_dic[key]=[uncovered[int(key)]]"
   ]
  },
  {
   "cell_type": "code",
   "execution_count": 11,
   "metadata": {},
   "outputs": [
    {
     "data": {
      "text/plain": [
       "{'0': [2],\n",
       " '1': [3],\n",
       " '2': [7],\n",
       " '3': [7],\n",
       " '4': [5],\n",
       " '5': [5],\n",
       " '6': [1],\n",
       " '7': [6],\n",
       " '8': [11],\n",
       " '9': [8]}"
      ]
     },
     "execution_count": 11,
     "metadata": {},
     "output_type": "execute_result"
    }
   ],
   "source": [
    "uncovered_dic"
   ]
  },
  {
   "cell_type": "code",
   "execution_count": 93,
   "metadata": {},
   "outputs": [
    {
     "name": "stdout",
     "output_type": "stream",
     "text": [
      "[4]\n",
      "[0]\n",
      "case 3\n",
      "new key [4, 8]\n",
      "[9]\n",
      "[4]\n",
      "case 3\n",
      "new key [9, 3]\n",
      "[0]\n",
      "[6]\n",
      "[10]\n",
      "[6]\n",
      "[6]\n",
      "[6]\n",
      "case 2\n",
      "[10]\n"
     ]
    },
    {
     "ename": "IndexError",
     "evalue": "list index out of range",
     "output_type": "error",
     "traceback": [
      "\u001b[1;31m---------------------------------------------------------------------------\u001b[0m",
      "\u001b[1;31mIndexError\u001b[0m                                Traceback (most recent call last)",
      "\u001b[1;32m<ipython-input-93-404c0d755266>\u001b[0m in \u001b[0;36m<module>\u001b[1;34m\u001b[0m\n\u001b[0;32m      3\u001b[0m \u001b[1;32mfor\u001b[0m \u001b[0mkey\u001b[0m\u001b[1;33m,\u001b[0m\u001b[0mitem\u001b[0m \u001b[1;32min\u001b[0m \u001b[0muncovered_dic\u001b[0m\u001b[1;33m.\u001b[0m\u001b[0mitems\u001b[0m\u001b[1;33m(\u001b[0m\u001b[1;33m)\u001b[0m\u001b[1;33m:\u001b[0m\u001b[1;33m\u001b[0m\u001b[1;33m\u001b[0m\u001b[0m\n\u001b[0;32m      4\u001b[0m     \u001b[0mprint\u001b[0m\u001b[1;33m(\u001b[0m\u001b[0mitem\u001b[0m\u001b[1;33m)\u001b[0m\u001b[1;33m\u001b[0m\u001b[1;33m\u001b[0m\u001b[0m\n\u001b[1;32m----> 5\u001b[1;33m     \u001b[0mprint\u001b[0m\u001b[1;33m(\u001b[0m\u001b[1;33m[\u001b[0m\u001b[0mrearrange\u001b[0m\u001b[1;33m[\u001b[0m\u001b[0mi\u001b[0m\u001b[1;33m]\u001b[0m\u001b[1;33m[\u001b[0m\u001b[1;36m0\u001b[0m\u001b[1;33m]\u001b[0m\u001b[1;33m]\u001b[0m\u001b[1;33m)\u001b[0m\u001b[1;33m\u001b[0m\u001b[1;33m\u001b[0m\u001b[0m\n\u001b[0m\u001b[0;32m      6\u001b[0m     \u001b[1;32mif\u001b[0m \u001b[0mlen\u001b[0m\u001b[1;33m(\u001b[0m\u001b[0mrearrange\u001b[0m\u001b[1;33m[\u001b[0m\u001b[0mi\u001b[0m\u001b[1;33m]\u001b[0m\u001b[1;33m)\u001b[0m\u001b[1;33m==\u001b[0m\u001b[1;36m1\u001b[0m\u001b[1;33m:\u001b[0m\u001b[1;33m\u001b[0m\u001b[1;33m\u001b[0m\u001b[0m\n\u001b[0;32m      7\u001b[0m         \u001b[1;32mif\u001b[0m \u001b[0mitem\u001b[0m\u001b[1;33m==\u001b[0m\u001b[0mrearrange\u001b[0m\u001b[1;33m[\u001b[0m\u001b[0mi\u001b[0m\u001b[1;33m]\u001b[0m\u001b[1;33m:\u001b[0m\u001b[1;33m\u001b[0m\u001b[1;33m\u001b[0m\u001b[0m\n",
      "\u001b[1;31mIndexError\u001b[0m: list index out of range"
     ]
    }
   ],
   "source": [
    "i=0\n",
    "j=0\n",
    "for key,item in uncovered_dic.items():\n",
    "    print(item)\n",
    "    print([rearrange[i][0]])\n",
    "    if len(rearrange[i])==1:\n",
    "        if item==rearrange[i]:\n",
    "            #the card was left untouched\n",
    "            print('case 1')\n",
    "        else:\n",
    "            print('case 3')\n",
    "            uncovered_dic[key]=item+[add_uncovered[j]]\n",
    "            print('new key',uncovered_dic[key])\n",
    "            i+=1\n",
    "            j+=1\n",
    "    elif item==[rearrange[i][0]]:\n",
    "        print('case 2')\n",
    "        i+=len(rearrange[i])-1\n",
    "uncovered_dic"
   ]
  },
  {
   "cell_type": "code",
   "execution_count": null,
   "metadata": {},
   "outputs": [],
   "source": []
  }
 ],
 "metadata": {
  "kernelspec": {
   "display_name": "Python (games)",
   "language": "python",
   "name": "games"
  }
 },
 "nbformat": 4,
 "nbformat_minor": 2
}
